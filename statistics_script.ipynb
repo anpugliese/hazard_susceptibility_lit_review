{
 "cells": [
  {
   "cell_type": "markdown",
   "id": "426bcc5d",
   "metadata": {},
   "source": [
    "# ML/DL techniques in the reviewed articles"
   ]
  },
  {
   "cell_type": "markdown",
   "id": "feff45db",
   "metadata": {},
   "source": [
    "This notebook summarises the ML/DL techniques used in the reviewd articles per hazard:\n",
    "-Air pollution: 534 articles considered for the following plots (the ones with at least 1 citation).\n",
    "-Urban Heat Island (UHI): all articles considered.\n",
    "-Flood: all articles considered.\n",
    "-Landslide: 402/511 articles considered for the following plots (the ones with at least 1 citation)."
   ]
  },
  {
   "cell_type": "code",
   "execution_count": 13,
   "id": "9b6fce28",
   "metadata": {},
   "outputs": [],
   "source": [
    "import pandas as pd\n",
    "import plotly.express as px\n",
    "pd.set_option('display.max_rows', 500)"
   ]
  },
  {
   "cell_type": "code",
   "execution_count": 74,
   "id": "e27d8a9a",
   "metadata": {},
   "outputs": [],
   "source": [
    "#Path definition\n",
    "root = './subselected_articles/'\n",
    "air_pollution_path = root + 'AP.csv'\n",
    "air_pollution_legend_path = root + 'AP_legend.csv'\n",
    "heat_island_path = root + 'UHI.csv'\n",
    "heat_island_legend_path = root + 'UHI_legend.csv'\n",
    "flooding_path = root + 'flooding.csv'\n",
    "flooding_legend_path = root + 'flooding_legend.csv'\n",
    "landslides_path = root + 'landslides.csv'\n",
    "landslides_legend_path = root + 'landslides_legend.csv'\n",
    "\n",
    "#Reading files\n",
    "air_pollution = pd.read_csv(air_pollution_path, index_col=0)\n",
    "air_pollution_legend = pd.read_csv(air_pollution_legend_path, index_col=0)\n",
    "heat_island = pd.read_csv(heat_island_path, index_col=0)\n",
    "heat_island_legend = pd.read_csv(heat_island_legend_path, index_col=0)\n",
    "flooding = pd.read_csv(flooding_path, index_col=0)\n",
    "flooding_legend = pd.read_csv(flooding_legend_path, index_col=0)\n",
    "landslides = pd.read_csv(landslides_path, index_col=0)\n",
    "landslides_legend = pd.read_csv(landslides_legend_path, index_col=0)"
   ]
  },
  {
   "cell_type": "code",
   "execution_count": 52,
   "id": "fdcf7b66",
   "metadata": {},
   "outputs": [],
   "source": [
    "def plot_data(df, set_style=False, log=False, threshold=25):\n",
    "    # Function to filter text based on the threshold\n",
    "    def filter_text(count, tag):\n",
    "        return tag if count >= threshold else \"\"\n",
    "    \n",
    "    # Apply the filter function to the 'Tag' column\n",
    "    df['Filtered Tag'] = df.apply(lambda row: filter_text(row['Count'], row['Tag']), axis=1)\n",
    "    \n",
    "    fig = px.bar(df, x=\"Category\", y=\"Count\", color=\"Count\", text=\"Filtered Tag\", color_continuous_scale=\"blugrn\", log_y=log)#.update_layout(\n",
    "        #template='plotly_white',\n",
    "        #plot_bgcolor='rgba(0, 0, 0, 0)',\n",
    "        #paper_bgcolor='rgba(0, 0, 0, 0)',\n",
    "    #)\n",
    "    \n",
    "    fig.update_traces(textposition='inside')\n",
    "    \n",
    "    if set_style:\n",
    "        fig.update_layout(\n",
    "            width=1800, height=1300,\n",
    "            xaxis_title=\"ML/DL categories\",\n",
    "            yaxis_title=\"Articles count\",\n",
    "            legend_title=\"Count\",\n",
    "            font=dict(\n",
    "                #family=\"Courier New, monospace\",\n",
    "                size=30,\n",
    "            )\n",
    "        )\n",
    "    \n",
    "    fig.show()\n"
   ]
  },
  {
   "cell_type": "code",
   "execution_count": 58,
   "id": "2d302f8f",
   "metadata": {
    "scrolled": true
   },
   "outputs": [],
   "source": [
    "def getTechniqueCount(articles, legend):\n",
    "    copyOfLegend = legend\n",
    "    copyOfArticles = articles\n",
    "    copyOfLegend['Count'] = 0\n",
    "    for index, row in copyOfArticles.iterrows():    \n",
    "        methods_line = row['ML/DL techniques']\n",
    "\n",
    "        if methods_line and isinstance(methods_line, str):\n",
    "            #print('method ' + row['ML/DL techniques'])\n",
    "            methods = methods_line.split(',')\n",
    "            for method in methods:\n",
    "                if ('(' in method):\n",
    "                    method = method.split('(')[0]\n",
    "                method = method.strip()\n",
    "                if method in copyOfLegend.index:\n",
    "                    copyOfLegend.at[method, 'Count'] += 1\n",
    "                else:\n",
    "                    print(method)\n",
    "    copyOfLegend = copyOfLegend.sort_values('Count',ascending=False)\n",
    "    #legend = legend.sort_values(by=['Count','Category'], ascending=[False,False])\n",
    "    copyOfLegend = copyOfLegend.reset_index()\n",
    "    copyOfLegend = copyOfLegend[copyOfLegend['Category'] != 'XAI']\n",
    "    return copyOfLegend"
   ]
  },
  {
   "cell_type": "markdown",
   "id": "cc8eb369",
   "metadata": {},
   "source": [
    "## Air pollution"
   ]
  },
  {
   "cell_type": "code",
   "execution_count": 63,
   "id": "bc06d519",
   "metadata": {},
   "outputs": [
    {
     "name": "stdout",
     "output_type": "stream",
     "text": [
      "RT\n"
     ]
    },
    {
     "data": {
      "application/vnd.plotly.v1+json": {
       "config": {
        "plotlyServerURL": "https://plot.ly"
       },
       "data": [
        {
         "alignmentgroup": "True",
         "hovertemplate": "Category=%{x}<br>Count=%{marker.color}<br>Filtered Tag=%{text}<extra></extra>",
         "legendgroup": "",
         "marker": {
          "color": [
           203,
           166,
           81,
           81,
           65,
           62,
           54,
           48,
           35,
           34,
           33,
           33,
           32,
           30,
           29,
           26,
           25,
           22,
           21,
           17,
           17,
           16,
           14,
           12,
           11,
           11,
           10,
           9,
           9,
           8,
           7,
           7,
           7,
           7,
           7,
           6,
           6,
           6,
           5,
           5,
           5,
           5,
           4,
           4,
           4,
           4,
           4,
           3,
           3,
           3,
           3,
           3,
           3,
           2,
           2,
           2,
           2,
           2,
           2,
           2,
           2,
           2,
           1,
           1,
           1,
           1,
           1,
           1,
           1,
           1,
           1,
           1,
           1,
           1,
           1,
           1,
           1,
           1,
           1,
           1,
           1,
           1,
           1,
           1,
           1,
           1,
           1,
           1,
           1,
           1,
           1,
           1,
           1,
           1,
           1,
           1,
           1,
           1,
           1,
           1,
           1,
           1,
           1,
           1,
           1,
           1,
           1,
           1,
           1,
           1,
           1,
           1,
           1,
           1,
           1,
           1,
           1
          ],
          "coloraxis": "coloraxis",
          "pattern": {
           "shape": ""
          }
         },
         "name": "",
         "offsetgroup": "",
         "orientation": "v",
         "showlegend": false,
         "text": [
          "LSTM",
          "RF",
          "CNN",
          "SVM",
          "XGB",
          "LR",
          "GRU",
          "ANN",
          "MLP",
          "GBDT",
          "RNN",
          "DNN",
          "DT",
          "KNN",
          "ELM",
          "BPNN",
          "ARIMA",
          "LASSO",
          "LGBM",
          "LUR",
          "RR",
          "GBM",
          "ERT",
          "GCN",
          "STACK",
          "AB",
          "GAM",
          "ER",
          "STLSTM",
          "STNN",
          "GNN",
          "RESNN",
          "CB",
          "DF",
          "SVR",
          "ANFIS",
          "AR",
          "GPR",
          "PCR",
          "EN",
          "PFM",
          "BDT",
          "SEQ2SEQ",
          "LOGR",
          "ESNN",
          "TCNN",
          "BODT",
          "TNN",
          "NB",
          "DCNN",
          "BNN",
          "RBFNN",
          "ARMA",
          "WNN",
          "LSSVM",
          "DBN",
          "PLSR",
          "STERT",
          "GBELM",
          "GAN",
          "AE",
          "ABELM",
          "XGBLR",
          "STXGB",
          "ADR",
          "SSKNN",
          "SSD",
          "CRS",
          "STRF",
          "ABBPNN",
          "STDT",
          "REPT",
          "M5P",
          "MIDA",
          "BR",
          "BMA",
          "BN",
          "BDNN",
          "ARC",
          "HGB",
          "RFR",
          "STLGBM",
          "STGBDT",
          "BADT",
          "BRT",
          "RSS",
          "MARS",
          "KRLS",
          "MSANN",
          "SADNN",
          "MGC",
          "GLSTM",
          "FCL",
          "VOL",
          "AEI",
          "DAE",
          "QRNN",
          "GRNN",
          "FNN",
          "STBPNN",
          "STDA",
          "TDGTN",
          "STT",
          "STOC",
          "STSVM",
          "STMLP",
          "STELM",
          "STGRU",
          "STI",
          "SOM",
          "VAE",
          "CUB",
          "DCP",
          "RSM",
          "GARCH",
          "MA",
          "VAR"
         ],
         "textposition": "inside",
         "type": "bar",
         "x": [
          "NN",
          "ENS",
          "NN",
          "SVM",
          "ENS",
          "LR",
          "NN",
          "NN",
          "NN",
          "ENS",
          "NN",
          "NN",
          "DT",
          "IB",
          "NN",
          "NN",
          "TS",
          "LR",
          "ENS",
          "LR",
          "LR",
          "ENS",
          "ENS",
          "NN",
          "ENS",
          "ENS",
          "LR",
          "LR",
          "NN",
          "NN",
          "NN",
          "NN",
          "ENS",
          "ENS",
          "SVM",
          "NN",
          "TS",
          "BAY",
          "DR",
          "NN",
          "TS",
          "ENS",
          "NN",
          "LR",
          "NN",
          "NN",
          "ENS",
          "NN",
          "BAY",
          "NN",
          "NN",
          "NN",
          "TS",
          "NN",
          "SVM",
          "NN",
          "DR",
          "ENS",
          "ENS",
          "NN",
          "NN",
          "ENS",
          "ENS",
          "ENS",
          "LR",
          "IB",
          "ENS",
          "LR",
          "ENS",
          "ENS",
          "DT",
          "DT",
          "DT",
          "DR",
          "BAY",
          "BAY",
          "BAY",
          "ENS",
          "ENS",
          "ENS",
          "ENS",
          "ENS",
          "ENS",
          "ENS",
          "ENS",
          "LR",
          "LR",
          "LR",
          "NN",
          "NN",
          "NN",
          "NN",
          "NN",
          "LR",
          "NN",
          "NN",
          "NN",
          "NN",
          "NN",
          "NN",
          "NN",
          "NN",
          "NN",
          "NN",
          "NN",
          "NN",
          "NN",
          "NN",
          "NN",
          "NN",
          "NN",
          "RS",
          "STAT",
          "STAT",
          "TS",
          "TS",
          "TS"
         ],
         "xaxis": "x",
         "y": [
          203,
          166,
          81,
          81,
          65,
          62,
          54,
          48,
          35,
          34,
          33,
          33,
          32,
          30,
          29,
          26,
          25,
          22,
          21,
          17,
          17,
          16,
          14,
          12,
          11,
          11,
          10,
          9,
          9,
          8,
          7,
          7,
          7,
          7,
          7,
          6,
          6,
          6,
          5,
          5,
          5,
          5,
          4,
          4,
          4,
          4,
          4,
          3,
          3,
          3,
          3,
          3,
          3,
          2,
          2,
          2,
          2,
          2,
          2,
          2,
          2,
          2,
          1,
          1,
          1,
          1,
          1,
          1,
          1,
          1,
          1,
          1,
          1,
          1,
          1,
          1,
          1,
          1,
          1,
          1,
          1,
          1,
          1,
          1,
          1,
          1,
          1,
          1,
          1,
          1,
          1,
          1,
          1,
          1,
          1,
          1,
          1,
          1,
          1,
          1,
          1,
          1,
          1,
          1,
          1,
          1,
          1,
          1,
          1,
          1,
          1,
          1,
          1,
          1,
          1,
          1,
          1
         ],
         "yaxis": "y"
        }
       ],
       "layout": {
        "barmode": "relative",
        "coloraxis": {
         "colorbar": {
          "title": {
           "text": "Count"
          }
         },
         "colorscale": [
          [
           0,
           "rgb(196, 230, 195)"
          ],
          [
           0.16666666666666666,
           "rgb(150, 210, 164)"
          ],
          [
           0.3333333333333333,
           "rgb(109, 188, 144)"
          ],
          [
           0.5,
           "rgb(77, 162, 132)"
          ],
          [
           0.6666666666666666,
           "rgb(54, 135, 122)"
          ],
          [
           0.8333333333333334,
           "rgb(38, 107, 110)"
          ],
          [
           1,
           "rgb(29, 79, 96)"
          ]
         ]
        },
        "legend": {
         "tracegroupgap": 0
        },
        "margin": {
         "t": 60
        },
        "template": {
         "data": {
          "bar": [
           {
            "error_x": {
             "color": "#2a3f5f"
            },
            "error_y": {
             "color": "#2a3f5f"
            },
            "marker": {
             "line": {
              "color": "#E5ECF6",
              "width": 0.5
             },
             "pattern": {
              "fillmode": "overlay",
              "size": 10,
              "solidity": 0.2
             }
            },
            "type": "bar"
           }
          ],
          "barpolar": [
           {
            "marker": {
             "line": {
              "color": "#E5ECF6",
              "width": 0.5
             },
             "pattern": {
              "fillmode": "overlay",
              "size": 10,
              "solidity": 0.2
             }
            },
            "type": "barpolar"
           }
          ],
          "carpet": [
           {
            "aaxis": {
             "endlinecolor": "#2a3f5f",
             "gridcolor": "white",
             "linecolor": "white",
             "minorgridcolor": "white",
             "startlinecolor": "#2a3f5f"
            },
            "baxis": {
             "endlinecolor": "#2a3f5f",
             "gridcolor": "white",
             "linecolor": "white",
             "minorgridcolor": "white",
             "startlinecolor": "#2a3f5f"
            },
            "type": "carpet"
           }
          ],
          "choropleth": [
           {
            "colorbar": {
             "outlinewidth": 0,
             "ticks": ""
            },
            "type": "choropleth"
           }
          ],
          "contour": [
           {
            "colorbar": {
             "outlinewidth": 0,
             "ticks": ""
            },
            "colorscale": [
             [
              0,
              "#0d0887"
             ],
             [
              0.1111111111111111,
              "#46039f"
             ],
             [
              0.2222222222222222,
              "#7201a8"
             ],
             [
              0.3333333333333333,
              "#9c179e"
             ],
             [
              0.4444444444444444,
              "#bd3786"
             ],
             [
              0.5555555555555556,
              "#d8576b"
             ],
             [
              0.6666666666666666,
              "#ed7953"
             ],
             [
              0.7777777777777778,
              "#fb9f3a"
             ],
             [
              0.8888888888888888,
              "#fdca26"
             ],
             [
              1,
              "#f0f921"
             ]
            ],
            "type": "contour"
           }
          ],
          "contourcarpet": [
           {
            "colorbar": {
             "outlinewidth": 0,
             "ticks": ""
            },
            "type": "contourcarpet"
           }
          ],
          "heatmap": [
           {
            "colorbar": {
             "outlinewidth": 0,
             "ticks": ""
            },
            "colorscale": [
             [
              0,
              "#0d0887"
             ],
             [
              0.1111111111111111,
              "#46039f"
             ],
             [
              0.2222222222222222,
              "#7201a8"
             ],
             [
              0.3333333333333333,
              "#9c179e"
             ],
             [
              0.4444444444444444,
              "#bd3786"
             ],
             [
              0.5555555555555556,
              "#d8576b"
             ],
             [
              0.6666666666666666,
              "#ed7953"
             ],
             [
              0.7777777777777778,
              "#fb9f3a"
             ],
             [
              0.8888888888888888,
              "#fdca26"
             ],
             [
              1,
              "#f0f921"
             ]
            ],
            "type": "heatmap"
           }
          ],
          "heatmapgl": [
           {
            "colorbar": {
             "outlinewidth": 0,
             "ticks": ""
            },
            "colorscale": [
             [
              0,
              "#0d0887"
             ],
             [
              0.1111111111111111,
              "#46039f"
             ],
             [
              0.2222222222222222,
              "#7201a8"
             ],
             [
              0.3333333333333333,
              "#9c179e"
             ],
             [
              0.4444444444444444,
              "#bd3786"
             ],
             [
              0.5555555555555556,
              "#d8576b"
             ],
             [
              0.6666666666666666,
              "#ed7953"
             ],
             [
              0.7777777777777778,
              "#fb9f3a"
             ],
             [
              0.8888888888888888,
              "#fdca26"
             ],
             [
              1,
              "#f0f921"
             ]
            ],
            "type": "heatmapgl"
           }
          ],
          "histogram": [
           {
            "marker": {
             "pattern": {
              "fillmode": "overlay",
              "size": 10,
              "solidity": 0.2
             }
            },
            "type": "histogram"
           }
          ],
          "histogram2d": [
           {
            "colorbar": {
             "outlinewidth": 0,
             "ticks": ""
            },
            "colorscale": [
             [
              0,
              "#0d0887"
             ],
             [
              0.1111111111111111,
              "#46039f"
             ],
             [
              0.2222222222222222,
              "#7201a8"
             ],
             [
              0.3333333333333333,
              "#9c179e"
             ],
             [
              0.4444444444444444,
              "#bd3786"
             ],
             [
              0.5555555555555556,
              "#d8576b"
             ],
             [
              0.6666666666666666,
              "#ed7953"
             ],
             [
              0.7777777777777778,
              "#fb9f3a"
             ],
             [
              0.8888888888888888,
              "#fdca26"
             ],
             [
              1,
              "#f0f921"
             ]
            ],
            "type": "histogram2d"
           }
          ],
          "histogram2dcontour": [
           {
            "colorbar": {
             "outlinewidth": 0,
             "ticks": ""
            },
            "colorscale": [
             [
              0,
              "#0d0887"
             ],
             [
              0.1111111111111111,
              "#46039f"
             ],
             [
              0.2222222222222222,
              "#7201a8"
             ],
             [
              0.3333333333333333,
              "#9c179e"
             ],
             [
              0.4444444444444444,
              "#bd3786"
             ],
             [
              0.5555555555555556,
              "#d8576b"
             ],
             [
              0.6666666666666666,
              "#ed7953"
             ],
             [
              0.7777777777777778,
              "#fb9f3a"
             ],
             [
              0.8888888888888888,
              "#fdca26"
             ],
             [
              1,
              "#f0f921"
             ]
            ],
            "type": "histogram2dcontour"
           }
          ],
          "mesh3d": [
           {
            "colorbar": {
             "outlinewidth": 0,
             "ticks": ""
            },
            "type": "mesh3d"
           }
          ],
          "parcoords": [
           {
            "line": {
             "colorbar": {
              "outlinewidth": 0,
              "ticks": ""
             }
            },
            "type": "parcoords"
           }
          ],
          "pie": [
           {
            "automargin": true,
            "type": "pie"
           }
          ],
          "scatter": [
           {
            "fillpattern": {
             "fillmode": "overlay",
             "size": 10,
             "solidity": 0.2
            },
            "type": "scatter"
           }
          ],
          "scatter3d": [
           {
            "line": {
             "colorbar": {
              "outlinewidth": 0,
              "ticks": ""
             }
            },
            "marker": {
             "colorbar": {
              "outlinewidth": 0,
              "ticks": ""
             }
            },
            "type": "scatter3d"
           }
          ],
          "scattercarpet": [
           {
            "marker": {
             "colorbar": {
              "outlinewidth": 0,
              "ticks": ""
             }
            },
            "type": "scattercarpet"
           }
          ],
          "scattergeo": [
           {
            "marker": {
             "colorbar": {
              "outlinewidth": 0,
              "ticks": ""
             }
            },
            "type": "scattergeo"
           }
          ],
          "scattergl": [
           {
            "marker": {
             "colorbar": {
              "outlinewidth": 0,
              "ticks": ""
             }
            },
            "type": "scattergl"
           }
          ],
          "scattermapbox": [
           {
            "marker": {
             "colorbar": {
              "outlinewidth": 0,
              "ticks": ""
             }
            },
            "type": "scattermapbox"
           }
          ],
          "scatterpolar": [
           {
            "marker": {
             "colorbar": {
              "outlinewidth": 0,
              "ticks": ""
             }
            },
            "type": "scatterpolar"
           }
          ],
          "scatterpolargl": [
           {
            "marker": {
             "colorbar": {
              "outlinewidth": 0,
              "ticks": ""
             }
            },
            "type": "scatterpolargl"
           }
          ],
          "scatterternary": [
           {
            "marker": {
             "colorbar": {
              "outlinewidth": 0,
              "ticks": ""
             }
            },
            "type": "scatterternary"
           }
          ],
          "surface": [
           {
            "colorbar": {
             "outlinewidth": 0,
             "ticks": ""
            },
            "colorscale": [
             [
              0,
              "#0d0887"
             ],
             [
              0.1111111111111111,
              "#46039f"
             ],
             [
              0.2222222222222222,
              "#7201a8"
             ],
             [
              0.3333333333333333,
              "#9c179e"
             ],
             [
              0.4444444444444444,
              "#bd3786"
             ],
             [
              0.5555555555555556,
              "#d8576b"
             ],
             [
              0.6666666666666666,
              "#ed7953"
             ],
             [
              0.7777777777777778,
              "#fb9f3a"
             ],
             [
              0.8888888888888888,
              "#fdca26"
             ],
             [
              1,
              "#f0f921"
             ]
            ],
            "type": "surface"
           }
          ],
          "table": [
           {
            "cells": {
             "fill": {
              "color": "#EBF0F8"
             },
             "line": {
              "color": "white"
             }
            },
            "header": {
             "fill": {
              "color": "#C8D4E3"
             },
             "line": {
              "color": "white"
             }
            },
            "type": "table"
           }
          ]
         },
         "layout": {
          "annotationdefaults": {
           "arrowcolor": "#2a3f5f",
           "arrowhead": 0,
           "arrowwidth": 1
          },
          "autotypenumbers": "strict",
          "coloraxis": {
           "colorbar": {
            "outlinewidth": 0,
            "ticks": ""
           }
          },
          "colorscale": {
           "diverging": [
            [
             0,
             "#8e0152"
            ],
            [
             0.1,
             "#c51b7d"
            ],
            [
             0.2,
             "#de77ae"
            ],
            [
             0.3,
             "#f1b6da"
            ],
            [
             0.4,
             "#fde0ef"
            ],
            [
             0.5,
             "#f7f7f7"
            ],
            [
             0.6,
             "#e6f5d0"
            ],
            [
             0.7,
             "#b8e186"
            ],
            [
             0.8,
             "#7fbc41"
            ],
            [
             0.9,
             "#4d9221"
            ],
            [
             1,
             "#276419"
            ]
           ],
           "sequential": [
            [
             0,
             "#0d0887"
            ],
            [
             0.1111111111111111,
             "#46039f"
            ],
            [
             0.2222222222222222,
             "#7201a8"
            ],
            [
             0.3333333333333333,
             "#9c179e"
            ],
            [
             0.4444444444444444,
             "#bd3786"
            ],
            [
             0.5555555555555556,
             "#d8576b"
            ],
            [
             0.6666666666666666,
             "#ed7953"
            ],
            [
             0.7777777777777778,
             "#fb9f3a"
            ],
            [
             0.8888888888888888,
             "#fdca26"
            ],
            [
             1,
             "#f0f921"
            ]
           ],
           "sequentialminus": [
            [
             0,
             "#0d0887"
            ],
            [
             0.1111111111111111,
             "#46039f"
            ],
            [
             0.2222222222222222,
             "#7201a8"
            ],
            [
             0.3333333333333333,
             "#9c179e"
            ],
            [
             0.4444444444444444,
             "#bd3786"
            ],
            [
             0.5555555555555556,
             "#d8576b"
            ],
            [
             0.6666666666666666,
             "#ed7953"
            ],
            [
             0.7777777777777778,
             "#fb9f3a"
            ],
            [
             0.8888888888888888,
             "#fdca26"
            ],
            [
             1,
             "#f0f921"
            ]
           ]
          },
          "colorway": [
           "#636efa",
           "#EF553B",
           "#00cc96",
           "#ab63fa",
           "#FFA15A",
           "#19d3f3",
           "#FF6692",
           "#B6E880",
           "#FF97FF",
           "#FECB52"
          ],
          "font": {
           "color": "#2a3f5f"
          },
          "geo": {
           "bgcolor": "white",
           "lakecolor": "white",
           "landcolor": "#E5ECF6",
           "showlakes": true,
           "showland": true,
           "subunitcolor": "white"
          },
          "hoverlabel": {
           "align": "left"
          },
          "hovermode": "closest",
          "mapbox": {
           "style": "light"
          },
          "paper_bgcolor": "white",
          "plot_bgcolor": "#E5ECF6",
          "polar": {
           "angularaxis": {
            "gridcolor": "white",
            "linecolor": "white",
            "ticks": ""
           },
           "bgcolor": "#E5ECF6",
           "radialaxis": {
            "gridcolor": "white",
            "linecolor": "white",
            "ticks": ""
           }
          },
          "scene": {
           "xaxis": {
            "backgroundcolor": "#E5ECF6",
            "gridcolor": "white",
            "gridwidth": 2,
            "linecolor": "white",
            "showbackground": true,
            "ticks": "",
            "zerolinecolor": "white"
           },
           "yaxis": {
            "backgroundcolor": "#E5ECF6",
            "gridcolor": "white",
            "gridwidth": 2,
            "linecolor": "white",
            "showbackground": true,
            "ticks": "",
            "zerolinecolor": "white"
           },
           "zaxis": {
            "backgroundcolor": "#E5ECF6",
            "gridcolor": "white",
            "gridwidth": 2,
            "linecolor": "white",
            "showbackground": true,
            "ticks": "",
            "zerolinecolor": "white"
           }
          },
          "shapedefaults": {
           "line": {
            "color": "#2a3f5f"
           }
          },
          "ternary": {
           "aaxis": {
            "gridcolor": "white",
            "linecolor": "white",
            "ticks": ""
           },
           "baxis": {
            "gridcolor": "white",
            "linecolor": "white",
            "ticks": ""
           },
           "bgcolor": "#E5ECF6",
           "caxis": {
            "gridcolor": "white",
            "linecolor": "white",
            "ticks": ""
           }
          },
          "title": {
           "x": 0.05
          },
          "xaxis": {
           "automargin": true,
           "gridcolor": "white",
           "linecolor": "white",
           "ticks": "",
           "title": {
            "standoff": 15
           },
           "zerolinecolor": "white",
           "zerolinewidth": 2
          },
          "yaxis": {
           "automargin": true,
           "gridcolor": "white",
           "linecolor": "white",
           "ticks": "",
           "title": {
            "standoff": 15
           },
           "zerolinecolor": "white",
           "zerolinewidth": 2
          }
         }
        },
        "xaxis": {
         "anchor": "y",
         "domain": [
          0,
          1
         ],
         "title": {
          "text": "Category"
         }
        },
        "yaxis": {
         "anchor": "x",
         "domain": [
          0,
          1
         ],
         "title": {
          "text": "Count"
         }
        }
       }
      }
     },
     "metadata": {},
     "output_type": "display_data"
    }
   ],
   "source": [
    "air_pollution_counts = getTechniqueCount(air_pollution, air_pollution_legend)\n",
    "plot_data(air_pollution_counts,False, False, 0)"
   ]
  },
  {
   "cell_type": "code",
   "execution_count": 70,
   "id": "2c95b71d",
   "metadata": {},
   "outputs": [
    {
     "data": {
      "text/html": [
       "<div>\n",
       "<style scoped>\n",
       "    .dataframe tbody tr th:only-of-type {\n",
       "        vertical-align: middle;\n",
       "    }\n",
       "\n",
       "    .dataframe tbody tr th {\n",
       "        vertical-align: top;\n",
       "    }\n",
       "\n",
       "    .dataframe thead th {\n",
       "        text-align: right;\n",
       "    }\n",
       "</style>\n",
       "<table border=\"1\" class=\"dataframe\">\n",
       "  <thead>\n",
       "    <tr style=\"text-align: right;\">\n",
       "      <th></th>\n",
       "      <th>Tag</th>\n",
       "      <th>Full Name</th>\n",
       "      <th>Category</th>\n",
       "      <th>Count</th>\n",
       "      <th>Filtered Tag</th>\n",
       "    </tr>\n",
       "  </thead>\n",
       "  <tbody>\n",
       "    <tr>\n",
       "      <th>0</th>\n",
       "      <td>LSTM</td>\n",
       "      <td>Long Short Term Memory</td>\n",
       "      <td>NN</td>\n",
       "      <td>203</td>\n",
       "      <td>LSTM</td>\n",
       "    </tr>\n",
       "    <tr>\n",
       "      <th>1</th>\n",
       "      <td>RF</td>\n",
       "      <td>Random Forest</td>\n",
       "      <td>ENS</td>\n",
       "      <td>166</td>\n",
       "      <td>RF</td>\n",
       "    </tr>\n",
       "    <tr>\n",
       "      <th>2</th>\n",
       "      <td>CNN</td>\n",
       "      <td>Convolutional Neural Networks</td>\n",
       "      <td>NN</td>\n",
       "      <td>81</td>\n",
       "      <td>CNN</td>\n",
       "    </tr>\n",
       "    <tr>\n",
       "      <th>3</th>\n",
       "      <td>SVM</td>\n",
       "      <td>Support Vector Machine</td>\n",
       "      <td>SVM</td>\n",
       "      <td>81</td>\n",
       "      <td>SVM</td>\n",
       "    </tr>\n",
       "    <tr>\n",
       "      <th>4</th>\n",
       "      <td>XGB</td>\n",
       "      <td>Extreme Gradient Boost</td>\n",
       "      <td>ENS</td>\n",
       "      <td>65</td>\n",
       "      <td>XGB</td>\n",
       "    </tr>\n",
       "    <tr>\n",
       "      <th>5</th>\n",
       "      <td>LR</td>\n",
       "      <td>Linear Regression</td>\n",
       "      <td>LR</td>\n",
       "      <td>62</td>\n",
       "      <td>LR</td>\n",
       "    </tr>\n",
       "    <tr>\n",
       "      <th>6</th>\n",
       "      <td>GRU</td>\n",
       "      <td>Gated Recurrent Unit</td>\n",
       "      <td>NN</td>\n",
       "      <td>54</td>\n",
       "      <td>GRU</td>\n",
       "    </tr>\n",
       "    <tr>\n",
       "      <th>7</th>\n",
       "      <td>ANN</td>\n",
       "      <td>Artificial Neural Network</td>\n",
       "      <td>NN</td>\n",
       "      <td>48</td>\n",
       "      <td>ANN</td>\n",
       "    </tr>\n",
       "    <tr>\n",
       "      <th>8</th>\n",
       "      <td>MLP</td>\n",
       "      <td>MultiLayer Perceptron</td>\n",
       "      <td>NN</td>\n",
       "      <td>35</td>\n",
       "      <td>MLP</td>\n",
       "    </tr>\n",
       "    <tr>\n",
       "      <th>9</th>\n",
       "      <td>GBDT</td>\n",
       "      <td>Gradient Boosting Decision Trees</td>\n",
       "      <td>ENS</td>\n",
       "      <td>34</td>\n",
       "      <td>GBDT</td>\n",
       "    </tr>\n",
       "    <tr>\n",
       "      <th>10</th>\n",
       "      <td>RNN</td>\n",
       "      <td>Recurrent Neural Network</td>\n",
       "      <td>NN</td>\n",
       "      <td>33</td>\n",
       "      <td>RNN</td>\n",
       "    </tr>\n",
       "    <tr>\n",
       "      <th>11</th>\n",
       "      <td>DNN</td>\n",
       "      <td>Deep Neural Network</td>\n",
       "      <td>NN</td>\n",
       "      <td>33</td>\n",
       "      <td>DNN</td>\n",
       "    </tr>\n",
       "    <tr>\n",
       "      <th>12</th>\n",
       "      <td>DT</td>\n",
       "      <td>Decision Trees</td>\n",
       "      <td>DT</td>\n",
       "      <td>32</td>\n",
       "      <td>DT</td>\n",
       "    </tr>\n",
       "    <tr>\n",
       "      <th>13</th>\n",
       "      <td>KNN</td>\n",
       "      <td>K-Nearest Neighbor</td>\n",
       "      <td>IB</td>\n",
       "      <td>30</td>\n",
       "      <td>KNN</td>\n",
       "    </tr>\n",
       "    <tr>\n",
       "      <th>14</th>\n",
       "      <td>ELM</td>\n",
       "      <td>Extreme Learning Machine</td>\n",
       "      <td>NN</td>\n",
       "      <td>29</td>\n",
       "      <td>ELM</td>\n",
       "    </tr>\n",
       "    <tr>\n",
       "      <th>15</th>\n",
       "      <td>BPNN</td>\n",
       "      <td>Back Propagration Neural Network</td>\n",
       "      <td>NN</td>\n",
       "      <td>26</td>\n",
       "      <td>BPNN</td>\n",
       "    </tr>\n",
       "    <tr>\n",
       "      <th>16</th>\n",
       "      <td>ARIMA</td>\n",
       "      <td>Autoregressive Integrated Moving Average</td>\n",
       "      <td>TS</td>\n",
       "      <td>25</td>\n",
       "      <td>ARIMA</td>\n",
       "    </tr>\n",
       "    <tr>\n",
       "      <th>17</th>\n",
       "      <td>LASSO</td>\n",
       "      <td>LASSO Regression</td>\n",
       "      <td>LR</td>\n",
       "      <td>22</td>\n",
       "      <td>LASSO</td>\n",
       "    </tr>\n",
       "    <tr>\n",
       "      <th>18</th>\n",
       "      <td>LGBM</td>\n",
       "      <td>Light Gradient Boosting Machine</td>\n",
       "      <td>ENS</td>\n",
       "      <td>21</td>\n",
       "      <td>LGBM</td>\n",
       "    </tr>\n",
       "    <tr>\n",
       "      <th>19</th>\n",
       "      <td>LUR</td>\n",
       "      <td>Land Use Regression</td>\n",
       "      <td>LR</td>\n",
       "      <td>17</td>\n",
       "      <td>LUR</td>\n",
       "    </tr>\n",
       "    <tr>\n",
       "      <th>20</th>\n",
       "      <td>RR</td>\n",
       "      <td>Ridge Regression</td>\n",
       "      <td>LR</td>\n",
       "      <td>17</td>\n",
       "      <td>RR</td>\n",
       "    </tr>\n",
       "    <tr>\n",
       "      <th>21</th>\n",
       "      <td>GBM</td>\n",
       "      <td>Gradient Boosting Machine</td>\n",
       "      <td>ENS</td>\n",
       "      <td>16</td>\n",
       "      <td>GBM</td>\n",
       "    </tr>\n",
       "    <tr>\n",
       "      <th>22</th>\n",
       "      <td>ERT</td>\n",
       "      <td>Extremely Randomized Trees</td>\n",
       "      <td>ENS</td>\n",
       "      <td>14</td>\n",
       "      <td>ERT</td>\n",
       "    </tr>\n",
       "    <tr>\n",
       "      <th>23</th>\n",
       "      <td>GCN</td>\n",
       "      <td>Graph Convolutional Network</td>\n",
       "      <td>NN</td>\n",
       "      <td>12</td>\n",
       "      <td>GCN</td>\n",
       "    </tr>\n",
       "    <tr>\n",
       "      <th>24</th>\n",
       "      <td>STACK</td>\n",
       "      <td>Stacking of heterogeneous models</td>\n",
       "      <td>ENS</td>\n",
       "      <td>11</td>\n",
       "      <td>STACK</td>\n",
       "    </tr>\n",
       "    <tr>\n",
       "      <th>25</th>\n",
       "      <td>AB</td>\n",
       "      <td>AdaBoost</td>\n",
       "      <td>ENS</td>\n",
       "      <td>11</td>\n",
       "      <td>AB</td>\n",
       "    </tr>\n",
       "    <tr>\n",
       "      <th>26</th>\n",
       "      <td>GAM</td>\n",
       "      <td>Generalized Additive Model</td>\n",
       "      <td>LR</td>\n",
       "      <td>10</td>\n",
       "      <td>GAM</td>\n",
       "    </tr>\n",
       "    <tr>\n",
       "      <th>27</th>\n",
       "      <td>ER</td>\n",
       "      <td>Elastic Regression</td>\n",
       "      <td>LR</td>\n",
       "      <td>9</td>\n",
       "      <td>ER</td>\n",
       "    </tr>\n",
       "    <tr>\n",
       "      <th>28</th>\n",
       "      <td>STLSTM</td>\n",
       "      <td>SpatioTemporal Long Short Term Memory</td>\n",
       "      <td>NN</td>\n",
       "      <td>9</td>\n",
       "      <td>STLSTM</td>\n",
       "    </tr>\n",
       "    <tr>\n",
       "      <th>29</th>\n",
       "      <td>STNN</td>\n",
       "      <td>SpatioTemporal Neural Networks</td>\n",
       "      <td>NN</td>\n",
       "      <td>8</td>\n",
       "      <td>STNN</td>\n",
       "    </tr>\n",
       "    <tr>\n",
       "      <th>30</th>\n",
       "      <td>GNN</td>\n",
       "      <td>Graph Neural Networks</td>\n",
       "      <td>NN</td>\n",
       "      <td>7</td>\n",
       "      <td>GNN</td>\n",
       "    </tr>\n",
       "    <tr>\n",
       "      <th>31</th>\n",
       "      <td>RESNN</td>\n",
       "      <td>Residual Neural Network</td>\n",
       "      <td>NN</td>\n",
       "      <td>7</td>\n",
       "      <td>RESNN</td>\n",
       "    </tr>\n",
       "    <tr>\n",
       "      <th>32</th>\n",
       "      <td>CB</td>\n",
       "      <td>CatBoost</td>\n",
       "      <td>ENS</td>\n",
       "      <td>7</td>\n",
       "      <td>CB</td>\n",
       "    </tr>\n",
       "    <tr>\n",
       "      <th>33</th>\n",
       "      <td>DF</td>\n",
       "      <td>Deep Forest</td>\n",
       "      <td>ENS</td>\n",
       "      <td>7</td>\n",
       "      <td>DF</td>\n",
       "    </tr>\n",
       "    <tr>\n",
       "      <th>34</th>\n",
       "      <td>SVR</td>\n",
       "      <td>Support Vector Regression</td>\n",
       "      <td>SVM</td>\n",
       "      <td>7</td>\n",
       "      <td>SVR</td>\n",
       "    </tr>\n",
       "    <tr>\n",
       "      <th>36</th>\n",
       "      <td>ANFIS</td>\n",
       "      <td>Adaptive Neuro-Fuzzy Inference System</td>\n",
       "      <td>NN</td>\n",
       "      <td>6</td>\n",
       "      <td>ANFIS</td>\n",
       "    </tr>\n",
       "    <tr>\n",
       "      <th>37</th>\n",
       "      <td>AR</td>\n",
       "      <td>AutoRegressive model</td>\n",
       "      <td>TS</td>\n",
       "      <td>6</td>\n",
       "      <td>AR</td>\n",
       "    </tr>\n",
       "    <tr>\n",
       "      <th>38</th>\n",
       "      <td>GPR</td>\n",
       "      <td>Gaussian Process Regression</td>\n",
       "      <td>BAY</td>\n",
       "      <td>6</td>\n",
       "      <td>GPR</td>\n",
       "    </tr>\n",
       "    <tr>\n",
       "      <th>39</th>\n",
       "      <td>PCR</td>\n",
       "      <td>Principal Component Regression</td>\n",
       "      <td>DR</td>\n",
       "      <td>5</td>\n",
       "      <td>PCR</td>\n",
       "    </tr>\n",
       "    <tr>\n",
       "      <th>40</th>\n",
       "      <td>EN</td>\n",
       "      <td>Elman Network</td>\n",
       "      <td>NN</td>\n",
       "      <td>5</td>\n",
       "      <td>EN</td>\n",
       "    </tr>\n",
       "    <tr>\n",
       "      <th>41</th>\n",
       "      <td>PFM</td>\n",
       "      <td>Prophet Forecasting Model</td>\n",
       "      <td>TS</td>\n",
       "      <td>5</td>\n",
       "      <td>PFM</td>\n",
       "    </tr>\n",
       "    <tr>\n",
       "      <th>42</th>\n",
       "      <td>BDT</td>\n",
       "      <td>Bagging Decision Trees</td>\n",
       "      <td>ENS</td>\n",
       "      <td>5</td>\n",
       "      <td>BDT</td>\n",
       "    </tr>\n",
       "    <tr>\n",
       "      <th>43</th>\n",
       "      <td>SEQ2SEQ</td>\n",
       "      <td>Sequence2Sequence RNN</td>\n",
       "      <td>NN</td>\n",
       "      <td>4</td>\n",
       "      <td>SEQ2SEQ</td>\n",
       "    </tr>\n",
       "    <tr>\n",
       "      <th>44</th>\n",
       "      <td>LOGR</td>\n",
       "      <td>Logistic Regression</td>\n",
       "      <td>LR</td>\n",
       "      <td>4</td>\n",
       "      <td>LOGR</td>\n",
       "    </tr>\n",
       "    <tr>\n",
       "      <th>45</th>\n",
       "      <td>ESNN</td>\n",
       "      <td>Echo State Neural Network</td>\n",
       "      <td>NN</td>\n",
       "      <td>4</td>\n",
       "      <td>ESNN</td>\n",
       "    </tr>\n",
       "    <tr>\n",
       "      <th>46</th>\n",
       "      <td>TCNN</td>\n",
       "      <td>Temporal Convolutional Neural Network</td>\n",
       "      <td>NN</td>\n",
       "      <td>4</td>\n",
       "      <td>TCNN</td>\n",
       "    </tr>\n",
       "    <tr>\n",
       "      <th>47</th>\n",
       "      <td>BODT</td>\n",
       "      <td>Boosted Decision Trees</td>\n",
       "      <td>ENS</td>\n",
       "      <td>4</td>\n",
       "      <td>BODT</td>\n",
       "    </tr>\n",
       "    <tr>\n",
       "      <th>48</th>\n",
       "      <td>TNN</td>\n",
       "      <td>Transformer Neural Network</td>\n",
       "      <td>NN</td>\n",
       "      <td>3</td>\n",
       "      <td>TNN</td>\n",
       "    </tr>\n",
       "    <tr>\n",
       "      <th>49</th>\n",
       "      <td>NB</td>\n",
       "      <td>Naive Bayes</td>\n",
       "      <td>BAY</td>\n",
       "      <td>3</td>\n",
       "      <td>NB</td>\n",
       "    </tr>\n",
       "    <tr>\n",
       "      <th>50</th>\n",
       "      <td>DCNN</td>\n",
       "      <td>Deep Convolutional Neural Network</td>\n",
       "      <td>NN</td>\n",
       "      <td>3</td>\n",
       "      <td>DCNN</td>\n",
       "    </tr>\n",
       "    <tr>\n",
       "      <th>51</th>\n",
       "      <td>BNN</td>\n",
       "      <td>Bayesian Neural Network</td>\n",
       "      <td>NN</td>\n",
       "      <td>3</td>\n",
       "      <td>BNN</td>\n",
       "    </tr>\n",
       "    <tr>\n",
       "      <th>52</th>\n",
       "      <td>RBFNN</td>\n",
       "      <td>Radial Basis Function Neural Network</td>\n",
       "      <td>NN</td>\n",
       "      <td>3</td>\n",
       "      <td>RBFNN</td>\n",
       "    </tr>\n",
       "    <tr>\n",
       "      <th>53</th>\n",
       "      <td>ARMA</td>\n",
       "      <td>Autoregressive Moving Average</td>\n",
       "      <td>TS</td>\n",
       "      <td>3</td>\n",
       "      <td>ARMA</td>\n",
       "    </tr>\n",
       "    <tr>\n",
       "      <th>54</th>\n",
       "      <td>WNN</td>\n",
       "      <td>Wavelet Neural Network</td>\n",
       "      <td>NN</td>\n",
       "      <td>2</td>\n",
       "      <td>WNN</td>\n",
       "    </tr>\n",
       "    <tr>\n",
       "      <th>55</th>\n",
       "      <td>LSSVM</td>\n",
       "      <td>Least Square Support Vector Machine</td>\n",
       "      <td>SVM</td>\n",
       "      <td>2</td>\n",
       "      <td>LSSVM</td>\n",
       "    </tr>\n",
       "    <tr>\n",
       "      <th>56</th>\n",
       "      <td>DBN</td>\n",
       "      <td>Deep Belief Network</td>\n",
       "      <td>NN</td>\n",
       "      <td>2</td>\n",
       "      <td>DBN</td>\n",
       "    </tr>\n",
       "    <tr>\n",
       "      <th>57</th>\n",
       "      <td>PLSR</td>\n",
       "      <td>Partial Least Square Regression</td>\n",
       "      <td>DR</td>\n",
       "      <td>2</td>\n",
       "      <td>PLSR</td>\n",
       "    </tr>\n",
       "    <tr>\n",
       "      <th>58</th>\n",
       "      <td>STERT</td>\n",
       "      <td>SpatioTemporal Extremely Randomized Trees</td>\n",
       "      <td>ENS</td>\n",
       "      <td>2</td>\n",
       "      <td>STERT</td>\n",
       "    </tr>\n",
       "    <tr>\n",
       "      <th>59</th>\n",
       "      <td>GBELM</td>\n",
       "      <td>Gradient Boosting Extreme Learning Machine</td>\n",
       "      <td>ENS</td>\n",
       "      <td>2</td>\n",
       "      <td>GBELM</td>\n",
       "    </tr>\n",
       "    <tr>\n",
       "      <th>60</th>\n",
       "      <td>GAN</td>\n",
       "      <td>Generative Adversarial Network</td>\n",
       "      <td>NN</td>\n",
       "      <td>2</td>\n",
       "      <td>GAN</td>\n",
       "    </tr>\n",
       "    <tr>\n",
       "      <th>61</th>\n",
       "      <td>AE</td>\n",
       "      <td>AutoEncoders</td>\n",
       "      <td>NN</td>\n",
       "      <td>2</td>\n",
       "      <td>AE</td>\n",
       "    </tr>\n",
       "    <tr>\n",
       "      <th>62</th>\n",
       "      <td>ABELM</td>\n",
       "      <td>AdaBoost Extreme Learning Machine</td>\n",
       "      <td>ENS</td>\n",
       "      <td>2</td>\n",
       "      <td>ABELM</td>\n",
       "    </tr>\n",
       "    <tr>\n",
       "      <th>63</th>\n",
       "      <td>XGBLR</td>\n",
       "      <td>Extreme Gradient Boost Linear Regression</td>\n",
       "      <td>ENS</td>\n",
       "      <td>1</td>\n",
       "      <td>XGBLR</td>\n",
       "    </tr>\n",
       "    <tr>\n",
       "      <th>64</th>\n",
       "      <td>STXGB</td>\n",
       "      <td>SpatioTemporal Extreme Gradient Boost</td>\n",
       "      <td>ENS</td>\n",
       "      <td>1</td>\n",
       "      <td>STXGB</td>\n",
       "    </tr>\n",
       "    <tr>\n",
       "      <th>65</th>\n",
       "      <td>ADR</td>\n",
       "      <td>Additive Regression</td>\n",
       "      <td>LR</td>\n",
       "      <td>1</td>\n",
       "      <td>ADR</td>\n",
       "    </tr>\n",
       "    <tr>\n",
       "      <th>66</th>\n",
       "      <td>SSKNN</td>\n",
       "      <td>SubSpace K Nearest Neighbor</td>\n",
       "      <td>IB</td>\n",
       "      <td>1</td>\n",
       "      <td>SSKNN</td>\n",
       "    </tr>\n",
       "    <tr>\n",
       "      <th>67</th>\n",
       "      <td>SSD</td>\n",
       "      <td>SubSpace Discriminant</td>\n",
       "      <td>ENS</td>\n",
       "      <td>1</td>\n",
       "      <td>SSD</td>\n",
       "    </tr>\n",
       "    <tr>\n",
       "      <th>68</th>\n",
       "      <td>CRS</td>\n",
       "      <td>Complete Subset Regression</td>\n",
       "      <td>LR</td>\n",
       "      <td>1</td>\n",
       "      <td>CRS</td>\n",
       "    </tr>\n",
       "    <tr>\n",
       "      <th>69</th>\n",
       "      <td>STRF</td>\n",
       "      <td>SpatioTemporal Random Forest</td>\n",
       "      <td>ENS</td>\n",
       "      <td>1</td>\n",
       "      <td>STRF</td>\n",
       "    </tr>\n",
       "    <tr>\n",
       "      <th>70</th>\n",
       "      <td>ABBPNN</td>\n",
       "      <td>AdaBoost BackPropagation Neural Network</td>\n",
       "      <td>ENS</td>\n",
       "      <td>1</td>\n",
       "      <td>ABBPNN</td>\n",
       "    </tr>\n",
       "    <tr>\n",
       "      <th>71</th>\n",
       "      <td>STDT</td>\n",
       "      <td>SpatioTemporal Decision Trees</td>\n",
       "      <td>DT</td>\n",
       "      <td>1</td>\n",
       "      <td>STDT</td>\n",
       "    </tr>\n",
       "    <tr>\n",
       "      <th>72</th>\n",
       "      <td>REPT</td>\n",
       "      <td>Reduced Error Pruning Tree</td>\n",
       "      <td>DT</td>\n",
       "      <td>1</td>\n",
       "      <td>REPT</td>\n",
       "    </tr>\n",
       "    <tr>\n",
       "      <th>73</th>\n",
       "      <td>M5P</td>\n",
       "      <td>M5 model trees</td>\n",
       "      <td>DT</td>\n",
       "      <td>1</td>\n",
       "      <td>M5P</td>\n",
       "    </tr>\n",
       "    <tr>\n",
       "      <th>74</th>\n",
       "      <td>MIDA</td>\n",
       "      <td>Mixture Discriminant Analysis</td>\n",
       "      <td>DR</td>\n",
       "      <td>1</td>\n",
       "      <td>MIDA</td>\n",
       "    </tr>\n",
       "    <tr>\n",
       "      <th>75</th>\n",
       "      <td>BR</td>\n",
       "      <td>Bayesian Regression</td>\n",
       "      <td>BAY</td>\n",
       "      <td>1</td>\n",
       "      <td>BR</td>\n",
       "    </tr>\n",
       "    <tr>\n",
       "      <th>76</th>\n",
       "      <td>BMA</td>\n",
       "      <td>Bayesian Moving Average</td>\n",
       "      <td>BAY</td>\n",
       "      <td>1</td>\n",
       "      <td>BMA</td>\n",
       "    </tr>\n",
       "    <tr>\n",
       "      <th>77</th>\n",
       "      <td>BN</td>\n",
       "      <td>Bayesian Network</td>\n",
       "      <td>BAY</td>\n",
       "      <td>1</td>\n",
       "      <td>BN</td>\n",
       "    </tr>\n",
       "    <tr>\n",
       "      <th>78</th>\n",
       "      <td>BDNN</td>\n",
       "      <td>Bagging Deep Neural Network</td>\n",
       "      <td>ENS</td>\n",
       "      <td>1</td>\n",
       "      <td>BDNN</td>\n",
       "    </tr>\n",
       "    <tr>\n",
       "      <th>79</th>\n",
       "      <td>ARC</td>\n",
       "      <td>Adaptively Resample and Combine</td>\n",
       "      <td>ENS</td>\n",
       "      <td>1</td>\n",
       "      <td>ARC</td>\n",
       "    </tr>\n",
       "    <tr>\n",
       "      <th>80</th>\n",
       "      <td>HGB</td>\n",
       "      <td>Histogram based Gradient Boost</td>\n",
       "      <td>ENS</td>\n",
       "      <td>1</td>\n",
       "      <td>HGB</td>\n",
       "    </tr>\n",
       "    <tr>\n",
       "      <th>81</th>\n",
       "      <td>RFR</td>\n",
       "      <td>Random Forest Regression</td>\n",
       "      <td>ENS</td>\n",
       "      <td>1</td>\n",
       "      <td>RFR</td>\n",
       "    </tr>\n",
       "    <tr>\n",
       "      <th>82</th>\n",
       "      <td>STLGBM</td>\n",
       "      <td>SpatioTemporal Light Gradient Boosting Machine</td>\n",
       "      <td>ENS</td>\n",
       "      <td>1</td>\n",
       "      <td>STLGBM</td>\n",
       "    </tr>\n",
       "    <tr>\n",
       "      <th>83</th>\n",
       "      <td>STGBDT</td>\n",
       "      <td>SpatioTemporal Gradient Boosted Decision Tree</td>\n",
       "      <td>ENS</td>\n",
       "      <td>1</td>\n",
       "      <td>STGBDT</td>\n",
       "    </tr>\n",
       "    <tr>\n",
       "      <th>84</th>\n",
       "      <td>BADT</td>\n",
       "      <td>Bayesian Additive Decision Trees</td>\n",
       "      <td>ENS</td>\n",
       "      <td>1</td>\n",
       "      <td>BADT</td>\n",
       "    </tr>\n",
       "    <tr>\n",
       "      <th>85</th>\n",
       "      <td>BRT</td>\n",
       "      <td>Boosted Regression Trees</td>\n",
       "      <td>ENS</td>\n",
       "      <td>1</td>\n",
       "      <td>BRT</td>\n",
       "    </tr>\n",
       "    <tr>\n",
       "      <th>86</th>\n",
       "      <td>RSS</td>\n",
       "      <td>Random Subspace</td>\n",
       "      <td>LR</td>\n",
       "      <td>1</td>\n",
       "      <td>RSS</td>\n",
       "    </tr>\n",
       "    <tr>\n",
       "      <th>87</th>\n",
       "      <td>MARS</td>\n",
       "      <td>Multivariate adaptive regression spline</td>\n",
       "      <td>LR</td>\n",
       "      <td>1</td>\n",
       "      <td>MARS</td>\n",
       "    </tr>\n",
       "    <tr>\n",
       "      <th>88</th>\n",
       "      <td>KRLS</td>\n",
       "      <td>Kernel-based Regularized Least Squares</td>\n",
       "      <td>LR</td>\n",
       "      <td>1</td>\n",
       "      <td>KRLS</td>\n",
       "    </tr>\n",
       "    <tr>\n",
       "      <th>89</th>\n",
       "      <td>MSANN</td>\n",
       "      <td>MultiStep Ahead Neural Network</td>\n",
       "      <td>NN</td>\n",
       "      <td>1</td>\n",
       "      <td>MSANN</td>\n",
       "    </tr>\n",
       "    <tr>\n",
       "      <th>90</th>\n",
       "      <td>SADNN</td>\n",
       "      <td>Self Adaptive Deep Neural Network</td>\n",
       "      <td>NN</td>\n",
       "      <td>1</td>\n",
       "      <td>SADNN</td>\n",
       "    </tr>\n",
       "    <tr>\n",
       "      <th>91</th>\n",
       "      <td>MGC</td>\n",
       "      <td>Multi-Grapch Convolution</td>\n",
       "      <td>NN</td>\n",
       "      <td>1</td>\n",
       "      <td>MGC</td>\n",
       "    </tr>\n",
       "    <tr>\n",
       "      <th>92</th>\n",
       "      <td>GLSTM</td>\n",
       "      <td>Graph Long Short Term Memory</td>\n",
       "      <td>NN</td>\n",
       "      <td>1</td>\n",
       "      <td>GLSTM</td>\n",
       "    </tr>\n",
       "    <tr>\n",
       "      <th>93</th>\n",
       "      <td>FCL</td>\n",
       "      <td>Full Connection Layers</td>\n",
       "      <td>NN</td>\n",
       "      <td>1</td>\n",
       "      <td>FCL</td>\n",
       "    </tr>\n",
       "    <tr>\n",
       "      <th>94</th>\n",
       "      <td>VOL</td>\n",
       "      <td>Volterra</td>\n",
       "      <td>LR</td>\n",
       "      <td>1</td>\n",
       "      <td>VOL</td>\n",
       "    </tr>\n",
       "    <tr>\n",
       "      <th>95</th>\n",
       "      <td>AEI</td>\n",
       "      <td>Autocorrelation Error Informer</td>\n",
       "      <td>NN</td>\n",
       "      <td>1</td>\n",
       "      <td>AEI</td>\n",
       "    </tr>\n",
       "    <tr>\n",
       "      <th>96</th>\n",
       "      <td>DAE</td>\n",
       "      <td>Deep AutoEncoder</td>\n",
       "      <td>NN</td>\n",
       "      <td>1</td>\n",
       "      <td>DAE</td>\n",
       "    </tr>\n",
       "    <tr>\n",
       "      <th>97</th>\n",
       "      <td>QRNN</td>\n",
       "      <td>Quasi-Recurrent Neural Networks</td>\n",
       "      <td>NN</td>\n",
       "      <td>1</td>\n",
       "      <td>QRNN</td>\n",
       "    </tr>\n",
       "    <tr>\n",
       "      <th>98</th>\n",
       "      <td>GRNN</td>\n",
       "      <td>General Regression Neural Network</td>\n",
       "      <td>NN</td>\n",
       "      <td>1</td>\n",
       "      <td>GRNN</td>\n",
       "    </tr>\n",
       "    <tr>\n",
       "      <th>99</th>\n",
       "      <td>FNN</td>\n",
       "      <td>Fuzzy Neural Network</td>\n",
       "      <td>NN</td>\n",
       "      <td>1</td>\n",
       "      <td>FNN</td>\n",
       "    </tr>\n",
       "    <tr>\n",
       "      <th>100</th>\n",
       "      <td>STBPNN</td>\n",
       "      <td>SpatioTemporal BackPropagation Neural Network</td>\n",
       "      <td>NN</td>\n",
       "      <td>1</td>\n",
       "      <td>STBPNN</td>\n",
       "    </tr>\n",
       "    <tr>\n",
       "      <th>101</th>\n",
       "      <td>STDA</td>\n",
       "      <td>SpatioTemporal Dynamic Advection</td>\n",
       "      <td>NN</td>\n",
       "      <td>1</td>\n",
       "      <td>STDA</td>\n",
       "    </tr>\n",
       "    <tr>\n",
       "      <th>102</th>\n",
       "      <td>TDGTN</td>\n",
       "      <td>Temporal Difference-based Graph Transformer Ne...</td>\n",
       "      <td>NN</td>\n",
       "      <td>1</td>\n",
       "      <td>TDGTN</td>\n",
       "    </tr>\n",
       "    <tr>\n",
       "      <th>103</th>\n",
       "      <td>STT</td>\n",
       "      <td>SpatioTemporal Transformer</td>\n",
       "      <td>NN</td>\n",
       "      <td>1</td>\n",
       "      <td>STT</td>\n",
       "    </tr>\n",
       "    <tr>\n",
       "      <th>104</th>\n",
       "      <td>STOC</td>\n",
       "      <td>SpatioTemporal Orthogonal Cube</td>\n",
       "      <td>NN</td>\n",
       "      <td>1</td>\n",
       "      <td>STOC</td>\n",
       "    </tr>\n",
       "    <tr>\n",
       "      <th>105</th>\n",
       "      <td>STSVM</td>\n",
       "      <td>SpatioTemporal Support Vector Machine</td>\n",
       "      <td>NN</td>\n",
       "      <td>1</td>\n",
       "      <td>STSVM</td>\n",
       "    </tr>\n",
       "    <tr>\n",
       "      <th>106</th>\n",
       "      <td>STMLP</td>\n",
       "      <td>SpatioTemporal MultiLayer Perceptron</td>\n",
       "      <td>NN</td>\n",
       "      <td>1</td>\n",
       "      <td>STMLP</td>\n",
       "    </tr>\n",
       "    <tr>\n",
       "      <th>107</th>\n",
       "      <td>STELM</td>\n",
       "      <td>SpatioTemporal Extreme Learning Machine</td>\n",
       "      <td>NN</td>\n",
       "      <td>1</td>\n",
       "      <td>STELM</td>\n",
       "    </tr>\n",
       "    <tr>\n",
       "      <th>108</th>\n",
       "      <td>STGRU</td>\n",
       "      <td>SpatioTemporal Gated Recurrent Unit</td>\n",
       "      <td>NN</td>\n",
       "      <td>1</td>\n",
       "      <td>STGRU</td>\n",
       "    </tr>\n",
       "    <tr>\n",
       "      <th>109</th>\n",
       "      <td>STI</td>\n",
       "      <td>SpatioTemporal Informer</td>\n",
       "      <td>NN</td>\n",
       "      <td>1</td>\n",
       "      <td>STI</td>\n",
       "    </tr>\n",
       "    <tr>\n",
       "      <th>110</th>\n",
       "      <td>SOM</td>\n",
       "      <td>Self Organizing Map</td>\n",
       "      <td>NN</td>\n",
       "      <td>1</td>\n",
       "      <td>SOM</td>\n",
       "    </tr>\n",
       "    <tr>\n",
       "      <th>111</th>\n",
       "      <td>VAE</td>\n",
       "      <td>Variational AutoEncoder</td>\n",
       "      <td>NN</td>\n",
       "      <td>1</td>\n",
       "      <td>VAE</td>\n",
       "    </tr>\n",
       "    <tr>\n",
       "      <th>112</th>\n",
       "      <td>CUB</td>\n",
       "      <td>Cubist</td>\n",
       "      <td>RS</td>\n",
       "      <td>1</td>\n",
       "      <td>CUB</td>\n",
       "    </tr>\n",
       "    <tr>\n",
       "      <th>113</th>\n",
       "      <td>DCP</td>\n",
       "      <td>Dynamic Conditional Pareto</td>\n",
       "      <td>STAT</td>\n",
       "      <td>1</td>\n",
       "      <td>DCP</td>\n",
       "    </tr>\n",
       "    <tr>\n",
       "      <th>114</th>\n",
       "      <td>RSM</td>\n",
       "      <td>Response Surface Model</td>\n",
       "      <td>STAT</td>\n",
       "      <td>1</td>\n",
       "      <td>RSM</td>\n",
       "    </tr>\n",
       "    <tr>\n",
       "      <th>115</th>\n",
       "      <td>GARCH</td>\n",
       "      <td>Generalized Autoregressive Conditional Heteros...</td>\n",
       "      <td>TS</td>\n",
       "      <td>1</td>\n",
       "      <td>GARCH</td>\n",
       "    </tr>\n",
       "    <tr>\n",
       "      <th>116</th>\n",
       "      <td>MA</td>\n",
       "      <td>Moving Average</td>\n",
       "      <td>TS</td>\n",
       "      <td>1</td>\n",
       "      <td>MA</td>\n",
       "    </tr>\n",
       "    <tr>\n",
       "      <th>117</th>\n",
       "      <td>VAR</td>\n",
       "      <td>Vector AutoRegression</td>\n",
       "      <td>TS</td>\n",
       "      <td>1</td>\n",
       "      <td>VAR</td>\n",
       "    </tr>\n",
       "  </tbody>\n",
       "</table>\n",
       "</div>"
      ],
      "text/plain": [
       "         Tag                                          Full Name Category  \\\n",
       "0       LSTM                             Long Short Term Memory       NN   \n",
       "1         RF                                      Random Forest      ENS   \n",
       "2        CNN                      Convolutional Neural Networks       NN   \n",
       "3        SVM                             Support Vector Machine      SVM   \n",
       "4        XGB                             Extreme Gradient Boost      ENS   \n",
       "5         LR                                  Linear Regression       LR   \n",
       "6        GRU                               Gated Recurrent Unit       NN   \n",
       "7        ANN                          Artificial Neural Network       NN   \n",
       "8        MLP                              MultiLayer Perceptron       NN   \n",
       "9       GBDT                   Gradient Boosting Decision Trees      ENS   \n",
       "10       RNN                           Recurrent Neural Network       NN   \n",
       "11       DNN                                Deep Neural Network       NN   \n",
       "12        DT                                     Decision Trees       DT   \n",
       "13       KNN                                 K-Nearest Neighbor       IB   \n",
       "14       ELM                           Extreme Learning Machine       NN   \n",
       "15      BPNN                   Back Propagration Neural Network       NN   \n",
       "16     ARIMA           Autoregressive Integrated Moving Average       TS   \n",
       "17     LASSO                                   LASSO Regression       LR   \n",
       "18      LGBM                    Light Gradient Boosting Machine      ENS   \n",
       "19       LUR                                Land Use Regression       LR   \n",
       "20        RR                                   Ridge Regression       LR   \n",
       "21       GBM                          Gradient Boosting Machine      ENS   \n",
       "22       ERT                         Extremely Randomized Trees      ENS   \n",
       "23       GCN                        Graph Convolutional Network       NN   \n",
       "24     STACK                   Stacking of heterogeneous models      ENS   \n",
       "25        AB                                           AdaBoost      ENS   \n",
       "26       GAM                         Generalized Additive Model       LR   \n",
       "27        ER                                 Elastic Regression       LR   \n",
       "28    STLSTM              SpatioTemporal Long Short Term Memory       NN   \n",
       "29      STNN                     SpatioTemporal Neural Networks       NN   \n",
       "30       GNN                              Graph Neural Networks       NN   \n",
       "31     RESNN                            Residual Neural Network       NN   \n",
       "32        CB                                           CatBoost      ENS   \n",
       "33        DF                                        Deep Forest      ENS   \n",
       "34       SVR                          Support Vector Regression      SVM   \n",
       "36     ANFIS              Adaptive Neuro-Fuzzy Inference System       NN   \n",
       "37        AR                               AutoRegressive model       TS   \n",
       "38       GPR                        Gaussian Process Regression      BAY   \n",
       "39       PCR                     Principal Component Regression       DR   \n",
       "40        EN                                      Elman Network       NN   \n",
       "41       PFM                          Prophet Forecasting Model       TS   \n",
       "42       BDT                             Bagging Decision Trees      ENS   \n",
       "43   SEQ2SEQ                              Sequence2Sequence RNN       NN   \n",
       "44      LOGR                                Logistic Regression       LR   \n",
       "45      ESNN                          Echo State Neural Network       NN   \n",
       "46      TCNN              Temporal Convolutional Neural Network       NN   \n",
       "47      BODT                             Boosted Decision Trees      ENS   \n",
       "48       TNN                         Transformer Neural Network       NN   \n",
       "49        NB                                        Naive Bayes      BAY   \n",
       "50      DCNN                  Deep Convolutional Neural Network       NN   \n",
       "51       BNN                            Bayesian Neural Network       NN   \n",
       "52     RBFNN               Radial Basis Function Neural Network       NN   \n",
       "53      ARMA                      Autoregressive Moving Average       TS   \n",
       "54       WNN                             Wavelet Neural Network       NN   \n",
       "55     LSSVM                Least Square Support Vector Machine      SVM   \n",
       "56       DBN                                Deep Belief Network       NN   \n",
       "57      PLSR                    Partial Least Square Regression       DR   \n",
       "58     STERT          SpatioTemporal Extremely Randomized Trees      ENS   \n",
       "59     GBELM         Gradient Boosting Extreme Learning Machine      ENS   \n",
       "60       GAN                     Generative Adversarial Network       NN   \n",
       "61        AE                                       AutoEncoders       NN   \n",
       "62     ABELM                  AdaBoost Extreme Learning Machine      ENS   \n",
       "63     XGBLR           Extreme Gradient Boost Linear Regression      ENS   \n",
       "64     STXGB              SpatioTemporal Extreme Gradient Boost      ENS   \n",
       "65       ADR                                Additive Regression       LR   \n",
       "66     SSKNN                        SubSpace K Nearest Neighbor       IB   \n",
       "67       SSD                              SubSpace Discriminant      ENS   \n",
       "68       CRS                         Complete Subset Regression       LR   \n",
       "69      STRF                       SpatioTemporal Random Forest      ENS   \n",
       "70    ABBPNN            AdaBoost BackPropagation Neural Network      ENS   \n",
       "71      STDT                      SpatioTemporal Decision Trees       DT   \n",
       "72      REPT                         Reduced Error Pruning Tree       DT   \n",
       "73       M5P                                     M5 model trees       DT   \n",
       "74      MIDA                      Mixture Discriminant Analysis       DR   \n",
       "75        BR                                Bayesian Regression      BAY   \n",
       "76       BMA                            Bayesian Moving Average      BAY   \n",
       "77        BN                                   Bayesian Network      BAY   \n",
       "78      BDNN                        Bagging Deep Neural Network      ENS   \n",
       "79       ARC                    Adaptively Resample and Combine      ENS   \n",
       "80       HGB                     Histogram based Gradient Boost      ENS   \n",
       "81       RFR                           Random Forest Regression      ENS   \n",
       "82    STLGBM     SpatioTemporal Light Gradient Boosting Machine      ENS   \n",
       "83    STGBDT      SpatioTemporal Gradient Boosted Decision Tree      ENS   \n",
       "84      BADT                   Bayesian Additive Decision Trees      ENS   \n",
       "85       BRT                           Boosted Regression Trees      ENS   \n",
       "86       RSS                                    Random Subspace       LR   \n",
       "87      MARS            Multivariate adaptive regression spline       LR   \n",
       "88      KRLS             Kernel-based Regularized Least Squares       LR   \n",
       "89     MSANN                     MultiStep Ahead Neural Network       NN   \n",
       "90     SADNN                  Self Adaptive Deep Neural Network       NN   \n",
       "91       MGC                           Multi-Grapch Convolution       NN   \n",
       "92     GLSTM                       Graph Long Short Term Memory       NN   \n",
       "93       FCL                             Full Connection Layers       NN   \n",
       "94       VOL                                           Volterra       LR   \n",
       "95       AEI                     Autocorrelation Error Informer       NN   \n",
       "96       DAE                                   Deep AutoEncoder       NN   \n",
       "97      QRNN                    Quasi-Recurrent Neural Networks       NN   \n",
       "98      GRNN                  General Regression Neural Network       NN   \n",
       "99       FNN                               Fuzzy Neural Network       NN   \n",
       "100   STBPNN      SpatioTemporal BackPropagation Neural Network       NN   \n",
       "101     STDA                   SpatioTemporal Dynamic Advection       NN   \n",
       "102    TDGTN  Temporal Difference-based Graph Transformer Ne...       NN   \n",
       "103      STT                         SpatioTemporal Transformer       NN   \n",
       "104     STOC                     SpatioTemporal Orthogonal Cube       NN   \n",
       "105    STSVM              SpatioTemporal Support Vector Machine       NN   \n",
       "106    STMLP               SpatioTemporal MultiLayer Perceptron       NN   \n",
       "107    STELM            SpatioTemporal Extreme Learning Machine       NN   \n",
       "108    STGRU                SpatioTemporal Gated Recurrent Unit       NN   \n",
       "109      STI                            SpatioTemporal Informer       NN   \n",
       "110      SOM                                Self Organizing Map       NN   \n",
       "111      VAE                            Variational AutoEncoder       NN   \n",
       "112      CUB                                             Cubist       RS   \n",
       "113      DCP                         Dynamic Conditional Pareto     STAT   \n",
       "114      RSM                             Response Surface Model     STAT   \n",
       "115    GARCH  Generalized Autoregressive Conditional Heteros...       TS   \n",
       "116       MA                                     Moving Average       TS   \n",
       "117      VAR                              Vector AutoRegression       TS   \n",
       "\n",
       "     Count Filtered Tag  \n",
       "0      203         LSTM  \n",
       "1      166           RF  \n",
       "2       81          CNN  \n",
       "3       81          SVM  \n",
       "4       65          XGB  \n",
       "5       62           LR  \n",
       "6       54          GRU  \n",
       "7       48          ANN  \n",
       "8       35          MLP  \n",
       "9       34         GBDT  \n",
       "10      33          RNN  \n",
       "11      33          DNN  \n",
       "12      32           DT  \n",
       "13      30          KNN  \n",
       "14      29          ELM  \n",
       "15      26         BPNN  \n",
       "16      25        ARIMA  \n",
       "17      22        LASSO  \n",
       "18      21         LGBM  \n",
       "19      17          LUR  \n",
       "20      17           RR  \n",
       "21      16          GBM  \n",
       "22      14          ERT  \n",
       "23      12          GCN  \n",
       "24      11        STACK  \n",
       "25      11           AB  \n",
       "26      10          GAM  \n",
       "27       9           ER  \n",
       "28       9       STLSTM  \n",
       "29       8         STNN  \n",
       "30       7          GNN  \n",
       "31       7        RESNN  \n",
       "32       7           CB  \n",
       "33       7           DF  \n",
       "34       7          SVR  \n",
       "36       6        ANFIS  \n",
       "37       6           AR  \n",
       "38       6          GPR  \n",
       "39       5          PCR  \n",
       "40       5           EN  \n",
       "41       5          PFM  \n",
       "42       5          BDT  \n",
       "43       4      SEQ2SEQ  \n",
       "44       4         LOGR  \n",
       "45       4         ESNN  \n",
       "46       4         TCNN  \n",
       "47       4         BODT  \n",
       "48       3          TNN  \n",
       "49       3           NB  \n",
       "50       3         DCNN  \n",
       "51       3          BNN  \n",
       "52       3        RBFNN  \n",
       "53       3         ARMA  \n",
       "54       2          WNN  \n",
       "55       2        LSSVM  \n",
       "56       2          DBN  \n",
       "57       2         PLSR  \n",
       "58       2        STERT  \n",
       "59       2        GBELM  \n",
       "60       2          GAN  \n",
       "61       2           AE  \n",
       "62       2        ABELM  \n",
       "63       1        XGBLR  \n",
       "64       1        STXGB  \n",
       "65       1          ADR  \n",
       "66       1        SSKNN  \n",
       "67       1          SSD  \n",
       "68       1          CRS  \n",
       "69       1         STRF  \n",
       "70       1       ABBPNN  \n",
       "71       1         STDT  \n",
       "72       1         REPT  \n",
       "73       1          M5P  \n",
       "74       1         MIDA  \n",
       "75       1           BR  \n",
       "76       1          BMA  \n",
       "77       1           BN  \n",
       "78       1         BDNN  \n",
       "79       1          ARC  \n",
       "80       1          HGB  \n",
       "81       1          RFR  \n",
       "82       1       STLGBM  \n",
       "83       1       STGBDT  \n",
       "84       1         BADT  \n",
       "85       1          BRT  \n",
       "86       1          RSS  \n",
       "87       1         MARS  \n",
       "88       1         KRLS  \n",
       "89       1        MSANN  \n",
       "90       1        SADNN  \n",
       "91       1          MGC  \n",
       "92       1        GLSTM  \n",
       "93       1          FCL  \n",
       "94       1          VOL  \n",
       "95       1          AEI  \n",
       "96       1          DAE  \n",
       "97       1         QRNN  \n",
       "98       1         GRNN  \n",
       "99       1          FNN  \n",
       "100      1       STBPNN  \n",
       "101      1         STDA  \n",
       "102      1        TDGTN  \n",
       "103      1          STT  \n",
       "104      1         STOC  \n",
       "105      1        STSVM  \n",
       "106      1        STMLP  \n",
       "107      1        STELM  \n",
       "108      1        STGRU  \n",
       "109      1          STI  \n",
       "110      1          SOM  \n",
       "111      1          VAE  \n",
       "112      1          CUB  \n",
       "113      1          DCP  \n",
       "114      1          RSM  \n",
       "115      1        GARCH  \n",
       "116      1           MA  \n",
       "117      1          VAR  "
      ]
     },
     "execution_count": 70,
     "metadata": {},
     "output_type": "execute_result"
    }
   ],
   "source": [
    "air_pollution_counts"
   ]
  },
  {
   "cell_type": "markdown",
   "id": "2059ba37",
   "metadata": {},
   "source": [
    "## Urban heat island"
   ]
  },
  {
   "cell_type": "code",
   "execution_count": 67,
   "id": "80d6f396",
   "metadata": {
    "scrolled": false
   },
   "outputs": [
    {
     "name": "stdout",
     "output_type": "stream",
     "text": [
      "CA\n"
     ]
    },
    {
     "data": {
      "application/vnd.plotly.v1+json": {
       "config": {
        "plotlyServerURL": "https://plot.ly"
       },
       "data": [
        {
         "alignmentgroup": "True",
         "hovertemplate": "Category=%{x}<br>Count=%{marker.color}<br>Filtered Tag=%{text}<extra></extra>",
         "legendgroup": "",
         "marker": {
          "color": [
           10,
           9,
           8,
           5,
           4,
           3,
           2,
           2,
           1,
           1,
           1,
           1,
           1,
           1,
           1,
           1,
           1,
           1,
           1,
           1,
           1,
           1,
           1,
           1
          ],
          "coloraxis": "coloraxis",
          "pattern": {
           "shape": ""
          }
         },
         "name": "",
         "offsetgroup": "",
         "orientation": "v",
         "showlegend": false,
         "text": [
          "RFR",
          "ANN",
          "LR",
          "RF",
          "SVR",
          "GBRT",
          "BN",
          "MLP",
          "BR",
          "MANN",
          "SGB",
          "XGBR",
          "SVM",
          "AB",
          "NB",
          "RT",
          "DBN",
          "GMM",
          "LUR",
          "DNN",
          "RESCNN",
          "DT",
          "BDT",
          "KNN"
         ],
         "textposition": "inside",
         "type": "bar",
         "x": [
          "ENS",
          "NN",
          "LR",
          "ENS",
          "SVM",
          "ENS",
          "BAY",
          "NN",
          "BAY",
          "NN",
          "ENS",
          "ENS",
          "SVM",
          "ENS",
          "BAY",
          "DT",
          "NN",
          "CLUS",
          "LR",
          "NN",
          "NN",
          "DT",
          "ENS",
          "IB"
         ],
         "xaxis": "x",
         "y": [
          10,
          9,
          8,
          5,
          4,
          3,
          2,
          2,
          1,
          1,
          1,
          1,
          1,
          1,
          1,
          1,
          1,
          1,
          1,
          1,
          1,
          1,
          1,
          1
         ],
         "yaxis": "y"
        }
       ],
       "layout": {
        "barmode": "relative",
        "coloraxis": {
         "colorbar": {
          "title": {
           "text": "Count"
          }
         },
         "colorscale": [
          [
           0,
           "rgb(196, 230, 195)"
          ],
          [
           0.16666666666666666,
           "rgb(150, 210, 164)"
          ],
          [
           0.3333333333333333,
           "rgb(109, 188, 144)"
          ],
          [
           0.5,
           "rgb(77, 162, 132)"
          ],
          [
           0.6666666666666666,
           "rgb(54, 135, 122)"
          ],
          [
           0.8333333333333334,
           "rgb(38, 107, 110)"
          ],
          [
           1,
           "rgb(29, 79, 96)"
          ]
         ]
        },
        "legend": {
         "tracegroupgap": 0
        },
        "margin": {
         "t": 60
        },
        "template": {
         "data": {
          "bar": [
           {
            "error_x": {
             "color": "#2a3f5f"
            },
            "error_y": {
             "color": "#2a3f5f"
            },
            "marker": {
             "line": {
              "color": "#E5ECF6",
              "width": 0.5
             },
             "pattern": {
              "fillmode": "overlay",
              "size": 10,
              "solidity": 0.2
             }
            },
            "type": "bar"
           }
          ],
          "barpolar": [
           {
            "marker": {
             "line": {
              "color": "#E5ECF6",
              "width": 0.5
             },
             "pattern": {
              "fillmode": "overlay",
              "size": 10,
              "solidity": 0.2
             }
            },
            "type": "barpolar"
           }
          ],
          "carpet": [
           {
            "aaxis": {
             "endlinecolor": "#2a3f5f",
             "gridcolor": "white",
             "linecolor": "white",
             "minorgridcolor": "white",
             "startlinecolor": "#2a3f5f"
            },
            "baxis": {
             "endlinecolor": "#2a3f5f",
             "gridcolor": "white",
             "linecolor": "white",
             "minorgridcolor": "white",
             "startlinecolor": "#2a3f5f"
            },
            "type": "carpet"
           }
          ],
          "choropleth": [
           {
            "colorbar": {
             "outlinewidth": 0,
             "ticks": ""
            },
            "type": "choropleth"
           }
          ],
          "contour": [
           {
            "colorbar": {
             "outlinewidth": 0,
             "ticks": ""
            },
            "colorscale": [
             [
              0,
              "#0d0887"
             ],
             [
              0.1111111111111111,
              "#46039f"
             ],
             [
              0.2222222222222222,
              "#7201a8"
             ],
             [
              0.3333333333333333,
              "#9c179e"
             ],
             [
              0.4444444444444444,
              "#bd3786"
             ],
             [
              0.5555555555555556,
              "#d8576b"
             ],
             [
              0.6666666666666666,
              "#ed7953"
             ],
             [
              0.7777777777777778,
              "#fb9f3a"
             ],
             [
              0.8888888888888888,
              "#fdca26"
             ],
             [
              1,
              "#f0f921"
             ]
            ],
            "type": "contour"
           }
          ],
          "contourcarpet": [
           {
            "colorbar": {
             "outlinewidth": 0,
             "ticks": ""
            },
            "type": "contourcarpet"
           }
          ],
          "heatmap": [
           {
            "colorbar": {
             "outlinewidth": 0,
             "ticks": ""
            },
            "colorscale": [
             [
              0,
              "#0d0887"
             ],
             [
              0.1111111111111111,
              "#46039f"
             ],
             [
              0.2222222222222222,
              "#7201a8"
             ],
             [
              0.3333333333333333,
              "#9c179e"
             ],
             [
              0.4444444444444444,
              "#bd3786"
             ],
             [
              0.5555555555555556,
              "#d8576b"
             ],
             [
              0.6666666666666666,
              "#ed7953"
             ],
             [
              0.7777777777777778,
              "#fb9f3a"
             ],
             [
              0.8888888888888888,
              "#fdca26"
             ],
             [
              1,
              "#f0f921"
             ]
            ],
            "type": "heatmap"
           }
          ],
          "heatmapgl": [
           {
            "colorbar": {
             "outlinewidth": 0,
             "ticks": ""
            },
            "colorscale": [
             [
              0,
              "#0d0887"
             ],
             [
              0.1111111111111111,
              "#46039f"
             ],
             [
              0.2222222222222222,
              "#7201a8"
             ],
             [
              0.3333333333333333,
              "#9c179e"
             ],
             [
              0.4444444444444444,
              "#bd3786"
             ],
             [
              0.5555555555555556,
              "#d8576b"
             ],
             [
              0.6666666666666666,
              "#ed7953"
             ],
             [
              0.7777777777777778,
              "#fb9f3a"
             ],
             [
              0.8888888888888888,
              "#fdca26"
             ],
             [
              1,
              "#f0f921"
             ]
            ],
            "type": "heatmapgl"
           }
          ],
          "histogram": [
           {
            "marker": {
             "pattern": {
              "fillmode": "overlay",
              "size": 10,
              "solidity": 0.2
             }
            },
            "type": "histogram"
           }
          ],
          "histogram2d": [
           {
            "colorbar": {
             "outlinewidth": 0,
             "ticks": ""
            },
            "colorscale": [
             [
              0,
              "#0d0887"
             ],
             [
              0.1111111111111111,
              "#46039f"
             ],
             [
              0.2222222222222222,
              "#7201a8"
             ],
             [
              0.3333333333333333,
              "#9c179e"
             ],
             [
              0.4444444444444444,
              "#bd3786"
             ],
             [
              0.5555555555555556,
              "#d8576b"
             ],
             [
              0.6666666666666666,
              "#ed7953"
             ],
             [
              0.7777777777777778,
              "#fb9f3a"
             ],
             [
              0.8888888888888888,
              "#fdca26"
             ],
             [
              1,
              "#f0f921"
             ]
            ],
            "type": "histogram2d"
           }
          ],
          "histogram2dcontour": [
           {
            "colorbar": {
             "outlinewidth": 0,
             "ticks": ""
            },
            "colorscale": [
             [
              0,
              "#0d0887"
             ],
             [
              0.1111111111111111,
              "#46039f"
             ],
             [
              0.2222222222222222,
              "#7201a8"
             ],
             [
              0.3333333333333333,
              "#9c179e"
             ],
             [
              0.4444444444444444,
              "#bd3786"
             ],
             [
              0.5555555555555556,
              "#d8576b"
             ],
             [
              0.6666666666666666,
              "#ed7953"
             ],
             [
              0.7777777777777778,
              "#fb9f3a"
             ],
             [
              0.8888888888888888,
              "#fdca26"
             ],
             [
              1,
              "#f0f921"
             ]
            ],
            "type": "histogram2dcontour"
           }
          ],
          "mesh3d": [
           {
            "colorbar": {
             "outlinewidth": 0,
             "ticks": ""
            },
            "type": "mesh3d"
           }
          ],
          "parcoords": [
           {
            "line": {
             "colorbar": {
              "outlinewidth": 0,
              "ticks": ""
             }
            },
            "type": "parcoords"
           }
          ],
          "pie": [
           {
            "automargin": true,
            "type": "pie"
           }
          ],
          "scatter": [
           {
            "fillpattern": {
             "fillmode": "overlay",
             "size": 10,
             "solidity": 0.2
            },
            "type": "scatter"
           }
          ],
          "scatter3d": [
           {
            "line": {
             "colorbar": {
              "outlinewidth": 0,
              "ticks": ""
             }
            },
            "marker": {
             "colorbar": {
              "outlinewidth": 0,
              "ticks": ""
             }
            },
            "type": "scatter3d"
           }
          ],
          "scattercarpet": [
           {
            "marker": {
             "colorbar": {
              "outlinewidth": 0,
              "ticks": ""
             }
            },
            "type": "scattercarpet"
           }
          ],
          "scattergeo": [
           {
            "marker": {
             "colorbar": {
              "outlinewidth": 0,
              "ticks": ""
             }
            },
            "type": "scattergeo"
           }
          ],
          "scattergl": [
           {
            "marker": {
             "colorbar": {
              "outlinewidth": 0,
              "ticks": ""
             }
            },
            "type": "scattergl"
           }
          ],
          "scattermapbox": [
           {
            "marker": {
             "colorbar": {
              "outlinewidth": 0,
              "ticks": ""
             }
            },
            "type": "scattermapbox"
           }
          ],
          "scatterpolar": [
           {
            "marker": {
             "colorbar": {
              "outlinewidth": 0,
              "ticks": ""
             }
            },
            "type": "scatterpolar"
           }
          ],
          "scatterpolargl": [
           {
            "marker": {
             "colorbar": {
              "outlinewidth": 0,
              "ticks": ""
             }
            },
            "type": "scatterpolargl"
           }
          ],
          "scatterternary": [
           {
            "marker": {
             "colorbar": {
              "outlinewidth": 0,
              "ticks": ""
             }
            },
            "type": "scatterternary"
           }
          ],
          "surface": [
           {
            "colorbar": {
             "outlinewidth": 0,
             "ticks": ""
            },
            "colorscale": [
             [
              0,
              "#0d0887"
             ],
             [
              0.1111111111111111,
              "#46039f"
             ],
             [
              0.2222222222222222,
              "#7201a8"
             ],
             [
              0.3333333333333333,
              "#9c179e"
             ],
             [
              0.4444444444444444,
              "#bd3786"
             ],
             [
              0.5555555555555556,
              "#d8576b"
             ],
             [
              0.6666666666666666,
              "#ed7953"
             ],
             [
              0.7777777777777778,
              "#fb9f3a"
             ],
             [
              0.8888888888888888,
              "#fdca26"
             ],
             [
              1,
              "#f0f921"
             ]
            ],
            "type": "surface"
           }
          ],
          "table": [
           {
            "cells": {
             "fill": {
              "color": "#EBF0F8"
             },
             "line": {
              "color": "white"
             }
            },
            "header": {
             "fill": {
              "color": "#C8D4E3"
             },
             "line": {
              "color": "white"
             }
            },
            "type": "table"
           }
          ]
         },
         "layout": {
          "annotationdefaults": {
           "arrowcolor": "#2a3f5f",
           "arrowhead": 0,
           "arrowwidth": 1
          },
          "autotypenumbers": "strict",
          "coloraxis": {
           "colorbar": {
            "outlinewidth": 0,
            "ticks": ""
           }
          },
          "colorscale": {
           "diverging": [
            [
             0,
             "#8e0152"
            ],
            [
             0.1,
             "#c51b7d"
            ],
            [
             0.2,
             "#de77ae"
            ],
            [
             0.3,
             "#f1b6da"
            ],
            [
             0.4,
             "#fde0ef"
            ],
            [
             0.5,
             "#f7f7f7"
            ],
            [
             0.6,
             "#e6f5d0"
            ],
            [
             0.7,
             "#b8e186"
            ],
            [
             0.8,
             "#7fbc41"
            ],
            [
             0.9,
             "#4d9221"
            ],
            [
             1,
             "#276419"
            ]
           ],
           "sequential": [
            [
             0,
             "#0d0887"
            ],
            [
             0.1111111111111111,
             "#46039f"
            ],
            [
             0.2222222222222222,
             "#7201a8"
            ],
            [
             0.3333333333333333,
             "#9c179e"
            ],
            [
             0.4444444444444444,
             "#bd3786"
            ],
            [
             0.5555555555555556,
             "#d8576b"
            ],
            [
             0.6666666666666666,
             "#ed7953"
            ],
            [
             0.7777777777777778,
             "#fb9f3a"
            ],
            [
             0.8888888888888888,
             "#fdca26"
            ],
            [
             1,
             "#f0f921"
            ]
           ],
           "sequentialminus": [
            [
             0,
             "#0d0887"
            ],
            [
             0.1111111111111111,
             "#46039f"
            ],
            [
             0.2222222222222222,
             "#7201a8"
            ],
            [
             0.3333333333333333,
             "#9c179e"
            ],
            [
             0.4444444444444444,
             "#bd3786"
            ],
            [
             0.5555555555555556,
             "#d8576b"
            ],
            [
             0.6666666666666666,
             "#ed7953"
            ],
            [
             0.7777777777777778,
             "#fb9f3a"
            ],
            [
             0.8888888888888888,
             "#fdca26"
            ],
            [
             1,
             "#f0f921"
            ]
           ]
          },
          "colorway": [
           "#636efa",
           "#EF553B",
           "#00cc96",
           "#ab63fa",
           "#FFA15A",
           "#19d3f3",
           "#FF6692",
           "#B6E880",
           "#FF97FF",
           "#FECB52"
          ],
          "font": {
           "color": "#2a3f5f"
          },
          "geo": {
           "bgcolor": "white",
           "lakecolor": "white",
           "landcolor": "#E5ECF6",
           "showlakes": true,
           "showland": true,
           "subunitcolor": "white"
          },
          "hoverlabel": {
           "align": "left"
          },
          "hovermode": "closest",
          "mapbox": {
           "style": "light"
          },
          "paper_bgcolor": "white",
          "plot_bgcolor": "#E5ECF6",
          "polar": {
           "angularaxis": {
            "gridcolor": "white",
            "linecolor": "white",
            "ticks": ""
           },
           "bgcolor": "#E5ECF6",
           "radialaxis": {
            "gridcolor": "white",
            "linecolor": "white",
            "ticks": ""
           }
          },
          "scene": {
           "xaxis": {
            "backgroundcolor": "#E5ECF6",
            "gridcolor": "white",
            "gridwidth": 2,
            "linecolor": "white",
            "showbackground": true,
            "ticks": "",
            "zerolinecolor": "white"
           },
           "yaxis": {
            "backgroundcolor": "#E5ECF6",
            "gridcolor": "white",
            "gridwidth": 2,
            "linecolor": "white",
            "showbackground": true,
            "ticks": "",
            "zerolinecolor": "white"
           },
           "zaxis": {
            "backgroundcolor": "#E5ECF6",
            "gridcolor": "white",
            "gridwidth": 2,
            "linecolor": "white",
            "showbackground": true,
            "ticks": "",
            "zerolinecolor": "white"
           }
          },
          "shapedefaults": {
           "line": {
            "color": "#2a3f5f"
           }
          },
          "ternary": {
           "aaxis": {
            "gridcolor": "white",
            "linecolor": "white",
            "ticks": ""
           },
           "baxis": {
            "gridcolor": "white",
            "linecolor": "white",
            "ticks": ""
           },
           "bgcolor": "#E5ECF6",
           "caxis": {
            "gridcolor": "white",
            "linecolor": "white",
            "ticks": ""
           }
          },
          "title": {
           "x": 0.05
          },
          "xaxis": {
           "automargin": true,
           "gridcolor": "white",
           "linecolor": "white",
           "ticks": "",
           "title": {
            "standoff": 15
           },
           "zerolinecolor": "white",
           "zerolinewidth": 2
          },
          "yaxis": {
           "automargin": true,
           "gridcolor": "white",
           "linecolor": "white",
           "ticks": "",
           "title": {
            "standoff": 15
           },
           "zerolinecolor": "white",
           "zerolinewidth": 2
          }
         }
        },
        "xaxis": {
         "anchor": "y",
         "domain": [
          0,
          1
         ],
         "title": {
          "text": "Category"
         }
        },
        "yaxis": {
         "anchor": "x",
         "domain": [
          0,
          1
         ],
         "title": {
          "text": "Count"
         }
        }
       }
      }
     },
     "metadata": {},
     "output_type": "display_data"
    }
   ],
   "source": [
    "UHI_counts = getTechniqueCount(heat_island, heat_island_legend)\n",
    "plot_data(UHI_counts,False, False, 0)"
   ]
  },
  {
   "cell_type": "code",
   "execution_count": 71,
   "id": "d6e06579",
   "metadata": {},
   "outputs": [
    {
     "data": {
      "text/html": [
       "<div>\n",
       "<style scoped>\n",
       "    .dataframe tbody tr th:only-of-type {\n",
       "        vertical-align: middle;\n",
       "    }\n",
       "\n",
       "    .dataframe tbody tr th {\n",
       "        vertical-align: top;\n",
       "    }\n",
       "\n",
       "    .dataframe thead th {\n",
       "        text-align: right;\n",
       "    }\n",
       "</style>\n",
       "<table border=\"1\" class=\"dataframe\">\n",
       "  <thead>\n",
       "    <tr style=\"text-align: right;\">\n",
       "      <th></th>\n",
       "      <th>Tag</th>\n",
       "      <th>Full Name</th>\n",
       "      <th>Category</th>\n",
       "      <th>Count</th>\n",
       "      <th>Filtered Tag</th>\n",
       "    </tr>\n",
       "  </thead>\n",
       "  <tbody>\n",
       "    <tr>\n",
       "      <th>0</th>\n",
       "      <td>RFR</td>\n",
       "      <td>Random Forest Regression</td>\n",
       "      <td>ENS</td>\n",
       "      <td>10</td>\n",
       "      <td>RFR</td>\n",
       "    </tr>\n",
       "    <tr>\n",
       "      <th>1</th>\n",
       "      <td>ANN</td>\n",
       "      <td>Artificial Neural Network</td>\n",
       "      <td>NN</td>\n",
       "      <td>9</td>\n",
       "      <td>ANN</td>\n",
       "    </tr>\n",
       "    <tr>\n",
       "      <th>2</th>\n",
       "      <td>LR</td>\n",
       "      <td>Linear Regression(regularization)</td>\n",
       "      <td>LR</td>\n",
       "      <td>8</td>\n",
       "      <td>LR</td>\n",
       "    </tr>\n",
       "    <tr>\n",
       "      <th>3</th>\n",
       "      <td>RF</td>\n",
       "      <td>Random Forest</td>\n",
       "      <td>ENS</td>\n",
       "      <td>5</td>\n",
       "      <td>RF</td>\n",
       "    </tr>\n",
       "    <tr>\n",
       "      <th>4</th>\n",
       "      <td>SVR</td>\n",
       "      <td>Support Vector Regression</td>\n",
       "      <td>SVM</td>\n",
       "      <td>4</td>\n",
       "      <td>SVR</td>\n",
       "    </tr>\n",
       "    <tr>\n",
       "      <th>5</th>\n",
       "      <td>GBRT</td>\n",
       "      <td>Gradient Boosted Regression Trees</td>\n",
       "      <td>ENS</td>\n",
       "      <td>3</td>\n",
       "      <td>GBRT</td>\n",
       "    </tr>\n",
       "    <tr>\n",
       "      <th>6</th>\n",
       "      <td>BN</td>\n",
       "      <td>Bayesian Network</td>\n",
       "      <td>BAY</td>\n",
       "      <td>2</td>\n",
       "      <td>BN</td>\n",
       "    </tr>\n",
       "    <tr>\n",
       "      <th>7</th>\n",
       "      <td>MLP</td>\n",
       "      <td>Multi-Layer Perceptron</td>\n",
       "      <td>NN</td>\n",
       "      <td>2</td>\n",
       "      <td>MLP</td>\n",
       "    </tr>\n",
       "    <tr>\n",
       "      <th>8</th>\n",
       "      <td>BR</td>\n",
       "      <td>Bayesian Regression (regularization)</td>\n",
       "      <td>BAY</td>\n",
       "      <td>1</td>\n",
       "      <td>BR</td>\n",
       "    </tr>\n",
       "    <tr>\n",
       "      <th>9</th>\n",
       "      <td>MANN</td>\n",
       "      <td>Model Averaged Neural Network</td>\n",
       "      <td>NN</td>\n",
       "      <td>1</td>\n",
       "      <td>MANN</td>\n",
       "    </tr>\n",
       "    <tr>\n",
       "      <th>10</th>\n",
       "      <td>SGB</td>\n",
       "      <td>Stochastic Gradient Boosting</td>\n",
       "      <td>ENS</td>\n",
       "      <td>1</td>\n",
       "      <td>SGB</td>\n",
       "    </tr>\n",
       "    <tr>\n",
       "      <th>11</th>\n",
       "      <td>XGBR</td>\n",
       "      <td>Extreme Gradient Boosting Regression</td>\n",
       "      <td>ENS</td>\n",
       "      <td>1</td>\n",
       "      <td>XGBR</td>\n",
       "    </tr>\n",
       "    <tr>\n",
       "      <th>12</th>\n",
       "      <td>SVM</td>\n",
       "      <td>Support Vector Machine</td>\n",
       "      <td>SVM</td>\n",
       "      <td>1</td>\n",
       "      <td>SVM</td>\n",
       "    </tr>\n",
       "    <tr>\n",
       "      <th>13</th>\n",
       "      <td>AB</td>\n",
       "      <td>AdaBoost</td>\n",
       "      <td>ENS</td>\n",
       "      <td>1</td>\n",
       "      <td>AB</td>\n",
       "    </tr>\n",
       "    <tr>\n",
       "      <th>14</th>\n",
       "      <td>NB</td>\n",
       "      <td>Naive Bayes</td>\n",
       "      <td>BAY</td>\n",
       "      <td>1</td>\n",
       "      <td>NB</td>\n",
       "    </tr>\n",
       "    <tr>\n",
       "      <th>15</th>\n",
       "      <td>RT</td>\n",
       "      <td>Regression Trees</td>\n",
       "      <td>DT</td>\n",
       "      <td>1</td>\n",
       "      <td>RT</td>\n",
       "    </tr>\n",
       "    <tr>\n",
       "      <th>16</th>\n",
       "      <td>DBN</td>\n",
       "      <td>Deep Belief Network</td>\n",
       "      <td>NN</td>\n",
       "      <td>1</td>\n",
       "      <td>DBN</td>\n",
       "    </tr>\n",
       "    <tr>\n",
       "      <th>17</th>\n",
       "      <td>GMM</td>\n",
       "      <td>Gaussian Mixture Models</td>\n",
       "      <td>CLUS</td>\n",
       "      <td>1</td>\n",
       "      <td>GMM</td>\n",
       "    </tr>\n",
       "    <tr>\n",
       "      <th>18</th>\n",
       "      <td>LUR</td>\n",
       "      <td>Land Use Regression</td>\n",
       "      <td>LR</td>\n",
       "      <td>1</td>\n",
       "      <td>LUR</td>\n",
       "    </tr>\n",
       "    <tr>\n",
       "      <th>19</th>\n",
       "      <td>DNN</td>\n",
       "      <td>Deep Neural Network</td>\n",
       "      <td>NN</td>\n",
       "      <td>1</td>\n",
       "      <td>DNN</td>\n",
       "    </tr>\n",
       "    <tr>\n",
       "      <th>20</th>\n",
       "      <td>RESCNN</td>\n",
       "      <td>Residual Convolutional Neural Network</td>\n",
       "      <td>NN</td>\n",
       "      <td>1</td>\n",
       "      <td>RESCNN</td>\n",
       "    </tr>\n",
       "    <tr>\n",
       "      <th>21</th>\n",
       "      <td>DT</td>\n",
       "      <td>Decision Trees</td>\n",
       "      <td>DT</td>\n",
       "      <td>1</td>\n",
       "      <td>DT</td>\n",
       "    </tr>\n",
       "    <tr>\n",
       "      <th>22</th>\n",
       "      <td>BDT</td>\n",
       "      <td>Bagging Decision Trees</td>\n",
       "      <td>ENS</td>\n",
       "      <td>1</td>\n",
       "      <td>BDT</td>\n",
       "    </tr>\n",
       "    <tr>\n",
       "      <th>24</th>\n",
       "      <td>KNN</td>\n",
       "      <td>K Nearest Neighbours</td>\n",
       "      <td>IB</td>\n",
       "      <td>1</td>\n",
       "      <td>KNN</td>\n",
       "    </tr>\n",
       "  </tbody>\n",
       "</table>\n",
       "</div>"
      ],
      "text/plain": [
       "       Tag                              Full Name Category  Count Filtered Tag\n",
       "0      RFR               Random Forest Regression      ENS     10          RFR\n",
       "1      ANN              Artificial Neural Network       NN      9          ANN\n",
       "2       LR      Linear Regression(regularization)       LR      8           LR\n",
       "3       RF                          Random Forest      ENS      5           RF\n",
       "4      SVR              Support Vector Regression      SVM      4          SVR\n",
       "5     GBRT      Gradient Boosted Regression Trees      ENS      3         GBRT\n",
       "6       BN                       Bayesian Network      BAY      2           BN\n",
       "7      MLP                 Multi-Layer Perceptron       NN      2          MLP\n",
       "8       BR   Bayesian Regression (regularization)      BAY      1           BR\n",
       "9     MANN          Model Averaged Neural Network       NN      1         MANN\n",
       "10     SGB           Stochastic Gradient Boosting      ENS      1          SGB\n",
       "11    XGBR   Extreme Gradient Boosting Regression      ENS      1         XGBR\n",
       "12     SVM                 Support Vector Machine      SVM      1          SVM\n",
       "13      AB                               AdaBoost      ENS      1           AB\n",
       "14      NB                            Naive Bayes      BAY      1           NB\n",
       "15      RT                       Regression Trees       DT      1           RT\n",
       "16     DBN                    Deep Belief Network       NN      1          DBN\n",
       "17     GMM                Gaussian Mixture Models     CLUS      1          GMM\n",
       "18     LUR                    Land Use Regression       LR      1          LUR\n",
       "19     DNN                    Deep Neural Network       NN      1          DNN\n",
       "20  RESCNN  Residual Convolutional Neural Network       NN      1       RESCNN\n",
       "21      DT                         Decision Trees       DT      1           DT\n",
       "22     BDT                 Bagging Decision Trees      ENS      1          BDT\n",
       "24     KNN                   K Nearest Neighbours       IB      1          KNN"
      ]
     },
     "execution_count": 71,
     "metadata": {},
     "output_type": "execute_result"
    }
   ],
   "source": [
    "UHI_counts"
   ]
  },
  {
   "cell_type": "markdown",
   "id": "c89b01cd",
   "metadata": {},
   "source": [
    "## Flood"
   ]
  },
  {
   "cell_type": "code",
   "execution_count": 68,
   "id": "6c627ba8",
   "metadata": {},
   "outputs": [
    {
     "name": "stdout",
     "output_type": "stream",
     "text": [
      "\n"
     ]
    },
    {
     "data": {
      "application/vnd.plotly.v1+json": {
       "config": {
        "plotlyServerURL": "https://plot.ly"
       },
       "data": [
        {
         "alignmentgroup": "True",
         "hovertemplate": "Category=%{x}<br>Count=%{marker.color}<br>Filtered Tag=%{text}<extra></extra>",
         "legendgroup": "",
         "marker": {
          "color": [
           105,
           75,
           65,
           30,
           26,
           21,
           21,
           20,
           20,
           19,
           18,
           15,
           12,
           12,
           11,
           9,
           8,
           8,
           8,
           8,
           7,
           7,
           7,
           7,
           7,
           6,
           5,
           5,
           5,
           5,
           5,
           4,
           4,
           4,
           3,
           3,
           3,
           3,
           3,
           3,
           3,
           3,
           3,
           2,
           2,
           2,
           2,
           2,
           2,
           2,
           2,
           2,
           2,
           2,
           2,
           2,
           2,
           1,
           1,
           1,
           1,
           1,
           1,
           1,
           1,
           1,
           1,
           1,
           1,
           1,
           1,
           1,
           1,
           1,
           1,
           1,
           1,
           1,
           1,
           1,
           1,
           1,
           1,
           1,
           1,
           1,
           1,
           1,
           1,
           1,
           1,
           1,
           1,
           1,
           1,
           1,
           1,
           1,
           1,
           1,
           1,
           1,
           1,
           1,
           1,
           1,
           1,
           1,
           1,
           1,
           1,
           1,
           1,
           1,
           1,
           1,
           1
          ],
          "coloraxis": "coloraxis",
          "pattern": {
           "shape": ""
          }
         },
         "name": "",
         "offsetgroup": "",
         "orientation": "v",
         "showlegend": false,
         "text": [
          "RF",
          "ANN",
          "SVM",
          "XGB",
          "KNN",
          "CNN",
          "DNN",
          "NB",
          "BRT",
          "DT",
          "LOGR",
          "AB",
          "ADT",
          "GBDT",
          "GLM",
          "ERT",
          "CB",
          "STACK",
          "LGBM",
          "LMT",
          "MARS",
          "REPDT",
          "MENT",
          "RSSDT",
          "FR",
          "BDT",
          "NBT",
          "LR",
          "ANFIS",
          "MDA",
          "RNN",
          "CART",
          "JDT",
          "ROF",
          "SVR",
          "GAM",
          "FDA",
          "GBM",
          "DB",
          "BLOGR",
          "BOGLM",
          "BFDT",
          "DBN",
          "RSSJDT",
          "DFPA",
          "MKL",
          "CDT",
          "BREPDT",
          "GARP",
          "ABREPDT",
          "BBFDT",
          "BCT",
          "BGLM",
          "M5P",
          "LASSO",
          "MB",
          "KS",
          "DABFDT",
          "CIRF",
          "BM5P",
          "CSF",
          "CRF",
          "BKNN",
          "BPDT",
          "BCDT",
          "BDTA",
          "BFPA",
          "BFT",
          "BRF",
          "BSMO",
          "ABCDT",
          "ABDTA",
          "BA",
          "ABPDT",
          "BANN",
          "BART",
          "GBRT",
          "PDT",
          "RVM",
          "GPR",
          "MixDA",
          "C45DT",
          "FT",
          "DTC",
          "BGAM",
          "BGP",
          "DBFDT",
          "UB",
          "SF",
          "SGB",
          "HP",
          "ROFFT",
          "RSSBFDT",
          "RSSCDT",
          "RABJDT",
          "RNB",
          "DFT",
          "MBANN",
          "MBCDT",
          "MBJDT",
          "MBREPDT",
          "NGB",
          "DCDT",
          "DM5P",
          "DREPDT",
          "DPDT",
          "RSSPDT",
          "LWLR",
          "ENC",
          "KLOGR",
          "SGD",
          "RESNN",
          "PER",
          "GNN",
          "BPNN",
          "RBF",
          "ARIMA"
         ],
         "textposition": "inside",
         "type": "bar",
         "x": [
          "ENS",
          "NN",
          "SVM",
          "ENS",
          "IB",
          "NN",
          "NN",
          "BAY",
          "ENS",
          "DT",
          "LR",
          "ENS",
          "DT",
          "ENS",
          "LR",
          "ENS",
          "ENS",
          "ENS",
          "ENS",
          "DT",
          "LR",
          "DT",
          "LR",
          "ENS",
          "STAT",
          "ENS",
          "DT",
          "LR",
          "NN",
          "DR",
          "NN",
          "DT",
          "DT",
          "ENS",
          "SVM",
          "LR",
          "STAT",
          "ENS",
          "ENS",
          "BAY",
          "ENS",
          "DT",
          "NN",
          "ENS",
          "ENS",
          "SVM",
          "ENS",
          "ENS",
          "RS",
          "ENS",
          "ENS",
          "ENS",
          "BAY",
          "DT",
          "LR",
          "ENS",
          "IB",
          "ENS",
          "ENS",
          "ENS",
          "ENS",
          "ENS",
          "ENS",
          "ENS",
          "ENS",
          "ENS",
          "ENS",
          "ENS",
          "ENS",
          "ENS",
          "ENS",
          "ENS",
          "ENS",
          "ENS",
          "ENS",
          "ENS",
          "DT",
          "DT",
          "BAY",
          "BAY",
          "DR",
          "DT",
          "DT",
          "DT",
          "ENS",
          "ENS",
          "ENS",
          "ENS",
          "ENS",
          "ENS",
          "IB",
          "ENS",
          "ENS",
          "ENS",
          "ENS",
          "ENS",
          "ENS",
          "ENS",
          "ENS",
          "ENS",
          "ENS",
          "ENS",
          "ENS",
          "ENS",
          "ENS",
          "ENS",
          "ENS",
          "IB",
          "LR",
          "LR",
          "LR",
          "NN",
          "NN",
          "NN",
          "NN",
          "NN",
          "TS"
         ],
         "xaxis": "x",
         "y": [
          105,
          75,
          65,
          30,
          26,
          21,
          21,
          20,
          20,
          19,
          18,
          15,
          12,
          12,
          11,
          9,
          8,
          8,
          8,
          8,
          7,
          7,
          7,
          7,
          7,
          6,
          5,
          5,
          5,
          5,
          5,
          4,
          4,
          4,
          3,
          3,
          3,
          3,
          3,
          3,
          3,
          3,
          3,
          2,
          2,
          2,
          2,
          2,
          2,
          2,
          2,
          2,
          2,
          2,
          2,
          2,
          2,
          1,
          1,
          1,
          1,
          1,
          1,
          1,
          1,
          1,
          1,
          1,
          1,
          1,
          1,
          1,
          1,
          1,
          1,
          1,
          1,
          1,
          1,
          1,
          1,
          1,
          1,
          1,
          1,
          1,
          1,
          1,
          1,
          1,
          1,
          1,
          1,
          1,
          1,
          1,
          1,
          1,
          1,
          1,
          1,
          1,
          1,
          1,
          1,
          1,
          1,
          1,
          1,
          1,
          1,
          1,
          1,
          1,
          1,
          1,
          1
         ],
         "yaxis": "y"
        }
       ],
       "layout": {
        "barmode": "relative",
        "coloraxis": {
         "colorbar": {
          "title": {
           "text": "Count"
          }
         },
         "colorscale": [
          [
           0,
           "rgb(196, 230, 195)"
          ],
          [
           0.16666666666666666,
           "rgb(150, 210, 164)"
          ],
          [
           0.3333333333333333,
           "rgb(109, 188, 144)"
          ],
          [
           0.5,
           "rgb(77, 162, 132)"
          ],
          [
           0.6666666666666666,
           "rgb(54, 135, 122)"
          ],
          [
           0.8333333333333334,
           "rgb(38, 107, 110)"
          ],
          [
           1,
           "rgb(29, 79, 96)"
          ]
         ]
        },
        "legend": {
         "tracegroupgap": 0
        },
        "margin": {
         "t": 60
        },
        "template": {
         "data": {
          "bar": [
           {
            "error_x": {
             "color": "#2a3f5f"
            },
            "error_y": {
             "color": "#2a3f5f"
            },
            "marker": {
             "line": {
              "color": "#E5ECF6",
              "width": 0.5
             },
             "pattern": {
              "fillmode": "overlay",
              "size": 10,
              "solidity": 0.2
             }
            },
            "type": "bar"
           }
          ],
          "barpolar": [
           {
            "marker": {
             "line": {
              "color": "#E5ECF6",
              "width": 0.5
             },
             "pattern": {
              "fillmode": "overlay",
              "size": 10,
              "solidity": 0.2
             }
            },
            "type": "barpolar"
           }
          ],
          "carpet": [
           {
            "aaxis": {
             "endlinecolor": "#2a3f5f",
             "gridcolor": "white",
             "linecolor": "white",
             "minorgridcolor": "white",
             "startlinecolor": "#2a3f5f"
            },
            "baxis": {
             "endlinecolor": "#2a3f5f",
             "gridcolor": "white",
             "linecolor": "white",
             "minorgridcolor": "white",
             "startlinecolor": "#2a3f5f"
            },
            "type": "carpet"
           }
          ],
          "choropleth": [
           {
            "colorbar": {
             "outlinewidth": 0,
             "ticks": ""
            },
            "type": "choropleth"
           }
          ],
          "contour": [
           {
            "colorbar": {
             "outlinewidth": 0,
             "ticks": ""
            },
            "colorscale": [
             [
              0,
              "#0d0887"
             ],
             [
              0.1111111111111111,
              "#46039f"
             ],
             [
              0.2222222222222222,
              "#7201a8"
             ],
             [
              0.3333333333333333,
              "#9c179e"
             ],
             [
              0.4444444444444444,
              "#bd3786"
             ],
             [
              0.5555555555555556,
              "#d8576b"
             ],
             [
              0.6666666666666666,
              "#ed7953"
             ],
             [
              0.7777777777777778,
              "#fb9f3a"
             ],
             [
              0.8888888888888888,
              "#fdca26"
             ],
             [
              1,
              "#f0f921"
             ]
            ],
            "type": "contour"
           }
          ],
          "contourcarpet": [
           {
            "colorbar": {
             "outlinewidth": 0,
             "ticks": ""
            },
            "type": "contourcarpet"
           }
          ],
          "heatmap": [
           {
            "colorbar": {
             "outlinewidth": 0,
             "ticks": ""
            },
            "colorscale": [
             [
              0,
              "#0d0887"
             ],
             [
              0.1111111111111111,
              "#46039f"
             ],
             [
              0.2222222222222222,
              "#7201a8"
             ],
             [
              0.3333333333333333,
              "#9c179e"
             ],
             [
              0.4444444444444444,
              "#bd3786"
             ],
             [
              0.5555555555555556,
              "#d8576b"
             ],
             [
              0.6666666666666666,
              "#ed7953"
             ],
             [
              0.7777777777777778,
              "#fb9f3a"
             ],
             [
              0.8888888888888888,
              "#fdca26"
             ],
             [
              1,
              "#f0f921"
             ]
            ],
            "type": "heatmap"
           }
          ],
          "heatmapgl": [
           {
            "colorbar": {
             "outlinewidth": 0,
             "ticks": ""
            },
            "colorscale": [
             [
              0,
              "#0d0887"
             ],
             [
              0.1111111111111111,
              "#46039f"
             ],
             [
              0.2222222222222222,
              "#7201a8"
             ],
             [
              0.3333333333333333,
              "#9c179e"
             ],
             [
              0.4444444444444444,
              "#bd3786"
             ],
             [
              0.5555555555555556,
              "#d8576b"
             ],
             [
              0.6666666666666666,
              "#ed7953"
             ],
             [
              0.7777777777777778,
              "#fb9f3a"
             ],
             [
              0.8888888888888888,
              "#fdca26"
             ],
             [
              1,
              "#f0f921"
             ]
            ],
            "type": "heatmapgl"
           }
          ],
          "histogram": [
           {
            "marker": {
             "pattern": {
              "fillmode": "overlay",
              "size": 10,
              "solidity": 0.2
             }
            },
            "type": "histogram"
           }
          ],
          "histogram2d": [
           {
            "colorbar": {
             "outlinewidth": 0,
             "ticks": ""
            },
            "colorscale": [
             [
              0,
              "#0d0887"
             ],
             [
              0.1111111111111111,
              "#46039f"
             ],
             [
              0.2222222222222222,
              "#7201a8"
             ],
             [
              0.3333333333333333,
              "#9c179e"
             ],
             [
              0.4444444444444444,
              "#bd3786"
             ],
             [
              0.5555555555555556,
              "#d8576b"
             ],
             [
              0.6666666666666666,
              "#ed7953"
             ],
             [
              0.7777777777777778,
              "#fb9f3a"
             ],
             [
              0.8888888888888888,
              "#fdca26"
             ],
             [
              1,
              "#f0f921"
             ]
            ],
            "type": "histogram2d"
           }
          ],
          "histogram2dcontour": [
           {
            "colorbar": {
             "outlinewidth": 0,
             "ticks": ""
            },
            "colorscale": [
             [
              0,
              "#0d0887"
             ],
             [
              0.1111111111111111,
              "#46039f"
             ],
             [
              0.2222222222222222,
              "#7201a8"
             ],
             [
              0.3333333333333333,
              "#9c179e"
             ],
             [
              0.4444444444444444,
              "#bd3786"
             ],
             [
              0.5555555555555556,
              "#d8576b"
             ],
             [
              0.6666666666666666,
              "#ed7953"
             ],
             [
              0.7777777777777778,
              "#fb9f3a"
             ],
             [
              0.8888888888888888,
              "#fdca26"
             ],
             [
              1,
              "#f0f921"
             ]
            ],
            "type": "histogram2dcontour"
           }
          ],
          "mesh3d": [
           {
            "colorbar": {
             "outlinewidth": 0,
             "ticks": ""
            },
            "type": "mesh3d"
           }
          ],
          "parcoords": [
           {
            "line": {
             "colorbar": {
              "outlinewidth": 0,
              "ticks": ""
             }
            },
            "type": "parcoords"
           }
          ],
          "pie": [
           {
            "automargin": true,
            "type": "pie"
           }
          ],
          "scatter": [
           {
            "fillpattern": {
             "fillmode": "overlay",
             "size": 10,
             "solidity": 0.2
            },
            "type": "scatter"
           }
          ],
          "scatter3d": [
           {
            "line": {
             "colorbar": {
              "outlinewidth": 0,
              "ticks": ""
             }
            },
            "marker": {
             "colorbar": {
              "outlinewidth": 0,
              "ticks": ""
             }
            },
            "type": "scatter3d"
           }
          ],
          "scattercarpet": [
           {
            "marker": {
             "colorbar": {
              "outlinewidth": 0,
              "ticks": ""
             }
            },
            "type": "scattercarpet"
           }
          ],
          "scattergeo": [
           {
            "marker": {
             "colorbar": {
              "outlinewidth": 0,
              "ticks": ""
             }
            },
            "type": "scattergeo"
           }
          ],
          "scattergl": [
           {
            "marker": {
             "colorbar": {
              "outlinewidth": 0,
              "ticks": ""
             }
            },
            "type": "scattergl"
           }
          ],
          "scattermapbox": [
           {
            "marker": {
             "colorbar": {
              "outlinewidth": 0,
              "ticks": ""
             }
            },
            "type": "scattermapbox"
           }
          ],
          "scatterpolar": [
           {
            "marker": {
             "colorbar": {
              "outlinewidth": 0,
              "ticks": ""
             }
            },
            "type": "scatterpolar"
           }
          ],
          "scatterpolargl": [
           {
            "marker": {
             "colorbar": {
              "outlinewidth": 0,
              "ticks": ""
             }
            },
            "type": "scatterpolargl"
           }
          ],
          "scatterternary": [
           {
            "marker": {
             "colorbar": {
              "outlinewidth": 0,
              "ticks": ""
             }
            },
            "type": "scatterternary"
           }
          ],
          "surface": [
           {
            "colorbar": {
             "outlinewidth": 0,
             "ticks": ""
            },
            "colorscale": [
             [
              0,
              "#0d0887"
             ],
             [
              0.1111111111111111,
              "#46039f"
             ],
             [
              0.2222222222222222,
              "#7201a8"
             ],
             [
              0.3333333333333333,
              "#9c179e"
             ],
             [
              0.4444444444444444,
              "#bd3786"
             ],
             [
              0.5555555555555556,
              "#d8576b"
             ],
             [
              0.6666666666666666,
              "#ed7953"
             ],
             [
              0.7777777777777778,
              "#fb9f3a"
             ],
             [
              0.8888888888888888,
              "#fdca26"
             ],
             [
              1,
              "#f0f921"
             ]
            ],
            "type": "surface"
           }
          ],
          "table": [
           {
            "cells": {
             "fill": {
              "color": "#EBF0F8"
             },
             "line": {
              "color": "white"
             }
            },
            "header": {
             "fill": {
              "color": "#C8D4E3"
             },
             "line": {
              "color": "white"
             }
            },
            "type": "table"
           }
          ]
         },
         "layout": {
          "annotationdefaults": {
           "arrowcolor": "#2a3f5f",
           "arrowhead": 0,
           "arrowwidth": 1
          },
          "autotypenumbers": "strict",
          "coloraxis": {
           "colorbar": {
            "outlinewidth": 0,
            "ticks": ""
           }
          },
          "colorscale": {
           "diverging": [
            [
             0,
             "#8e0152"
            ],
            [
             0.1,
             "#c51b7d"
            ],
            [
             0.2,
             "#de77ae"
            ],
            [
             0.3,
             "#f1b6da"
            ],
            [
             0.4,
             "#fde0ef"
            ],
            [
             0.5,
             "#f7f7f7"
            ],
            [
             0.6,
             "#e6f5d0"
            ],
            [
             0.7,
             "#b8e186"
            ],
            [
             0.8,
             "#7fbc41"
            ],
            [
             0.9,
             "#4d9221"
            ],
            [
             1,
             "#276419"
            ]
           ],
           "sequential": [
            [
             0,
             "#0d0887"
            ],
            [
             0.1111111111111111,
             "#46039f"
            ],
            [
             0.2222222222222222,
             "#7201a8"
            ],
            [
             0.3333333333333333,
             "#9c179e"
            ],
            [
             0.4444444444444444,
             "#bd3786"
            ],
            [
             0.5555555555555556,
             "#d8576b"
            ],
            [
             0.6666666666666666,
             "#ed7953"
            ],
            [
             0.7777777777777778,
             "#fb9f3a"
            ],
            [
             0.8888888888888888,
             "#fdca26"
            ],
            [
             1,
             "#f0f921"
            ]
           ],
           "sequentialminus": [
            [
             0,
             "#0d0887"
            ],
            [
             0.1111111111111111,
             "#46039f"
            ],
            [
             0.2222222222222222,
             "#7201a8"
            ],
            [
             0.3333333333333333,
             "#9c179e"
            ],
            [
             0.4444444444444444,
             "#bd3786"
            ],
            [
             0.5555555555555556,
             "#d8576b"
            ],
            [
             0.6666666666666666,
             "#ed7953"
            ],
            [
             0.7777777777777778,
             "#fb9f3a"
            ],
            [
             0.8888888888888888,
             "#fdca26"
            ],
            [
             1,
             "#f0f921"
            ]
           ]
          },
          "colorway": [
           "#636efa",
           "#EF553B",
           "#00cc96",
           "#ab63fa",
           "#FFA15A",
           "#19d3f3",
           "#FF6692",
           "#B6E880",
           "#FF97FF",
           "#FECB52"
          ],
          "font": {
           "color": "#2a3f5f"
          },
          "geo": {
           "bgcolor": "white",
           "lakecolor": "white",
           "landcolor": "#E5ECF6",
           "showlakes": true,
           "showland": true,
           "subunitcolor": "white"
          },
          "hoverlabel": {
           "align": "left"
          },
          "hovermode": "closest",
          "mapbox": {
           "style": "light"
          },
          "paper_bgcolor": "white",
          "plot_bgcolor": "#E5ECF6",
          "polar": {
           "angularaxis": {
            "gridcolor": "white",
            "linecolor": "white",
            "ticks": ""
           },
           "bgcolor": "#E5ECF6",
           "radialaxis": {
            "gridcolor": "white",
            "linecolor": "white",
            "ticks": ""
           }
          },
          "scene": {
           "xaxis": {
            "backgroundcolor": "#E5ECF6",
            "gridcolor": "white",
            "gridwidth": 2,
            "linecolor": "white",
            "showbackground": true,
            "ticks": "",
            "zerolinecolor": "white"
           },
           "yaxis": {
            "backgroundcolor": "#E5ECF6",
            "gridcolor": "white",
            "gridwidth": 2,
            "linecolor": "white",
            "showbackground": true,
            "ticks": "",
            "zerolinecolor": "white"
           },
           "zaxis": {
            "backgroundcolor": "#E5ECF6",
            "gridcolor": "white",
            "gridwidth": 2,
            "linecolor": "white",
            "showbackground": true,
            "ticks": "",
            "zerolinecolor": "white"
           }
          },
          "shapedefaults": {
           "line": {
            "color": "#2a3f5f"
           }
          },
          "ternary": {
           "aaxis": {
            "gridcolor": "white",
            "linecolor": "white",
            "ticks": ""
           },
           "baxis": {
            "gridcolor": "white",
            "linecolor": "white",
            "ticks": ""
           },
           "bgcolor": "#E5ECF6",
           "caxis": {
            "gridcolor": "white",
            "linecolor": "white",
            "ticks": ""
           }
          },
          "title": {
           "x": 0.05
          },
          "xaxis": {
           "automargin": true,
           "gridcolor": "white",
           "linecolor": "white",
           "ticks": "",
           "title": {
            "standoff": 15
           },
           "zerolinecolor": "white",
           "zerolinewidth": 2
          },
          "yaxis": {
           "automargin": true,
           "gridcolor": "white",
           "linecolor": "white",
           "ticks": "",
           "title": {
            "standoff": 15
           },
           "zerolinecolor": "white",
           "zerolinewidth": 2
          }
         }
        },
        "xaxis": {
         "anchor": "y",
         "domain": [
          0,
          1
         ],
         "title": {
          "text": "Category"
         }
        },
        "yaxis": {
         "anchor": "x",
         "domain": [
          0,
          1
         ],
         "title": {
          "text": "Count"
         }
        }
       }
      }
     },
     "metadata": {},
     "output_type": "display_data"
    }
   ],
   "source": [
    "flood_counts = getTechniqueCount(flooding, flooding_legend)\n",
    "plot_data(flood_counts,False, False, 0)"
   ]
  },
  {
   "cell_type": "code",
   "execution_count": 72,
   "id": "ff3c9f79",
   "metadata": {},
   "outputs": [
    {
     "data": {
      "text/html": [
       "<div>\n",
       "<style scoped>\n",
       "    .dataframe tbody tr th:only-of-type {\n",
       "        vertical-align: middle;\n",
       "    }\n",
       "\n",
       "    .dataframe tbody tr th {\n",
       "        vertical-align: top;\n",
       "    }\n",
       "\n",
       "    .dataframe thead th {\n",
       "        text-align: right;\n",
       "    }\n",
       "</style>\n",
       "<table border=\"1\" class=\"dataframe\">\n",
       "  <thead>\n",
       "    <tr style=\"text-align: right;\">\n",
       "      <th></th>\n",
       "      <th>Tag</th>\n",
       "      <th>Full Name</th>\n",
       "      <th>Category</th>\n",
       "      <th>Count</th>\n",
       "      <th>Filtered Tag</th>\n",
       "    </tr>\n",
       "  </thead>\n",
       "  <tbody>\n",
       "    <tr>\n",
       "      <th>0</th>\n",
       "      <td>RF</td>\n",
       "      <td>Random Forest</td>\n",
       "      <td>ENS</td>\n",
       "      <td>105</td>\n",
       "      <td>RF</td>\n",
       "    </tr>\n",
       "    <tr>\n",
       "      <th>1</th>\n",
       "      <td>ANN</td>\n",
       "      <td>Artificial Neural Network</td>\n",
       "      <td>NN</td>\n",
       "      <td>75</td>\n",
       "      <td>ANN</td>\n",
       "    </tr>\n",
       "    <tr>\n",
       "      <th>2</th>\n",
       "      <td>SVM</td>\n",
       "      <td>Support Vector Machine</td>\n",
       "      <td>SVM</td>\n",
       "      <td>65</td>\n",
       "      <td>SVM</td>\n",
       "    </tr>\n",
       "    <tr>\n",
       "      <th>3</th>\n",
       "      <td>XGB</td>\n",
       "      <td>Extreme Gradient Boosting</td>\n",
       "      <td>ENS</td>\n",
       "      <td>30</td>\n",
       "      <td>XGB</td>\n",
       "    </tr>\n",
       "    <tr>\n",
       "      <th>4</th>\n",
       "      <td>KNN</td>\n",
       "      <td>K-Nearest-Neighbor</td>\n",
       "      <td>IB</td>\n",
       "      <td>26</td>\n",
       "      <td>KNN</td>\n",
       "    </tr>\n",
       "    <tr>\n",
       "      <th>5</th>\n",
       "      <td>CNN</td>\n",
       "      <td>Convolutional Neural Network</td>\n",
       "      <td>NN</td>\n",
       "      <td>21</td>\n",
       "      <td>CNN</td>\n",
       "    </tr>\n",
       "    <tr>\n",
       "      <th>6</th>\n",
       "      <td>DNN</td>\n",
       "      <td>Deep Neural Network</td>\n",
       "      <td>NN</td>\n",
       "      <td>21</td>\n",
       "      <td>DNN</td>\n",
       "    </tr>\n",
       "    <tr>\n",
       "      <th>7</th>\n",
       "      <td>NB</td>\n",
       "      <td>Naive Bayes</td>\n",
       "      <td>BAY</td>\n",
       "      <td>20</td>\n",
       "      <td>NB</td>\n",
       "    </tr>\n",
       "    <tr>\n",
       "      <th>8</th>\n",
       "      <td>BRT</td>\n",
       "      <td>Boosted Regression Tree</td>\n",
       "      <td>ENS</td>\n",
       "      <td>20</td>\n",
       "      <td>BRT</td>\n",
       "    </tr>\n",
       "    <tr>\n",
       "      <th>9</th>\n",
       "      <td>DT</td>\n",
       "      <td>Decision Trees</td>\n",
       "      <td>DT</td>\n",
       "      <td>19</td>\n",
       "      <td>DT</td>\n",
       "    </tr>\n",
       "    <tr>\n",
       "      <th>10</th>\n",
       "      <td>LOGR</td>\n",
       "      <td>Logistic Regression</td>\n",
       "      <td>LR</td>\n",
       "      <td>18</td>\n",
       "      <td>LOGR</td>\n",
       "    </tr>\n",
       "    <tr>\n",
       "      <th>11</th>\n",
       "      <td>AB</td>\n",
       "      <td>AdaBoost</td>\n",
       "      <td>ENS</td>\n",
       "      <td>15</td>\n",
       "      <td>AB</td>\n",
       "    </tr>\n",
       "    <tr>\n",
       "      <th>12</th>\n",
       "      <td>ADT</td>\n",
       "      <td>Alternating Decision Trees</td>\n",
       "      <td>DT</td>\n",
       "      <td>12</td>\n",
       "      <td>ADT</td>\n",
       "    </tr>\n",
       "    <tr>\n",
       "      <th>13</th>\n",
       "      <td>GBDT</td>\n",
       "      <td>Gradient Boosted Decision Trees</td>\n",
       "      <td>ENS</td>\n",
       "      <td>12</td>\n",
       "      <td>GBDT</td>\n",
       "    </tr>\n",
       "    <tr>\n",
       "      <th>14</th>\n",
       "      <td>GLM</td>\n",
       "      <td>General Linear Model</td>\n",
       "      <td>LR</td>\n",
       "      <td>11</td>\n",
       "      <td>GLM</td>\n",
       "    </tr>\n",
       "    <tr>\n",
       "      <th>15</th>\n",
       "      <td>ERT</td>\n",
       "      <td>Extremely Randomized Trees</td>\n",
       "      <td>ENS</td>\n",
       "      <td>9</td>\n",
       "      <td>ERT</td>\n",
       "    </tr>\n",
       "    <tr>\n",
       "      <th>16</th>\n",
       "      <td>CB</td>\n",
       "      <td>CatBoost</td>\n",
       "      <td>ENS</td>\n",
       "      <td>8</td>\n",
       "      <td>CB</td>\n",
       "    </tr>\n",
       "    <tr>\n",
       "      <th>17</th>\n",
       "      <td>STACK</td>\n",
       "      <td>Stacking of multiple models</td>\n",
       "      <td>ENS</td>\n",
       "      <td>8</td>\n",
       "      <td>STACK</td>\n",
       "    </tr>\n",
       "    <tr>\n",
       "      <th>18</th>\n",
       "      <td>LGBM</td>\n",
       "      <td>Light Gradient Boosting Machine</td>\n",
       "      <td>ENS</td>\n",
       "      <td>8</td>\n",
       "      <td>LGBM</td>\n",
       "    </tr>\n",
       "    <tr>\n",
       "      <th>19</th>\n",
       "      <td>LMT</td>\n",
       "      <td>Logistic Model Tree</td>\n",
       "      <td>DT</td>\n",
       "      <td>8</td>\n",
       "      <td>LMT</td>\n",
       "    </tr>\n",
       "    <tr>\n",
       "      <th>20</th>\n",
       "      <td>MARS</td>\n",
       "      <td>Multivariate Adaptive Regression Spline</td>\n",
       "      <td>LR</td>\n",
       "      <td>7</td>\n",
       "      <td>MARS</td>\n",
       "    </tr>\n",
       "    <tr>\n",
       "      <th>21</th>\n",
       "      <td>REPDT</td>\n",
       "      <td>Reduced Error Pruning Decision Tree</td>\n",
       "      <td>DT</td>\n",
       "      <td>7</td>\n",
       "      <td>REPDT</td>\n",
       "    </tr>\n",
       "    <tr>\n",
       "      <th>22</th>\n",
       "      <td>MENT</td>\n",
       "      <td>Maximum Entropy</td>\n",
       "      <td>LR</td>\n",
       "      <td>7</td>\n",
       "      <td>MENT</td>\n",
       "    </tr>\n",
       "    <tr>\n",
       "      <th>23</th>\n",
       "      <td>RSSDT</td>\n",
       "      <td>Random SubSpace Decision Trees</td>\n",
       "      <td>ENS</td>\n",
       "      <td>7</td>\n",
       "      <td>RSSDT</td>\n",
       "    </tr>\n",
       "    <tr>\n",
       "      <th>24</th>\n",
       "      <td>FR</td>\n",
       "      <td>Frequency Ratio</td>\n",
       "      <td>STAT</td>\n",
       "      <td>7</td>\n",
       "      <td>FR</td>\n",
       "    </tr>\n",
       "    <tr>\n",
       "      <th>25</th>\n",
       "      <td>BDT</td>\n",
       "      <td>Bagging Decision Trees</td>\n",
       "      <td>ENS</td>\n",
       "      <td>6</td>\n",
       "      <td>BDT</td>\n",
       "    </tr>\n",
       "    <tr>\n",
       "      <th>26</th>\n",
       "      <td>NBT</td>\n",
       "      <td>Naive Bayes Trees</td>\n",
       "      <td>DT</td>\n",
       "      <td>5</td>\n",
       "      <td>NBT</td>\n",
       "    </tr>\n",
       "    <tr>\n",
       "      <th>27</th>\n",
       "      <td>LR</td>\n",
       "      <td>Linear Regression</td>\n",
       "      <td>LR</td>\n",
       "      <td>5</td>\n",
       "      <td>LR</td>\n",
       "    </tr>\n",
       "    <tr>\n",
       "      <th>28</th>\n",
       "      <td>ANFIS</td>\n",
       "      <td>Adaptive Neuro-Fuzzy Inference System</td>\n",
       "      <td>NN</td>\n",
       "      <td>5</td>\n",
       "      <td>ANFIS</td>\n",
       "    </tr>\n",
       "    <tr>\n",
       "      <th>29</th>\n",
       "      <td>MDA</td>\n",
       "      <td>Multivariate Discriminant Analysis</td>\n",
       "      <td>DR</td>\n",
       "      <td>5</td>\n",
       "      <td>MDA</td>\n",
       "    </tr>\n",
       "    <tr>\n",
       "      <th>30</th>\n",
       "      <td>RNN</td>\n",
       "      <td>Recurrent Neural Network</td>\n",
       "      <td>NN</td>\n",
       "      <td>5</td>\n",
       "      <td>RNN</td>\n",
       "    </tr>\n",
       "    <tr>\n",
       "      <th>31</th>\n",
       "      <td>CART</td>\n",
       "      <td>Classification And Regression Tress</td>\n",
       "      <td>DT</td>\n",
       "      <td>4</td>\n",
       "      <td>CART</td>\n",
       "    </tr>\n",
       "    <tr>\n",
       "      <th>32</th>\n",
       "      <td>JDT</td>\n",
       "      <td>J48 Decision Tree</td>\n",
       "      <td>DT</td>\n",
       "      <td>4</td>\n",
       "      <td>JDT</td>\n",
       "    </tr>\n",
       "    <tr>\n",
       "      <th>33</th>\n",
       "      <td>ROF</td>\n",
       "      <td>ROtation forest</td>\n",
       "      <td>ENS</td>\n",
       "      <td>4</td>\n",
       "      <td>ROF</td>\n",
       "    </tr>\n",
       "    <tr>\n",
       "      <th>34</th>\n",
       "      <td>SVR</td>\n",
       "      <td>Support Vector Regression</td>\n",
       "      <td>SVM</td>\n",
       "      <td>3</td>\n",
       "      <td>SVR</td>\n",
       "    </tr>\n",
       "    <tr>\n",
       "      <th>35</th>\n",
       "      <td>GAM</td>\n",
       "      <td>General Additive Model</td>\n",
       "      <td>LR</td>\n",
       "      <td>3</td>\n",
       "      <td>GAM</td>\n",
       "    </tr>\n",
       "    <tr>\n",
       "      <th>36</th>\n",
       "      <td>FDA</td>\n",
       "      <td>Functional Data Analysis</td>\n",
       "      <td>STAT</td>\n",
       "      <td>3</td>\n",
       "      <td>FDA</td>\n",
       "    </tr>\n",
       "    <tr>\n",
       "      <th>37</th>\n",
       "      <td>GBM</td>\n",
       "      <td>Gradient Boosting Machine</td>\n",
       "      <td>ENS</td>\n",
       "      <td>3</td>\n",
       "      <td>GBM</td>\n",
       "    </tr>\n",
       "    <tr>\n",
       "      <th>38</th>\n",
       "      <td>DB</td>\n",
       "      <td>DeepBoost</td>\n",
       "      <td>ENS</td>\n",
       "      <td>3</td>\n",
       "      <td>DB</td>\n",
       "    </tr>\n",
       "    <tr>\n",
       "      <th>39</th>\n",
       "      <td>BLOGR</td>\n",
       "      <td>Bayesian Logistic Regression</td>\n",
       "      <td>BAY</td>\n",
       "      <td>3</td>\n",
       "      <td>BLOGR</td>\n",
       "    </tr>\n",
       "    <tr>\n",
       "      <th>40</th>\n",
       "      <td>BOGLM</td>\n",
       "      <td>Boosted Generalized Linear Model</td>\n",
       "      <td>ENS</td>\n",
       "      <td>3</td>\n",
       "      <td>BOGLM</td>\n",
       "    </tr>\n",
       "    <tr>\n",
       "      <th>41</th>\n",
       "      <td>BFDT</td>\n",
       "      <td>Best First Decision Trees</td>\n",
       "      <td>DT</td>\n",
       "      <td>3</td>\n",
       "      <td>BFDT</td>\n",
       "    </tr>\n",
       "    <tr>\n",
       "      <th>42</th>\n",
       "      <td>DBN</td>\n",
       "      <td>Deep Belief Network</td>\n",
       "      <td>NN</td>\n",
       "      <td>3</td>\n",
       "      <td>DBN</td>\n",
       "    </tr>\n",
       "    <tr>\n",
       "      <th>43</th>\n",
       "      <td>RSSJDT</td>\n",
       "      <td>Random SubSpace J48 Decision Tree</td>\n",
       "      <td>ENS</td>\n",
       "      <td>2</td>\n",
       "      <td>RSSJDT</td>\n",
       "    </tr>\n",
       "    <tr>\n",
       "      <th>44</th>\n",
       "      <td>DFPA</td>\n",
       "      <td>Decorate Forest Penalizing Attribute</td>\n",
       "      <td>ENS</td>\n",
       "      <td>2</td>\n",
       "      <td>DFPA</td>\n",
       "    </tr>\n",
       "    <tr>\n",
       "      <th>45</th>\n",
       "      <td>MKL</td>\n",
       "      <td>Multiple Kernel Learning</td>\n",
       "      <td>SVM</td>\n",
       "      <td>2</td>\n",
       "      <td>MKL</td>\n",
       "    </tr>\n",
       "    <tr>\n",
       "      <th>46</th>\n",
       "      <td>CDT</td>\n",
       "      <td>Credal Decision Trees</td>\n",
       "      <td>ENS</td>\n",
       "      <td>2</td>\n",
       "      <td>CDT</td>\n",
       "    </tr>\n",
       "    <tr>\n",
       "      <th>47</th>\n",
       "      <td>BREPDT</td>\n",
       "      <td>Bagging Reduced Error Pruning Decision Tree</td>\n",
       "      <td>ENS</td>\n",
       "      <td>2</td>\n",
       "      <td>BREPDT</td>\n",
       "    </tr>\n",
       "    <tr>\n",
       "      <th>48</th>\n",
       "      <td>GARP</td>\n",
       "      <td>Genetic Algorithm Rule-Set Production</td>\n",
       "      <td>RS</td>\n",
       "      <td>2</td>\n",
       "      <td>GARP</td>\n",
       "    </tr>\n",
       "    <tr>\n",
       "      <th>49</th>\n",
       "      <td>ABREPDT</td>\n",
       "      <td>AdaBoost Reduced Error Pruning Decision Tree</td>\n",
       "      <td>ENS</td>\n",
       "      <td>2</td>\n",
       "      <td>ABREPDT</td>\n",
       "    </tr>\n",
       "    <tr>\n",
       "      <th>50</th>\n",
       "      <td>BBFDT</td>\n",
       "      <td>Bagging Best First Decision Trees</td>\n",
       "      <td>ENS</td>\n",
       "      <td>2</td>\n",
       "      <td>BBFDT</td>\n",
       "    </tr>\n",
       "    <tr>\n",
       "      <th>51</th>\n",
       "      <td>BCT</td>\n",
       "      <td>Boosted Classification Tree</td>\n",
       "      <td>ENS</td>\n",
       "      <td>2</td>\n",
       "      <td>BCT</td>\n",
       "    </tr>\n",
       "    <tr>\n",
       "      <th>52</th>\n",
       "      <td>BGLM</td>\n",
       "      <td>Bayesian General Linear Model</td>\n",
       "      <td>BAY</td>\n",
       "      <td>2</td>\n",
       "      <td>BGLM</td>\n",
       "    </tr>\n",
       "    <tr>\n",
       "      <th>53</th>\n",
       "      <td>M5P</td>\n",
       "      <td>M5 model trees</td>\n",
       "      <td>DT</td>\n",
       "      <td>2</td>\n",
       "      <td>M5P</td>\n",
       "    </tr>\n",
       "    <tr>\n",
       "      <th>54</th>\n",
       "      <td>LASSO</td>\n",
       "      <td>LASSO Regression</td>\n",
       "      <td>LR</td>\n",
       "      <td>2</td>\n",
       "      <td>LASSO</td>\n",
       "    </tr>\n",
       "    <tr>\n",
       "      <th>55</th>\n",
       "      <td>MB</td>\n",
       "      <td>MultiBoostAB</td>\n",
       "      <td>ENS</td>\n",
       "      <td>2</td>\n",
       "      <td>MB</td>\n",
       "    </tr>\n",
       "    <tr>\n",
       "      <th>56</th>\n",
       "      <td>KS</td>\n",
       "      <td>K-Star</td>\n",
       "      <td>IB</td>\n",
       "      <td>2</td>\n",
       "      <td>KS</td>\n",
       "    </tr>\n",
       "    <tr>\n",
       "      <th>57</th>\n",
       "      <td>DABFDT</td>\n",
       "      <td>Dagging Best First Decision Trees</td>\n",
       "      <td>ENS</td>\n",
       "      <td>1</td>\n",
       "      <td>DABFDT</td>\n",
       "    </tr>\n",
       "    <tr>\n",
       "      <th>58</th>\n",
       "      <td>CIRF</td>\n",
       "      <td>Conditional Inference Random Forest</td>\n",
       "      <td>ENS</td>\n",
       "      <td>1</td>\n",
       "      <td>CIRF</td>\n",
       "    </tr>\n",
       "    <tr>\n",
       "      <th>59</th>\n",
       "      <td>BM5P</td>\n",
       "      <td>Bagging M5 model trees</td>\n",
       "      <td>ENS</td>\n",
       "      <td>1</td>\n",
       "      <td>BM5P</td>\n",
       "    </tr>\n",
       "    <tr>\n",
       "      <th>60</th>\n",
       "      <td>CSF</td>\n",
       "      <td>Cost Sensitive Forest</td>\n",
       "      <td>ENS</td>\n",
       "      <td>1</td>\n",
       "      <td>CSF</td>\n",
       "    </tr>\n",
       "    <tr>\n",
       "      <th>61</th>\n",
       "      <td>CRF</td>\n",
       "      <td>Cascade Random Forest</td>\n",
       "      <td>ENS</td>\n",
       "      <td>1</td>\n",
       "      <td>CRF</td>\n",
       "    </tr>\n",
       "    <tr>\n",
       "      <th>62</th>\n",
       "      <td>BKNN</td>\n",
       "      <td>Bagging K-Nearest-Neighbor</td>\n",
       "      <td>ENS</td>\n",
       "      <td>1</td>\n",
       "      <td>BKNN</td>\n",
       "    </tr>\n",
       "    <tr>\n",
       "      <th>63</th>\n",
       "      <td>BPDT</td>\n",
       "      <td>Bagging Partial Decision Tree</td>\n",
       "      <td>ENS</td>\n",
       "      <td>1</td>\n",
       "      <td>BPDT</td>\n",
       "    </tr>\n",
       "    <tr>\n",
       "      <th>64</th>\n",
       "      <td>BCDT</td>\n",
       "      <td>Bagging Credal Decision Trees</td>\n",
       "      <td>ENS</td>\n",
       "      <td>1</td>\n",
       "      <td>BCDT</td>\n",
       "    </tr>\n",
       "    <tr>\n",
       "      <th>65</th>\n",
       "      <td>BDTA</td>\n",
       "      <td>Bagging Decision Table</td>\n",
       "      <td>ENS</td>\n",
       "      <td>1</td>\n",
       "      <td>BDTA</td>\n",
       "    </tr>\n",
       "    <tr>\n",
       "      <th>66</th>\n",
       "      <td>BFPA</td>\n",
       "      <td>Baggin Forest Penalizing Attribute</td>\n",
       "      <td>ENS</td>\n",
       "      <td>1</td>\n",
       "      <td>BFPA</td>\n",
       "    </tr>\n",
       "    <tr>\n",
       "      <th>67</th>\n",
       "      <td>BFT</td>\n",
       "      <td>Bagging Functional Tree</td>\n",
       "      <td>ENS</td>\n",
       "      <td>1</td>\n",
       "      <td>BFT</td>\n",
       "    </tr>\n",
       "    <tr>\n",
       "      <th>68</th>\n",
       "      <td>BRF</td>\n",
       "      <td>Bagging Random Forest</td>\n",
       "      <td>ENS</td>\n",
       "      <td>1</td>\n",
       "      <td>BRF</td>\n",
       "    </tr>\n",
       "    <tr>\n",
       "      <th>69</th>\n",
       "      <td>BSMO</td>\n",
       "      <td>Bagging Sequential Minimal Optimization</td>\n",
       "      <td>ENS</td>\n",
       "      <td>1</td>\n",
       "      <td>BSMO</td>\n",
       "    </tr>\n",
       "    <tr>\n",
       "      <th>70</th>\n",
       "      <td>ABCDT</td>\n",
       "      <td>AdaBoost Credal Decision Trees</td>\n",
       "      <td>ENS</td>\n",
       "      <td>1</td>\n",
       "      <td>ABCDT</td>\n",
       "    </tr>\n",
       "    <tr>\n",
       "      <th>71</th>\n",
       "      <td>ABDTA</td>\n",
       "      <td>Ada-Boost Decision Table</td>\n",
       "      <td>ENS</td>\n",
       "      <td>1</td>\n",
       "      <td>ABDTA</td>\n",
       "    </tr>\n",
       "    <tr>\n",
       "      <th>72</th>\n",
       "      <td>BA</td>\n",
       "      <td>Bootsrap aggregation</td>\n",
       "      <td>ENS</td>\n",
       "      <td>1</td>\n",
       "      <td>BA</td>\n",
       "    </tr>\n",
       "    <tr>\n",
       "      <th>73</th>\n",
       "      <td>ABPDT</td>\n",
       "      <td>AdaBoost Partial Decision Tree</td>\n",
       "      <td>ENS</td>\n",
       "      <td>1</td>\n",
       "      <td>ABPDT</td>\n",
       "    </tr>\n",
       "    <tr>\n",
       "      <th>74</th>\n",
       "      <td>BANN</td>\n",
       "      <td>Bagging Artificial Neural Network</td>\n",
       "      <td>ENS</td>\n",
       "      <td>1</td>\n",
       "      <td>BANN</td>\n",
       "    </tr>\n",
       "    <tr>\n",
       "      <th>75</th>\n",
       "      <td>BART</td>\n",
       "      <td>Bagging Random Trees</td>\n",
       "      <td>ENS</td>\n",
       "      <td>1</td>\n",
       "      <td>BART</td>\n",
       "    </tr>\n",
       "    <tr>\n",
       "      <th>76</th>\n",
       "      <td>GBRT</td>\n",
       "      <td>Gradient Boosting Regression Trees</td>\n",
       "      <td>DT</td>\n",
       "      <td>1</td>\n",
       "      <td>GBRT</td>\n",
       "    </tr>\n",
       "    <tr>\n",
       "      <th>77</th>\n",
       "      <td>PDT</td>\n",
       "      <td>Partial Decision Tree</td>\n",
       "      <td>DT</td>\n",
       "      <td>1</td>\n",
       "      <td>PDT</td>\n",
       "    </tr>\n",
       "    <tr>\n",
       "      <th>78</th>\n",
       "      <td>RVM</td>\n",
       "      <td>Relevance Vector Machine</td>\n",
       "      <td>BAY</td>\n",
       "      <td>1</td>\n",
       "      <td>RVM</td>\n",
       "    </tr>\n",
       "    <tr>\n",
       "      <th>79</th>\n",
       "      <td>GPR</td>\n",
       "      <td>Gaussian Process Regression</td>\n",
       "      <td>BAY</td>\n",
       "      <td>1</td>\n",
       "      <td>GPR</td>\n",
       "    </tr>\n",
       "    <tr>\n",
       "      <th>80</th>\n",
       "      <td>MixDA</td>\n",
       "      <td>Mixture Discriminant Analysis</td>\n",
       "      <td>DR</td>\n",
       "      <td>1</td>\n",
       "      <td>MixDA</td>\n",
       "    </tr>\n",
       "    <tr>\n",
       "      <th>81</th>\n",
       "      <td>C45DT</td>\n",
       "      <td>C4.5 Decision Tree</td>\n",
       "      <td>DT</td>\n",
       "      <td>1</td>\n",
       "      <td>C45DT</td>\n",
       "    </tr>\n",
       "    <tr>\n",
       "      <th>82</th>\n",
       "      <td>FT</td>\n",
       "      <td>Functional Tree</td>\n",
       "      <td>DT</td>\n",
       "      <td>1</td>\n",
       "      <td>FT</td>\n",
       "    </tr>\n",
       "    <tr>\n",
       "      <th>83</th>\n",
       "      <td>DTC</td>\n",
       "      <td>Decision Table Classifier</td>\n",
       "      <td>DT</td>\n",
       "      <td>1</td>\n",
       "      <td>DTC</td>\n",
       "    </tr>\n",
       "    <tr>\n",
       "      <th>84</th>\n",
       "      <td>BGAM</td>\n",
       "      <td>Boosted Generalized Additive Model</td>\n",
       "      <td>ENS</td>\n",
       "      <td>1</td>\n",
       "      <td>BGAM</td>\n",
       "    </tr>\n",
       "    <tr>\n",
       "      <th>85</th>\n",
       "      <td>BGP</td>\n",
       "      <td>Bagging Gaussian Process</td>\n",
       "      <td>ENS</td>\n",
       "      <td>1</td>\n",
       "      <td>BGP</td>\n",
       "    </tr>\n",
       "    <tr>\n",
       "      <th>86</th>\n",
       "      <td>DBFDT</td>\n",
       "      <td>Decorate Best First Decision Trees</td>\n",
       "      <td>ENS</td>\n",
       "      <td>1</td>\n",
       "      <td>DBFDT</td>\n",
       "    </tr>\n",
       "    <tr>\n",
       "      <th>87</th>\n",
       "      <td>UB</td>\n",
       "      <td>UltraBoost</td>\n",
       "      <td>ENS</td>\n",
       "      <td>1</td>\n",
       "      <td>UB</td>\n",
       "    </tr>\n",
       "    <tr>\n",
       "      <th>88</th>\n",
       "      <td>SF</td>\n",
       "      <td>SysFor</td>\n",
       "      <td>ENS</td>\n",
       "      <td>1</td>\n",
       "      <td>SF</td>\n",
       "    </tr>\n",
       "    <tr>\n",
       "      <th>89</th>\n",
       "      <td>SGB</td>\n",
       "      <td>Stochastic Gradient Boosting</td>\n",
       "      <td>ENS</td>\n",
       "      <td>1</td>\n",
       "      <td>SGB</td>\n",
       "    </tr>\n",
       "    <tr>\n",
       "      <th>90</th>\n",
       "      <td>HP</td>\n",
       "      <td>Hyperpipes</td>\n",
       "      <td>IB</td>\n",
       "      <td>1</td>\n",
       "      <td>HP</td>\n",
       "    </tr>\n",
       "    <tr>\n",
       "      <th>91</th>\n",
       "      <td>ROFFT</td>\n",
       "      <td>Rotational Forest Functional Tree</td>\n",
       "      <td>ENS</td>\n",
       "      <td>1</td>\n",
       "      <td>ROFFT</td>\n",
       "    </tr>\n",
       "    <tr>\n",
       "      <th>92</th>\n",
       "      <td>RSSBFDT</td>\n",
       "      <td>Random SubSpace Best First Decision Trees</td>\n",
       "      <td>ENS</td>\n",
       "      <td>1</td>\n",
       "      <td>RSSBFDT</td>\n",
       "    </tr>\n",
       "    <tr>\n",
       "      <th>93</th>\n",
       "      <td>RSSCDT</td>\n",
       "      <td>Random SubSpace Credal Decision Trees</td>\n",
       "      <td>ENS</td>\n",
       "      <td>1</td>\n",
       "      <td>RSSCDT</td>\n",
       "    </tr>\n",
       "    <tr>\n",
       "      <th>94</th>\n",
       "      <td>RABJDT</td>\n",
       "      <td>Real AdaBoost J48 Decision Tree</td>\n",
       "      <td>ENS</td>\n",
       "      <td>1</td>\n",
       "      <td>RABJDT</td>\n",
       "    </tr>\n",
       "    <tr>\n",
       "      <th>95</th>\n",
       "      <td>RNB</td>\n",
       "      <td>Random Naive Bayes</td>\n",
       "      <td>ENS</td>\n",
       "      <td>1</td>\n",
       "      <td>RNB</td>\n",
       "    </tr>\n",
       "    <tr>\n",
       "      <th>96</th>\n",
       "      <td>DFT</td>\n",
       "      <td>Dagging Functional Tree</td>\n",
       "      <td>ENS</td>\n",
       "      <td>1</td>\n",
       "      <td>DFT</td>\n",
       "    </tr>\n",
       "    <tr>\n",
       "      <th>97</th>\n",
       "      <td>MBANN</td>\n",
       "      <td>MultiBoost Artificial Neural Network</td>\n",
       "      <td>ENS</td>\n",
       "      <td>1</td>\n",
       "      <td>MBANN</td>\n",
       "    </tr>\n",
       "    <tr>\n",
       "      <th>98</th>\n",
       "      <td>MBCDT</td>\n",
       "      <td>Multi-Boost AdaBoost Credal Decision Trees</td>\n",
       "      <td>ENS</td>\n",
       "      <td>1</td>\n",
       "      <td>MBCDT</td>\n",
       "    </tr>\n",
       "    <tr>\n",
       "      <th>99</th>\n",
       "      <td>MBJDT</td>\n",
       "      <td>Multi-Boosting J48 Decision Tree</td>\n",
       "      <td>ENS</td>\n",
       "      <td>1</td>\n",
       "      <td>MBJDT</td>\n",
       "    </tr>\n",
       "    <tr>\n",
       "      <th>100</th>\n",
       "      <td>MBREPDT</td>\n",
       "      <td>MultiBoostAB Reduced Error Pruning Decision Tree</td>\n",
       "      <td>ENS</td>\n",
       "      <td>1</td>\n",
       "      <td>MBREPDT</td>\n",
       "    </tr>\n",
       "    <tr>\n",
       "      <th>101</th>\n",
       "      <td>NGB</td>\n",
       "      <td>Natural Gradient Boosting Machines</td>\n",
       "      <td>ENS</td>\n",
       "      <td>1</td>\n",
       "      <td>NGB</td>\n",
       "    </tr>\n",
       "    <tr>\n",
       "      <th>102</th>\n",
       "      <td>DCDT</td>\n",
       "      <td>Dagging Credal Decision Trees</td>\n",
       "      <td>ENS</td>\n",
       "      <td>1</td>\n",
       "      <td>DCDT</td>\n",
       "    </tr>\n",
       "    <tr>\n",
       "      <th>103</th>\n",
       "      <td>DM5P</td>\n",
       "      <td>Dagging M5 model trees</td>\n",
       "      <td>ENS</td>\n",
       "      <td>1</td>\n",
       "      <td>DM5P</td>\n",
       "    </tr>\n",
       "    <tr>\n",
       "      <th>104</th>\n",
       "      <td>DREPDT</td>\n",
       "      <td>Decorate Reduced Error Pruning Decision Tree</td>\n",
       "      <td>ENS</td>\n",
       "      <td>1</td>\n",
       "      <td>DREPDT</td>\n",
       "    </tr>\n",
       "    <tr>\n",
       "      <th>105</th>\n",
       "      <td>DPDT</td>\n",
       "      <td>Dagging Partial Decision Tree</td>\n",
       "      <td>ENS</td>\n",
       "      <td>1</td>\n",
       "      <td>DPDT</td>\n",
       "    </tr>\n",
       "    <tr>\n",
       "      <th>106</th>\n",
       "      <td>RSSPDT</td>\n",
       "      <td>Random SubSpace Partial Decision Trees</td>\n",
       "      <td>ENS</td>\n",
       "      <td>1</td>\n",
       "      <td>RSSPDT</td>\n",
       "    </tr>\n",
       "    <tr>\n",
       "      <th>107</th>\n",
       "      <td>LWLR</td>\n",
       "      <td>Locally Weighted Linear Regression</td>\n",
       "      <td>IB</td>\n",
       "      <td>1</td>\n",
       "      <td>LWLR</td>\n",
       "    </tr>\n",
       "    <tr>\n",
       "      <th>108</th>\n",
       "      <td>ENC</td>\n",
       "      <td>ElasticNet Classifier</td>\n",
       "      <td>LR</td>\n",
       "      <td>1</td>\n",
       "      <td>ENC</td>\n",
       "    </tr>\n",
       "    <tr>\n",
       "      <th>109</th>\n",
       "      <td>KLOGR</td>\n",
       "      <td>Kernel Logistic Regression</td>\n",
       "      <td>LR</td>\n",
       "      <td>1</td>\n",
       "      <td>KLOGR</td>\n",
       "    </tr>\n",
       "    <tr>\n",
       "      <th>110</th>\n",
       "      <td>SGD</td>\n",
       "      <td>Stochastic Gradient Descent</td>\n",
       "      <td>LR</td>\n",
       "      <td>1</td>\n",
       "      <td>SGD</td>\n",
       "    </tr>\n",
       "    <tr>\n",
       "      <th>111</th>\n",
       "      <td>RESNN</td>\n",
       "      <td>Residual Neural Network</td>\n",
       "      <td>NN</td>\n",
       "      <td>1</td>\n",
       "      <td>RESNN</td>\n",
       "    </tr>\n",
       "    <tr>\n",
       "      <th>112</th>\n",
       "      <td>PER</td>\n",
       "      <td>Perceptron</td>\n",
       "      <td>NN</td>\n",
       "      <td>1</td>\n",
       "      <td>PER</td>\n",
       "    </tr>\n",
       "    <tr>\n",
       "      <th>113</th>\n",
       "      <td>GNN</td>\n",
       "      <td>Graph Neural Network</td>\n",
       "      <td>NN</td>\n",
       "      <td>1</td>\n",
       "      <td>GNN</td>\n",
       "    </tr>\n",
       "    <tr>\n",
       "      <th>114</th>\n",
       "      <td>BPNN</td>\n",
       "      <td>BackPropagation Neural Networks</td>\n",
       "      <td>NN</td>\n",
       "      <td>1</td>\n",
       "      <td>BPNN</td>\n",
       "    </tr>\n",
       "    <tr>\n",
       "      <th>115</th>\n",
       "      <td>RBF</td>\n",
       "      <td>Radial Basis Function</td>\n",
       "      <td>NN</td>\n",
       "      <td>1</td>\n",
       "      <td>RBF</td>\n",
       "    </tr>\n",
       "    <tr>\n",
       "      <th>116</th>\n",
       "      <td>ARIMA</td>\n",
       "      <td>Autoregressive Integrated Moving Average</td>\n",
       "      <td>TS</td>\n",
       "      <td>1</td>\n",
       "      <td>ARIMA</td>\n",
       "    </tr>\n",
       "  </tbody>\n",
       "</table>\n",
       "</div>"
      ],
      "text/plain": [
       "         Tag                                         Full Name Category  \\\n",
       "0         RF                                     Random Forest      ENS   \n",
       "1        ANN                         Artificial Neural Network       NN   \n",
       "2        SVM                            Support Vector Machine      SVM   \n",
       "3        XGB                         Extreme Gradient Boosting      ENS   \n",
       "4        KNN                                K-Nearest-Neighbor       IB   \n",
       "5        CNN                      Convolutional Neural Network       NN   \n",
       "6        DNN                               Deep Neural Network       NN   \n",
       "7         NB                                       Naive Bayes      BAY   \n",
       "8        BRT                           Boosted Regression Tree      ENS   \n",
       "9         DT                                    Decision Trees       DT   \n",
       "10      LOGR                               Logistic Regression       LR   \n",
       "11        AB                                          AdaBoost      ENS   \n",
       "12       ADT                        Alternating Decision Trees       DT   \n",
       "13      GBDT                   Gradient Boosted Decision Trees      ENS   \n",
       "14       GLM                              General Linear Model       LR   \n",
       "15       ERT                        Extremely Randomized Trees      ENS   \n",
       "16        CB                                          CatBoost      ENS   \n",
       "17     STACK                       Stacking of multiple models      ENS   \n",
       "18      LGBM                   Light Gradient Boosting Machine      ENS   \n",
       "19       LMT                               Logistic Model Tree       DT   \n",
       "20      MARS           Multivariate Adaptive Regression Spline       LR   \n",
       "21     REPDT               Reduced Error Pruning Decision Tree       DT   \n",
       "22      MENT                                   Maximum Entropy       LR   \n",
       "23     RSSDT                    Random SubSpace Decision Trees      ENS   \n",
       "24        FR                                   Frequency Ratio     STAT   \n",
       "25       BDT                            Bagging Decision Trees      ENS   \n",
       "26       NBT                                 Naive Bayes Trees       DT   \n",
       "27        LR                                 Linear Regression       LR   \n",
       "28     ANFIS             Adaptive Neuro-Fuzzy Inference System       NN   \n",
       "29       MDA                Multivariate Discriminant Analysis       DR   \n",
       "30       RNN                          Recurrent Neural Network       NN   \n",
       "31      CART               Classification And Regression Tress       DT   \n",
       "32       JDT                                 J48 Decision Tree       DT   \n",
       "33       ROF                                   ROtation forest      ENS   \n",
       "34       SVR                         Support Vector Regression      SVM   \n",
       "35       GAM                            General Additive Model       LR   \n",
       "36       FDA                          Functional Data Analysis     STAT   \n",
       "37       GBM                         Gradient Boosting Machine      ENS   \n",
       "38        DB                                         DeepBoost      ENS   \n",
       "39     BLOGR                      Bayesian Logistic Regression      BAY   \n",
       "40     BOGLM                  Boosted Generalized Linear Model      ENS   \n",
       "41      BFDT                         Best First Decision Trees       DT   \n",
       "42       DBN                               Deep Belief Network       NN   \n",
       "43    RSSJDT                 Random SubSpace J48 Decision Tree      ENS   \n",
       "44      DFPA              Decorate Forest Penalizing Attribute      ENS   \n",
       "45       MKL                          Multiple Kernel Learning      SVM   \n",
       "46       CDT                             Credal Decision Trees      ENS   \n",
       "47    BREPDT       Bagging Reduced Error Pruning Decision Tree      ENS   \n",
       "48      GARP             Genetic Algorithm Rule-Set Production       RS   \n",
       "49   ABREPDT      AdaBoost Reduced Error Pruning Decision Tree      ENS   \n",
       "50     BBFDT                 Bagging Best First Decision Trees      ENS   \n",
       "51       BCT                       Boosted Classification Tree      ENS   \n",
       "52      BGLM                     Bayesian General Linear Model      BAY   \n",
       "53       M5P                                    M5 model trees       DT   \n",
       "54     LASSO                                  LASSO Regression       LR   \n",
       "55        MB                                      MultiBoostAB      ENS   \n",
       "56        KS                                            K-Star       IB   \n",
       "57    DABFDT                 Dagging Best First Decision Trees      ENS   \n",
       "58      CIRF               Conditional Inference Random Forest      ENS   \n",
       "59      BM5P                            Bagging M5 model trees      ENS   \n",
       "60       CSF                             Cost Sensitive Forest      ENS   \n",
       "61       CRF                             Cascade Random Forest      ENS   \n",
       "62      BKNN                        Bagging K-Nearest-Neighbor      ENS   \n",
       "63      BPDT                     Bagging Partial Decision Tree      ENS   \n",
       "64      BCDT                     Bagging Credal Decision Trees      ENS   \n",
       "65      BDTA                            Bagging Decision Table      ENS   \n",
       "66      BFPA                Baggin Forest Penalizing Attribute      ENS   \n",
       "67       BFT                           Bagging Functional Tree      ENS   \n",
       "68       BRF                             Bagging Random Forest      ENS   \n",
       "69      BSMO           Bagging Sequential Minimal Optimization      ENS   \n",
       "70     ABCDT                    AdaBoost Credal Decision Trees      ENS   \n",
       "71     ABDTA                          Ada-Boost Decision Table      ENS   \n",
       "72        BA                              Bootsrap aggregation      ENS   \n",
       "73     ABPDT                    AdaBoost Partial Decision Tree      ENS   \n",
       "74      BANN                 Bagging Artificial Neural Network      ENS   \n",
       "75      BART                              Bagging Random Trees      ENS   \n",
       "76      GBRT                Gradient Boosting Regression Trees       DT   \n",
       "77       PDT                             Partial Decision Tree       DT   \n",
       "78       RVM                          Relevance Vector Machine      BAY   \n",
       "79       GPR                       Gaussian Process Regression      BAY   \n",
       "80     MixDA                     Mixture Discriminant Analysis       DR   \n",
       "81     C45DT                                C4.5 Decision Tree       DT   \n",
       "82        FT                                   Functional Tree       DT   \n",
       "83       DTC                         Decision Table Classifier       DT   \n",
       "84      BGAM                Boosted Generalized Additive Model      ENS   \n",
       "85       BGP                          Bagging Gaussian Process      ENS   \n",
       "86     DBFDT                Decorate Best First Decision Trees      ENS   \n",
       "87        UB                                        UltraBoost      ENS   \n",
       "88        SF                                            SysFor      ENS   \n",
       "89       SGB                      Stochastic Gradient Boosting      ENS   \n",
       "90        HP                                        Hyperpipes       IB   \n",
       "91     ROFFT                 Rotational Forest Functional Tree      ENS   \n",
       "92   RSSBFDT         Random SubSpace Best First Decision Trees      ENS   \n",
       "93    RSSCDT             Random SubSpace Credal Decision Trees      ENS   \n",
       "94    RABJDT                   Real AdaBoost J48 Decision Tree      ENS   \n",
       "95       RNB                                Random Naive Bayes      ENS   \n",
       "96       DFT                           Dagging Functional Tree      ENS   \n",
       "97     MBANN              MultiBoost Artificial Neural Network      ENS   \n",
       "98     MBCDT        Multi-Boost AdaBoost Credal Decision Trees      ENS   \n",
       "99     MBJDT                  Multi-Boosting J48 Decision Tree      ENS   \n",
       "100  MBREPDT  MultiBoostAB Reduced Error Pruning Decision Tree      ENS   \n",
       "101      NGB                Natural Gradient Boosting Machines      ENS   \n",
       "102     DCDT                     Dagging Credal Decision Trees      ENS   \n",
       "103     DM5P                            Dagging M5 model trees      ENS   \n",
       "104   DREPDT      Decorate Reduced Error Pruning Decision Tree      ENS   \n",
       "105     DPDT                     Dagging Partial Decision Tree      ENS   \n",
       "106   RSSPDT            Random SubSpace Partial Decision Trees      ENS   \n",
       "107     LWLR                Locally Weighted Linear Regression       IB   \n",
       "108      ENC                             ElasticNet Classifier       LR   \n",
       "109    KLOGR                        Kernel Logistic Regression       LR   \n",
       "110      SGD                       Stochastic Gradient Descent       LR   \n",
       "111    RESNN                           Residual Neural Network       NN   \n",
       "112      PER                                        Perceptron       NN   \n",
       "113      GNN                              Graph Neural Network       NN   \n",
       "114     BPNN                   BackPropagation Neural Networks       NN   \n",
       "115      RBF                             Radial Basis Function       NN   \n",
       "116    ARIMA          Autoregressive Integrated Moving Average       TS   \n",
       "\n",
       "     Count Filtered Tag  \n",
       "0      105           RF  \n",
       "1       75          ANN  \n",
       "2       65          SVM  \n",
       "3       30          XGB  \n",
       "4       26          KNN  \n",
       "5       21          CNN  \n",
       "6       21          DNN  \n",
       "7       20           NB  \n",
       "8       20          BRT  \n",
       "9       19           DT  \n",
       "10      18         LOGR  \n",
       "11      15           AB  \n",
       "12      12          ADT  \n",
       "13      12         GBDT  \n",
       "14      11          GLM  \n",
       "15       9          ERT  \n",
       "16       8           CB  \n",
       "17       8        STACK  \n",
       "18       8         LGBM  \n",
       "19       8          LMT  \n",
       "20       7         MARS  \n",
       "21       7        REPDT  \n",
       "22       7         MENT  \n",
       "23       7        RSSDT  \n",
       "24       7           FR  \n",
       "25       6          BDT  \n",
       "26       5          NBT  \n",
       "27       5           LR  \n",
       "28       5        ANFIS  \n",
       "29       5          MDA  \n",
       "30       5          RNN  \n",
       "31       4         CART  \n",
       "32       4          JDT  \n",
       "33       4          ROF  \n",
       "34       3          SVR  \n",
       "35       3          GAM  \n",
       "36       3          FDA  \n",
       "37       3          GBM  \n",
       "38       3           DB  \n",
       "39       3        BLOGR  \n",
       "40       3        BOGLM  \n",
       "41       3         BFDT  \n",
       "42       3          DBN  \n",
       "43       2       RSSJDT  \n",
       "44       2         DFPA  \n",
       "45       2          MKL  \n",
       "46       2          CDT  \n",
       "47       2       BREPDT  \n",
       "48       2         GARP  \n",
       "49       2      ABREPDT  \n",
       "50       2        BBFDT  \n",
       "51       2          BCT  \n",
       "52       2         BGLM  \n",
       "53       2          M5P  \n",
       "54       2        LASSO  \n",
       "55       2           MB  \n",
       "56       2           KS  \n",
       "57       1       DABFDT  \n",
       "58       1         CIRF  \n",
       "59       1         BM5P  \n",
       "60       1          CSF  \n",
       "61       1          CRF  \n",
       "62       1         BKNN  \n",
       "63       1         BPDT  \n",
       "64       1         BCDT  \n",
       "65       1         BDTA  \n",
       "66       1         BFPA  \n",
       "67       1          BFT  \n",
       "68       1          BRF  \n",
       "69       1         BSMO  \n",
       "70       1        ABCDT  \n",
       "71       1        ABDTA  \n",
       "72       1           BA  \n",
       "73       1        ABPDT  \n",
       "74       1         BANN  \n",
       "75       1         BART  \n",
       "76       1         GBRT  \n",
       "77       1          PDT  \n",
       "78       1          RVM  \n",
       "79       1          GPR  \n",
       "80       1        MixDA  \n",
       "81       1        C45DT  \n",
       "82       1           FT  \n",
       "83       1          DTC  \n",
       "84       1         BGAM  \n",
       "85       1          BGP  \n",
       "86       1        DBFDT  \n",
       "87       1           UB  \n",
       "88       1           SF  \n",
       "89       1          SGB  \n",
       "90       1           HP  \n",
       "91       1        ROFFT  \n",
       "92       1      RSSBFDT  \n",
       "93       1       RSSCDT  \n",
       "94       1       RABJDT  \n",
       "95       1          RNB  \n",
       "96       1          DFT  \n",
       "97       1        MBANN  \n",
       "98       1        MBCDT  \n",
       "99       1        MBJDT  \n",
       "100      1      MBREPDT  \n",
       "101      1          NGB  \n",
       "102      1         DCDT  \n",
       "103      1         DM5P  \n",
       "104      1       DREPDT  \n",
       "105      1         DPDT  \n",
       "106      1       RSSPDT  \n",
       "107      1         LWLR  \n",
       "108      1          ENC  \n",
       "109      1        KLOGR  \n",
       "110      1          SGD  \n",
       "111      1        RESNN  \n",
       "112      1          PER  \n",
       "113      1          GNN  \n",
       "114      1         BPNN  \n",
       "115      1          RBF  \n",
       "116      1        ARIMA  "
      ]
     },
     "execution_count": 72,
     "metadata": {},
     "output_type": "execute_result"
    }
   ],
   "source": [
    "flood_counts"
   ]
  },
  {
   "cell_type": "markdown",
   "id": "fd9a6dd9",
   "metadata": {},
   "source": [
    "## Landslides"
   ]
  },
  {
   "cell_type": "code",
   "execution_count": 69,
   "id": "93299cd3",
   "metadata": {},
   "outputs": [
    {
     "name": "stdout",
     "output_type": "stream",
     "text": [
      "\n"
     ]
    },
    {
     "data": {
      "application/vnd.plotly.v1+json": {
       "config": {
        "plotlyServerURL": "https://plot.ly"
       },
       "data": [
        {
         "alignmentgroup": "True",
         "hovertemplate": "Category=%{x}<br>Count=%{marker.color}<br>Filtered Tag=%{text}<extra></extra>",
         "legendgroup": "",
         "marker": {
          "color": [
           200,
           151,
           108,
           106,
           48,
           43,
           34,
           29,
           29,
           27,
           20,
           17,
           15,
           15,
           14,
           10,
           10,
           10,
           10,
           9,
           9,
           8,
           8,
           8,
           8,
           8,
           8,
           8,
           8,
           7,
           6,
           6,
           5,
           5,
           4,
           4,
           4,
           4,
           4,
           3,
           3,
           3,
           3,
           3,
           3,
           3,
           3,
           3,
           3,
           3,
           3,
           2,
           2,
           2,
           2,
           2,
           2,
           2,
           2,
           2,
           2,
           2,
           2,
           2,
           2,
           2,
           2,
           2,
           2,
           2,
           1,
           1,
           1,
           1,
           1,
           1,
           1,
           1,
           1,
           1,
           1,
           1,
           1,
           1,
           1,
           1,
           1,
           1,
           1,
           1,
           1,
           1,
           1,
           1,
           1,
           1,
           1,
           1,
           1,
           1,
           1,
           1,
           1,
           1,
           1,
           1,
           1,
           1,
           1,
           1,
           1,
           1,
           1,
           1,
           1,
           1,
           1,
           1,
           1,
           1,
           1,
           1,
           1,
           1,
           1,
           1,
           1,
           1,
           1,
           1,
           1,
           1,
           1,
           1,
           1,
           1,
           1,
           0,
           0,
           0,
           0,
           0,
           0,
           0,
           0,
           0,
           0,
           0,
           0
          ],
          "coloraxis": "coloraxis",
          "pattern": {
           "shape": ""
          }
         },
         "name": "",
         "offsetgroup": "",
         "orientation": "v",
         "showlegend": false,
         "text": [
          "RF",
          "SVM",
          "LOGR",
          "ANN",
          "CNN",
          "XGB",
          "DNN",
          "KNN",
          "NB",
          "DT",
          "GBDT",
          "STACK",
          "MENT",
          "RNN",
          "AB",
          "BDT",
          "LDA",
          "BRT",
          "FR",
          "C50DT",
          "GLM",
          "ADT",
          "LGBM",
          "LR",
          "ANFIS",
          "DBN",
          "ROF",
          "LMT",
          "GBM",
          "MARS",
          "RSS",
          "QDA",
          "ERT",
          "SGD",
          "NBT",
          "REPDT",
          "KM",
          "BN",
          "CB",
          "GAM",
          "AE",
          "MBDT",
          "CDT",
          "ABDT",
          "SVR",
          "MLPNN",
          "JDT",
          "FLDA",
          "KLOGR",
          "HC",
          "MIDA",
          "BFDT",
          "CHAID",
          "BODT",
          "BANN",
          "DDT",
          "BRF",
          "CGANN",
          "CHAID",
          "LOGB",
          "DDT",
          "FUDA",
          "BLOGR",
          "RSSRF",
          "ViT",
          "RSSDT",
          "RBFN",
          "GRU",
          "ROFRF",
          "BREPDT",
          "HT",
          "DTC",
          "FT",
          "PUB",
          "MDA",
          "DBS",
          "C45DT",
          "RFANN",
          "IF",
          "BSVM",
          "BCDT",
          "ABVFI",
          "ABHP",
          "ABADT",
          "ABC",
          "PER",
          "HNN",
          "ELANFIS",
          "GCN",
          "VFI",
          "SGB",
          "MBVFI",
          "NGB",
          "DECDT",
          "DCDT",
          "DAREPDT",
          "DHP",
          "FPA",
          "GRF",
          "GBC",
          "MBREPDT",
          "DANN",
          "BOSVM",
          "ABCDT",
          "ASCANN",
          "ABRS",
          "ABREPDT",
          "BRSSNBT",
          "BC45DT",
          "BOC45DT",
          "BOANN",
          "BHP",
          "BRS",
          "DB",
          "DEHP",
          "EBM",
          "RSSCDT",
          "TNN",
          "SRU",
          "RBM",
          "PA",
          "DCN",
          "BTN",
          "SF",
          "ROFCDT",
          "RABHP",
          "RTC",
          "RABREPDT",
          "RSSREPDT",
          "ROFREPDT",
          "HP",
          "RFM",
          "RSSANN",
          "SE",
          "RS",
          "GARP",
          "GAMI",
          "ILBN",
          "BFT",
          "M5P",
          "BOLMT",
          "MBADT",
          "DADT",
          "BLMT",
          "RSSFT",
          "RSSC45DT",
          "RSSADT",
          "RFLMT",
          "ResNN"
         ],
         "textposition": "inside",
         "type": "bar",
         "x": [
          "ENS",
          "SVM",
          "LR",
          "NN",
          "NN",
          "ENS",
          "NN",
          "IB",
          "BAY",
          "DT",
          "ENS",
          "ENS",
          "LR",
          "NN",
          "ENS",
          "ENS",
          "ENS",
          "ENS",
          "STAT",
          "DT",
          "LR",
          "DT",
          "ENS",
          "LR",
          "NN",
          "NN",
          "ENS",
          "DT",
          "ENS",
          "LR",
          "NN",
          "DR",
          "ENS",
          "LR",
          "DT",
          "DT",
          "CLUST",
          "BAY",
          "ENS",
          "LR",
          "NN",
          "ENS",
          "ENS",
          "ENS",
          "SVM",
          "NN",
          "DT",
          "DR",
          "LR",
          "CLUST",
          "DR",
          "DT",
          "DT",
          "ENS",
          "ENS",
          "ENS",
          "ENS",
          "ENS",
          "ENS",
          "ENS",
          "ENS",
          "DR",
          "BAY",
          "ENS",
          "NN",
          "ENS",
          "NN",
          "NN",
          "ENS",
          "ENS",
          "DT",
          "DT",
          "DT",
          "CLUST",
          "DR",
          "CLUST",
          "DT",
          "ENS",
          "ENS",
          "ENS",
          "ENS",
          "ENS",
          "ENS",
          "ENS",
          "ENS",
          "NN",
          "NN",
          "NN",
          "NN",
          "IB",
          "ENS",
          "ENS",
          "ENS",
          "ENS",
          "ENS",
          "ENS",
          "ENS",
          "ENS",
          "ENS",
          "ENS",
          "ENS",
          "ENS",
          "ENS",
          "ENS",
          "ENS",
          "ENS",
          "ENS",
          "ENS",
          "ENS",
          "ENS",
          "ENS",
          "ENS",
          "ENS",
          "ENS",
          "ENS",
          "ENS",
          "ENS",
          "NN",
          "NN",
          "NN",
          "NN",
          "NN",
          "NN",
          "ENS",
          "ENS",
          "ENS",
          "ENS",
          "ENS",
          "ENS",
          "ENS",
          "IB",
          "ENS",
          "ENS",
          "LR",
          "RS",
          "RS",
          "NN",
          "BAY",
          "ENS",
          "DT",
          "ENS",
          "ENS",
          "ENS",
          "ENS",
          "ENS",
          "ENS",
          "ENS",
          "ENS",
          "NN"
         ],
         "xaxis": "x",
         "y": [
          200,
          151,
          108,
          106,
          48,
          43,
          34,
          29,
          29,
          27,
          20,
          17,
          15,
          15,
          14,
          10,
          10,
          10,
          10,
          9,
          9,
          8,
          8,
          8,
          8,
          8,
          8,
          8,
          8,
          7,
          6,
          6,
          5,
          5,
          4,
          4,
          4,
          4,
          4,
          3,
          3,
          3,
          3,
          3,
          3,
          3,
          3,
          3,
          3,
          3,
          3,
          2,
          2,
          2,
          2,
          2,
          2,
          2,
          2,
          2,
          2,
          2,
          2,
          2,
          2,
          2,
          2,
          2,
          2,
          2,
          1,
          1,
          1,
          1,
          1,
          1,
          1,
          1,
          1,
          1,
          1,
          1,
          1,
          1,
          1,
          1,
          1,
          1,
          1,
          1,
          1,
          1,
          1,
          1,
          1,
          1,
          1,
          1,
          1,
          1,
          1,
          1,
          1,
          1,
          1,
          1,
          1,
          1,
          1,
          1,
          1,
          1,
          1,
          1,
          1,
          1,
          1,
          1,
          1,
          1,
          1,
          1,
          1,
          1,
          1,
          1,
          1,
          1,
          1,
          1,
          1,
          1,
          1,
          1,
          1,
          1,
          1,
          0,
          0,
          0,
          0,
          0,
          0,
          0,
          0,
          0,
          0,
          0,
          0
         ],
         "yaxis": "y"
        }
       ],
       "layout": {
        "barmode": "relative",
        "coloraxis": {
         "colorbar": {
          "title": {
           "text": "Count"
          }
         },
         "colorscale": [
          [
           0,
           "rgb(196, 230, 195)"
          ],
          [
           0.16666666666666666,
           "rgb(150, 210, 164)"
          ],
          [
           0.3333333333333333,
           "rgb(109, 188, 144)"
          ],
          [
           0.5,
           "rgb(77, 162, 132)"
          ],
          [
           0.6666666666666666,
           "rgb(54, 135, 122)"
          ],
          [
           0.8333333333333334,
           "rgb(38, 107, 110)"
          ],
          [
           1,
           "rgb(29, 79, 96)"
          ]
         ]
        },
        "legend": {
         "tracegroupgap": 0
        },
        "margin": {
         "t": 60
        },
        "template": {
         "data": {
          "bar": [
           {
            "error_x": {
             "color": "#2a3f5f"
            },
            "error_y": {
             "color": "#2a3f5f"
            },
            "marker": {
             "line": {
              "color": "#E5ECF6",
              "width": 0.5
             },
             "pattern": {
              "fillmode": "overlay",
              "size": 10,
              "solidity": 0.2
             }
            },
            "type": "bar"
           }
          ],
          "barpolar": [
           {
            "marker": {
             "line": {
              "color": "#E5ECF6",
              "width": 0.5
             },
             "pattern": {
              "fillmode": "overlay",
              "size": 10,
              "solidity": 0.2
             }
            },
            "type": "barpolar"
           }
          ],
          "carpet": [
           {
            "aaxis": {
             "endlinecolor": "#2a3f5f",
             "gridcolor": "white",
             "linecolor": "white",
             "minorgridcolor": "white",
             "startlinecolor": "#2a3f5f"
            },
            "baxis": {
             "endlinecolor": "#2a3f5f",
             "gridcolor": "white",
             "linecolor": "white",
             "minorgridcolor": "white",
             "startlinecolor": "#2a3f5f"
            },
            "type": "carpet"
           }
          ],
          "choropleth": [
           {
            "colorbar": {
             "outlinewidth": 0,
             "ticks": ""
            },
            "type": "choropleth"
           }
          ],
          "contour": [
           {
            "colorbar": {
             "outlinewidth": 0,
             "ticks": ""
            },
            "colorscale": [
             [
              0,
              "#0d0887"
             ],
             [
              0.1111111111111111,
              "#46039f"
             ],
             [
              0.2222222222222222,
              "#7201a8"
             ],
             [
              0.3333333333333333,
              "#9c179e"
             ],
             [
              0.4444444444444444,
              "#bd3786"
             ],
             [
              0.5555555555555556,
              "#d8576b"
             ],
             [
              0.6666666666666666,
              "#ed7953"
             ],
             [
              0.7777777777777778,
              "#fb9f3a"
             ],
             [
              0.8888888888888888,
              "#fdca26"
             ],
             [
              1,
              "#f0f921"
             ]
            ],
            "type": "contour"
           }
          ],
          "contourcarpet": [
           {
            "colorbar": {
             "outlinewidth": 0,
             "ticks": ""
            },
            "type": "contourcarpet"
           }
          ],
          "heatmap": [
           {
            "colorbar": {
             "outlinewidth": 0,
             "ticks": ""
            },
            "colorscale": [
             [
              0,
              "#0d0887"
             ],
             [
              0.1111111111111111,
              "#46039f"
             ],
             [
              0.2222222222222222,
              "#7201a8"
             ],
             [
              0.3333333333333333,
              "#9c179e"
             ],
             [
              0.4444444444444444,
              "#bd3786"
             ],
             [
              0.5555555555555556,
              "#d8576b"
             ],
             [
              0.6666666666666666,
              "#ed7953"
             ],
             [
              0.7777777777777778,
              "#fb9f3a"
             ],
             [
              0.8888888888888888,
              "#fdca26"
             ],
             [
              1,
              "#f0f921"
             ]
            ],
            "type": "heatmap"
           }
          ],
          "heatmapgl": [
           {
            "colorbar": {
             "outlinewidth": 0,
             "ticks": ""
            },
            "colorscale": [
             [
              0,
              "#0d0887"
             ],
             [
              0.1111111111111111,
              "#46039f"
             ],
             [
              0.2222222222222222,
              "#7201a8"
             ],
             [
              0.3333333333333333,
              "#9c179e"
             ],
             [
              0.4444444444444444,
              "#bd3786"
             ],
             [
              0.5555555555555556,
              "#d8576b"
             ],
             [
              0.6666666666666666,
              "#ed7953"
             ],
             [
              0.7777777777777778,
              "#fb9f3a"
             ],
             [
              0.8888888888888888,
              "#fdca26"
             ],
             [
              1,
              "#f0f921"
             ]
            ],
            "type": "heatmapgl"
           }
          ],
          "histogram": [
           {
            "marker": {
             "pattern": {
              "fillmode": "overlay",
              "size": 10,
              "solidity": 0.2
             }
            },
            "type": "histogram"
           }
          ],
          "histogram2d": [
           {
            "colorbar": {
             "outlinewidth": 0,
             "ticks": ""
            },
            "colorscale": [
             [
              0,
              "#0d0887"
             ],
             [
              0.1111111111111111,
              "#46039f"
             ],
             [
              0.2222222222222222,
              "#7201a8"
             ],
             [
              0.3333333333333333,
              "#9c179e"
             ],
             [
              0.4444444444444444,
              "#bd3786"
             ],
             [
              0.5555555555555556,
              "#d8576b"
             ],
             [
              0.6666666666666666,
              "#ed7953"
             ],
             [
              0.7777777777777778,
              "#fb9f3a"
             ],
             [
              0.8888888888888888,
              "#fdca26"
             ],
             [
              1,
              "#f0f921"
             ]
            ],
            "type": "histogram2d"
           }
          ],
          "histogram2dcontour": [
           {
            "colorbar": {
             "outlinewidth": 0,
             "ticks": ""
            },
            "colorscale": [
             [
              0,
              "#0d0887"
             ],
             [
              0.1111111111111111,
              "#46039f"
             ],
             [
              0.2222222222222222,
              "#7201a8"
             ],
             [
              0.3333333333333333,
              "#9c179e"
             ],
             [
              0.4444444444444444,
              "#bd3786"
             ],
             [
              0.5555555555555556,
              "#d8576b"
             ],
             [
              0.6666666666666666,
              "#ed7953"
             ],
             [
              0.7777777777777778,
              "#fb9f3a"
             ],
             [
              0.8888888888888888,
              "#fdca26"
             ],
             [
              1,
              "#f0f921"
             ]
            ],
            "type": "histogram2dcontour"
           }
          ],
          "mesh3d": [
           {
            "colorbar": {
             "outlinewidth": 0,
             "ticks": ""
            },
            "type": "mesh3d"
           }
          ],
          "parcoords": [
           {
            "line": {
             "colorbar": {
              "outlinewidth": 0,
              "ticks": ""
             }
            },
            "type": "parcoords"
           }
          ],
          "pie": [
           {
            "automargin": true,
            "type": "pie"
           }
          ],
          "scatter": [
           {
            "fillpattern": {
             "fillmode": "overlay",
             "size": 10,
             "solidity": 0.2
            },
            "type": "scatter"
           }
          ],
          "scatter3d": [
           {
            "line": {
             "colorbar": {
              "outlinewidth": 0,
              "ticks": ""
             }
            },
            "marker": {
             "colorbar": {
              "outlinewidth": 0,
              "ticks": ""
             }
            },
            "type": "scatter3d"
           }
          ],
          "scattercarpet": [
           {
            "marker": {
             "colorbar": {
              "outlinewidth": 0,
              "ticks": ""
             }
            },
            "type": "scattercarpet"
           }
          ],
          "scattergeo": [
           {
            "marker": {
             "colorbar": {
              "outlinewidth": 0,
              "ticks": ""
             }
            },
            "type": "scattergeo"
           }
          ],
          "scattergl": [
           {
            "marker": {
             "colorbar": {
              "outlinewidth": 0,
              "ticks": ""
             }
            },
            "type": "scattergl"
           }
          ],
          "scattermapbox": [
           {
            "marker": {
             "colorbar": {
              "outlinewidth": 0,
              "ticks": ""
             }
            },
            "type": "scattermapbox"
           }
          ],
          "scatterpolar": [
           {
            "marker": {
             "colorbar": {
              "outlinewidth": 0,
              "ticks": ""
             }
            },
            "type": "scatterpolar"
           }
          ],
          "scatterpolargl": [
           {
            "marker": {
             "colorbar": {
              "outlinewidth": 0,
              "ticks": ""
             }
            },
            "type": "scatterpolargl"
           }
          ],
          "scatterternary": [
           {
            "marker": {
             "colorbar": {
              "outlinewidth": 0,
              "ticks": ""
             }
            },
            "type": "scatterternary"
           }
          ],
          "surface": [
           {
            "colorbar": {
             "outlinewidth": 0,
             "ticks": ""
            },
            "colorscale": [
             [
              0,
              "#0d0887"
             ],
             [
              0.1111111111111111,
              "#46039f"
             ],
             [
              0.2222222222222222,
              "#7201a8"
             ],
             [
              0.3333333333333333,
              "#9c179e"
             ],
             [
              0.4444444444444444,
              "#bd3786"
             ],
             [
              0.5555555555555556,
              "#d8576b"
             ],
             [
              0.6666666666666666,
              "#ed7953"
             ],
             [
              0.7777777777777778,
              "#fb9f3a"
             ],
             [
              0.8888888888888888,
              "#fdca26"
             ],
             [
              1,
              "#f0f921"
             ]
            ],
            "type": "surface"
           }
          ],
          "table": [
           {
            "cells": {
             "fill": {
              "color": "#EBF0F8"
             },
             "line": {
              "color": "white"
             }
            },
            "header": {
             "fill": {
              "color": "#C8D4E3"
             },
             "line": {
              "color": "white"
             }
            },
            "type": "table"
           }
          ]
         },
         "layout": {
          "annotationdefaults": {
           "arrowcolor": "#2a3f5f",
           "arrowhead": 0,
           "arrowwidth": 1
          },
          "autotypenumbers": "strict",
          "coloraxis": {
           "colorbar": {
            "outlinewidth": 0,
            "ticks": ""
           }
          },
          "colorscale": {
           "diverging": [
            [
             0,
             "#8e0152"
            ],
            [
             0.1,
             "#c51b7d"
            ],
            [
             0.2,
             "#de77ae"
            ],
            [
             0.3,
             "#f1b6da"
            ],
            [
             0.4,
             "#fde0ef"
            ],
            [
             0.5,
             "#f7f7f7"
            ],
            [
             0.6,
             "#e6f5d0"
            ],
            [
             0.7,
             "#b8e186"
            ],
            [
             0.8,
             "#7fbc41"
            ],
            [
             0.9,
             "#4d9221"
            ],
            [
             1,
             "#276419"
            ]
           ],
           "sequential": [
            [
             0,
             "#0d0887"
            ],
            [
             0.1111111111111111,
             "#46039f"
            ],
            [
             0.2222222222222222,
             "#7201a8"
            ],
            [
             0.3333333333333333,
             "#9c179e"
            ],
            [
             0.4444444444444444,
             "#bd3786"
            ],
            [
             0.5555555555555556,
             "#d8576b"
            ],
            [
             0.6666666666666666,
             "#ed7953"
            ],
            [
             0.7777777777777778,
             "#fb9f3a"
            ],
            [
             0.8888888888888888,
             "#fdca26"
            ],
            [
             1,
             "#f0f921"
            ]
           ],
           "sequentialminus": [
            [
             0,
             "#0d0887"
            ],
            [
             0.1111111111111111,
             "#46039f"
            ],
            [
             0.2222222222222222,
             "#7201a8"
            ],
            [
             0.3333333333333333,
             "#9c179e"
            ],
            [
             0.4444444444444444,
             "#bd3786"
            ],
            [
             0.5555555555555556,
             "#d8576b"
            ],
            [
             0.6666666666666666,
             "#ed7953"
            ],
            [
             0.7777777777777778,
             "#fb9f3a"
            ],
            [
             0.8888888888888888,
             "#fdca26"
            ],
            [
             1,
             "#f0f921"
            ]
           ]
          },
          "colorway": [
           "#636efa",
           "#EF553B",
           "#00cc96",
           "#ab63fa",
           "#FFA15A",
           "#19d3f3",
           "#FF6692",
           "#B6E880",
           "#FF97FF",
           "#FECB52"
          ],
          "font": {
           "color": "#2a3f5f"
          },
          "geo": {
           "bgcolor": "white",
           "lakecolor": "white",
           "landcolor": "#E5ECF6",
           "showlakes": true,
           "showland": true,
           "subunitcolor": "white"
          },
          "hoverlabel": {
           "align": "left"
          },
          "hovermode": "closest",
          "mapbox": {
           "style": "light"
          },
          "paper_bgcolor": "white",
          "plot_bgcolor": "#E5ECF6",
          "polar": {
           "angularaxis": {
            "gridcolor": "white",
            "linecolor": "white",
            "ticks": ""
           },
           "bgcolor": "#E5ECF6",
           "radialaxis": {
            "gridcolor": "white",
            "linecolor": "white",
            "ticks": ""
           }
          },
          "scene": {
           "xaxis": {
            "backgroundcolor": "#E5ECF6",
            "gridcolor": "white",
            "gridwidth": 2,
            "linecolor": "white",
            "showbackground": true,
            "ticks": "",
            "zerolinecolor": "white"
           },
           "yaxis": {
            "backgroundcolor": "#E5ECF6",
            "gridcolor": "white",
            "gridwidth": 2,
            "linecolor": "white",
            "showbackground": true,
            "ticks": "",
            "zerolinecolor": "white"
           },
           "zaxis": {
            "backgroundcolor": "#E5ECF6",
            "gridcolor": "white",
            "gridwidth": 2,
            "linecolor": "white",
            "showbackground": true,
            "ticks": "",
            "zerolinecolor": "white"
           }
          },
          "shapedefaults": {
           "line": {
            "color": "#2a3f5f"
           }
          },
          "ternary": {
           "aaxis": {
            "gridcolor": "white",
            "linecolor": "white",
            "ticks": ""
           },
           "baxis": {
            "gridcolor": "white",
            "linecolor": "white",
            "ticks": ""
           },
           "bgcolor": "#E5ECF6",
           "caxis": {
            "gridcolor": "white",
            "linecolor": "white",
            "ticks": ""
           }
          },
          "title": {
           "x": 0.05
          },
          "xaxis": {
           "automargin": true,
           "gridcolor": "white",
           "linecolor": "white",
           "ticks": "",
           "title": {
            "standoff": 15
           },
           "zerolinecolor": "white",
           "zerolinewidth": 2
          },
          "yaxis": {
           "automargin": true,
           "gridcolor": "white",
           "linecolor": "white",
           "ticks": "",
           "title": {
            "standoff": 15
           },
           "zerolinecolor": "white",
           "zerolinewidth": 2
          }
         }
        },
        "xaxis": {
         "anchor": "y",
         "domain": [
          0,
          1
         ],
         "title": {
          "text": "Category"
         }
        },
        "yaxis": {
         "anchor": "x",
         "domain": [
          0,
          1
         ],
         "title": {
          "text": "Count"
         }
        }
       }
      }
     },
     "metadata": {},
     "output_type": "display_data"
    }
   ],
   "source": [
    "landslides_counts = getTechniqueCount(landslides, landslides_legend)\n",
    "plot_data(landslides_counts,False, False, 0)"
   ]
  },
  {
   "cell_type": "code",
   "execution_count": 73,
   "id": "3ae188fd",
   "metadata": {},
   "outputs": [
    {
     "data": {
      "text/html": [
       "<div>\n",
       "<style scoped>\n",
       "    .dataframe tbody tr th:only-of-type {\n",
       "        vertical-align: middle;\n",
       "    }\n",
       "\n",
       "    .dataframe tbody tr th {\n",
       "        vertical-align: top;\n",
       "    }\n",
       "\n",
       "    .dataframe thead th {\n",
       "        text-align: right;\n",
       "    }\n",
       "</style>\n",
       "<table border=\"1\" class=\"dataframe\">\n",
       "  <thead>\n",
       "    <tr style=\"text-align: right;\">\n",
       "      <th></th>\n",
       "      <th>Tag</th>\n",
       "      <th>Full Name</th>\n",
       "      <th>Category</th>\n",
       "      <th>Count</th>\n",
       "      <th>Filtered Tag</th>\n",
       "    </tr>\n",
       "  </thead>\n",
       "  <tbody>\n",
       "    <tr>\n",
       "      <th>0</th>\n",
       "      <td>RF</td>\n",
       "      <td>Random Forest</td>\n",
       "      <td>ENS</td>\n",
       "      <td>200</td>\n",
       "      <td>RF</td>\n",
       "    </tr>\n",
       "    <tr>\n",
       "      <th>1</th>\n",
       "      <td>SVM</td>\n",
       "      <td>Support Vector Machine</td>\n",
       "      <td>SVM</td>\n",
       "      <td>151</td>\n",
       "      <td>SVM</td>\n",
       "    </tr>\n",
       "    <tr>\n",
       "      <th>2</th>\n",
       "      <td>LOGR</td>\n",
       "      <td>Logistic Regression</td>\n",
       "      <td>LR</td>\n",
       "      <td>108</td>\n",
       "      <td>LOGR</td>\n",
       "    </tr>\n",
       "    <tr>\n",
       "      <th>3</th>\n",
       "      <td>ANN</td>\n",
       "      <td>Artificial Neural Network</td>\n",
       "      <td>NN</td>\n",
       "      <td>106</td>\n",
       "      <td>ANN</td>\n",
       "    </tr>\n",
       "    <tr>\n",
       "      <th>4</th>\n",
       "      <td>CNN</td>\n",
       "      <td>Convolutional Neural Network</td>\n",
       "      <td>NN</td>\n",
       "      <td>48</td>\n",
       "      <td>CNN</td>\n",
       "    </tr>\n",
       "    <tr>\n",
       "      <th>5</th>\n",
       "      <td>XGB</td>\n",
       "      <td>Extreme Gradient Boosting</td>\n",
       "      <td>ENS</td>\n",
       "      <td>43</td>\n",
       "      <td>XGB</td>\n",
       "    </tr>\n",
       "    <tr>\n",
       "      <th>6</th>\n",
       "      <td>DNN</td>\n",
       "      <td>Deep Neural Network</td>\n",
       "      <td>NN</td>\n",
       "      <td>34</td>\n",
       "      <td>DNN</td>\n",
       "    </tr>\n",
       "    <tr>\n",
       "      <th>7</th>\n",
       "      <td>KNN</td>\n",
       "      <td>K-Nearest-Neighbor</td>\n",
       "      <td>IB</td>\n",
       "      <td>29</td>\n",
       "      <td>KNN</td>\n",
       "    </tr>\n",
       "    <tr>\n",
       "      <th>8</th>\n",
       "      <td>NB</td>\n",
       "      <td>Naive Bayes</td>\n",
       "      <td>BAY</td>\n",
       "      <td>29</td>\n",
       "      <td>NB</td>\n",
       "    </tr>\n",
       "    <tr>\n",
       "      <th>9</th>\n",
       "      <td>DT</td>\n",
       "      <td>Decision Trees</td>\n",
       "      <td>DT</td>\n",
       "      <td>27</td>\n",
       "      <td>DT</td>\n",
       "    </tr>\n",
       "    <tr>\n",
       "      <th>10</th>\n",
       "      <td>GBDT</td>\n",
       "      <td>Gradient Boosted Decision Trees</td>\n",
       "      <td>ENS</td>\n",
       "      <td>20</td>\n",
       "      <td>GBDT</td>\n",
       "    </tr>\n",
       "    <tr>\n",
       "      <th>11</th>\n",
       "      <td>STACK</td>\n",
       "      <td>Stacking of multiple models</td>\n",
       "      <td>ENS</td>\n",
       "      <td>17</td>\n",
       "      <td>STACK</td>\n",
       "    </tr>\n",
       "    <tr>\n",
       "      <th>12</th>\n",
       "      <td>MENT</td>\n",
       "      <td>Maximum Entropy</td>\n",
       "      <td>LR</td>\n",
       "      <td>15</td>\n",
       "      <td>MENT</td>\n",
       "    </tr>\n",
       "    <tr>\n",
       "      <th>13</th>\n",
       "      <td>RNN</td>\n",
       "      <td>Recurrent Neural Network</td>\n",
       "      <td>NN</td>\n",
       "      <td>15</td>\n",
       "      <td>RNN</td>\n",
       "    </tr>\n",
       "    <tr>\n",
       "      <th>14</th>\n",
       "      <td>AB</td>\n",
       "      <td>AdaBoost</td>\n",
       "      <td>ENS</td>\n",
       "      <td>14</td>\n",
       "      <td>AB</td>\n",
       "    </tr>\n",
       "    <tr>\n",
       "      <th>15</th>\n",
       "      <td>BDT</td>\n",
       "      <td>Bagging Decision Trees</td>\n",
       "      <td>ENS</td>\n",
       "      <td>10</td>\n",
       "      <td>BDT</td>\n",
       "    </tr>\n",
       "    <tr>\n",
       "      <th>16</th>\n",
       "      <td>LDA</td>\n",
       "      <td>Linear Discriminant Analysis</td>\n",
       "      <td>ENS</td>\n",
       "      <td>10</td>\n",
       "      <td>LDA</td>\n",
       "    </tr>\n",
       "    <tr>\n",
       "      <th>17</th>\n",
       "      <td>BRT</td>\n",
       "      <td>Boosted Regression Tree</td>\n",
       "      <td>ENS</td>\n",
       "      <td>10</td>\n",
       "      <td>BRT</td>\n",
       "    </tr>\n",
       "    <tr>\n",
       "      <th>18</th>\n",
       "      <td>FR</td>\n",
       "      <td>Frequency Ratio</td>\n",
       "      <td>STAT</td>\n",
       "      <td>10</td>\n",
       "      <td>FR</td>\n",
       "    </tr>\n",
       "    <tr>\n",
       "      <th>19</th>\n",
       "      <td>C50DT</td>\n",
       "      <td>C5.0 Decision Trees</td>\n",
       "      <td>DT</td>\n",
       "      <td>9</td>\n",
       "      <td>C50DT</td>\n",
       "    </tr>\n",
       "    <tr>\n",
       "      <th>20</th>\n",
       "      <td>GLM</td>\n",
       "      <td>General Linear Model</td>\n",
       "      <td>LR</td>\n",
       "      <td>9</td>\n",
       "      <td>GLM</td>\n",
       "    </tr>\n",
       "    <tr>\n",
       "      <th>21</th>\n",
       "      <td>ADT</td>\n",
       "      <td>Alternating Decision Trees</td>\n",
       "      <td>DT</td>\n",
       "      <td>8</td>\n",
       "      <td>ADT</td>\n",
       "    </tr>\n",
       "    <tr>\n",
       "      <th>22</th>\n",
       "      <td>LGBM</td>\n",
       "      <td>Light Gradient Boosting Machine</td>\n",
       "      <td>ENS</td>\n",
       "      <td>8</td>\n",
       "      <td>LGBM</td>\n",
       "    </tr>\n",
       "    <tr>\n",
       "      <th>23</th>\n",
       "      <td>LR</td>\n",
       "      <td>Linear Regression</td>\n",
       "      <td>LR</td>\n",
       "      <td>8</td>\n",
       "      <td>LR</td>\n",
       "    </tr>\n",
       "    <tr>\n",
       "      <th>24</th>\n",
       "      <td>ANFIS</td>\n",
       "      <td>Adaptive Neuro-Fuzzy Inference System</td>\n",
       "      <td>NN</td>\n",
       "      <td>8</td>\n",
       "      <td>ANFIS</td>\n",
       "    </tr>\n",
       "    <tr>\n",
       "      <th>25</th>\n",
       "      <td>DBN</td>\n",
       "      <td>Deep Belief Network</td>\n",
       "      <td>NN</td>\n",
       "      <td>8</td>\n",
       "      <td>DBN</td>\n",
       "    </tr>\n",
       "    <tr>\n",
       "      <th>26</th>\n",
       "      <td>ROF</td>\n",
       "      <td>ROtation forest</td>\n",
       "      <td>ENS</td>\n",
       "      <td>8</td>\n",
       "      <td>ROF</td>\n",
       "    </tr>\n",
       "    <tr>\n",
       "      <th>27</th>\n",
       "      <td>LMT</td>\n",
       "      <td>Logistic Model Tree</td>\n",
       "      <td>DT</td>\n",
       "      <td>8</td>\n",
       "      <td>LMT</td>\n",
       "    </tr>\n",
       "    <tr>\n",
       "      <th>28</th>\n",
       "      <td>GBM</td>\n",
       "      <td>Generalized Boosting Model</td>\n",
       "      <td>ENS</td>\n",
       "      <td>8</td>\n",
       "      <td>GBM</td>\n",
       "    </tr>\n",
       "    <tr>\n",
       "      <th>29</th>\n",
       "      <td>MARS</td>\n",
       "      <td>Multivariate Adaptive Regression Spline</td>\n",
       "      <td>LR</td>\n",
       "      <td>7</td>\n",
       "      <td>MARS</td>\n",
       "    </tr>\n",
       "    <tr>\n",
       "      <th>30</th>\n",
       "      <td>RSS</td>\n",
       "      <td>Random SubSpace</td>\n",
       "      <td>NN</td>\n",
       "      <td>6</td>\n",
       "      <td>RSS</td>\n",
       "    </tr>\n",
       "    <tr>\n",
       "      <th>31</th>\n",
       "      <td>QDA</td>\n",
       "      <td>Quadratic Discriminant Analysis</td>\n",
       "      <td>DR</td>\n",
       "      <td>6</td>\n",
       "      <td>QDA</td>\n",
       "    </tr>\n",
       "    <tr>\n",
       "      <th>33</th>\n",
       "      <td>ERT</td>\n",
       "      <td>Extremely Randomized Trees</td>\n",
       "      <td>ENS</td>\n",
       "      <td>5</td>\n",
       "      <td>ERT</td>\n",
       "    </tr>\n",
       "    <tr>\n",
       "      <th>34</th>\n",
       "      <td>SGD</td>\n",
       "      <td>Stochastic Gradient Descent</td>\n",
       "      <td>LR</td>\n",
       "      <td>5</td>\n",
       "      <td>SGD</td>\n",
       "    </tr>\n",
       "    <tr>\n",
       "      <th>35</th>\n",
       "      <td>NBT</td>\n",
       "      <td>Naive Bayes Trees</td>\n",
       "      <td>DT</td>\n",
       "      <td>4</td>\n",
       "      <td>NBT</td>\n",
       "    </tr>\n",
       "    <tr>\n",
       "      <th>36</th>\n",
       "      <td>REPDT</td>\n",
       "      <td>Reduced Error Pruning Decision Tree</td>\n",
       "      <td>DT</td>\n",
       "      <td>4</td>\n",
       "      <td>REPDT</td>\n",
       "    </tr>\n",
       "    <tr>\n",
       "      <th>37</th>\n",
       "      <td>KM</td>\n",
       "      <td>KMeans</td>\n",
       "      <td>CLUST</td>\n",
       "      <td>4</td>\n",
       "      <td>KM</td>\n",
       "    </tr>\n",
       "    <tr>\n",
       "      <th>38</th>\n",
       "      <td>BN</td>\n",
       "      <td>Bayesian Network</td>\n",
       "      <td>BAY</td>\n",
       "      <td>4</td>\n",
       "      <td>BN</td>\n",
       "    </tr>\n",
       "    <tr>\n",
       "      <th>39</th>\n",
       "      <td>CB</td>\n",
       "      <td>CatBoost</td>\n",
       "      <td>ENS</td>\n",
       "      <td>4</td>\n",
       "      <td>CB</td>\n",
       "    </tr>\n",
       "    <tr>\n",
       "      <th>40</th>\n",
       "      <td>GAM</td>\n",
       "      <td>General Additive Model</td>\n",
       "      <td>LR</td>\n",
       "      <td>3</td>\n",
       "      <td>GAM</td>\n",
       "    </tr>\n",
       "    <tr>\n",
       "      <th>41</th>\n",
       "      <td>AE</td>\n",
       "      <td>AutoEncoders</td>\n",
       "      <td>NN</td>\n",
       "      <td>3</td>\n",
       "      <td>AE</td>\n",
       "    </tr>\n",
       "    <tr>\n",
       "      <th>42</th>\n",
       "      <td>MBDT</td>\n",
       "      <td>MultiBoost Decision Trees</td>\n",
       "      <td>ENS</td>\n",
       "      <td>3</td>\n",
       "      <td>MBDT</td>\n",
       "    </tr>\n",
       "    <tr>\n",
       "      <th>43</th>\n",
       "      <td>CDT</td>\n",
       "      <td>Credal Decision Trees</td>\n",
       "      <td>ENS</td>\n",
       "      <td>3</td>\n",
       "      <td>CDT</td>\n",
       "    </tr>\n",
       "    <tr>\n",
       "      <th>44</th>\n",
       "      <td>ABDT</td>\n",
       "      <td>AdaBoost Decision Trees</td>\n",
       "      <td>ENS</td>\n",
       "      <td>3</td>\n",
       "      <td>ABDT</td>\n",
       "    </tr>\n",
       "    <tr>\n",
       "      <th>45</th>\n",
       "      <td>SVR</td>\n",
       "      <td>Support Vector Regression</td>\n",
       "      <td>SVM</td>\n",
       "      <td>3</td>\n",
       "      <td>SVR</td>\n",
       "    </tr>\n",
       "    <tr>\n",
       "      <th>46</th>\n",
       "      <td>MLPNN</td>\n",
       "      <td>MultiLayer Perceptron Neural Network</td>\n",
       "      <td>NN</td>\n",
       "      <td>3</td>\n",
       "      <td>MLPNN</td>\n",
       "    </tr>\n",
       "    <tr>\n",
       "      <th>47</th>\n",
       "      <td>JDT</td>\n",
       "      <td>J48 Decision Tree</td>\n",
       "      <td>DT</td>\n",
       "      <td>3</td>\n",
       "      <td>JDT</td>\n",
       "    </tr>\n",
       "    <tr>\n",
       "      <th>48</th>\n",
       "      <td>FLDA</td>\n",
       "      <td>Flexible Discriminant Analysis</td>\n",
       "      <td>DR</td>\n",
       "      <td>3</td>\n",
       "      <td>FLDA</td>\n",
       "    </tr>\n",
       "    <tr>\n",
       "      <th>49</th>\n",
       "      <td>KLOGR</td>\n",
       "      <td>Kernel Logistic Regression</td>\n",
       "      <td>LR</td>\n",
       "      <td>3</td>\n",
       "      <td>KLOGR</td>\n",
       "    </tr>\n",
       "    <tr>\n",
       "      <th>50</th>\n",
       "      <td>HC</td>\n",
       "      <td>Hierarchical Clustering</td>\n",
       "      <td>CLUST</td>\n",
       "      <td>3</td>\n",
       "      <td>HC</td>\n",
       "    </tr>\n",
       "    <tr>\n",
       "      <th>51</th>\n",
       "      <td>MIDA</td>\n",
       "      <td>MIxture Discriminant Analysis</td>\n",
       "      <td>DR</td>\n",
       "      <td>3</td>\n",
       "      <td>MIDA</td>\n",
       "    </tr>\n",
       "    <tr>\n",
       "      <th>52</th>\n",
       "      <td>BFDT</td>\n",
       "      <td>Best First Decision Trees</td>\n",
       "      <td>DT</td>\n",
       "      <td>2</td>\n",
       "      <td>BFDT</td>\n",
       "    </tr>\n",
       "    <tr>\n",
       "      <th>53</th>\n",
       "      <td>CHAID</td>\n",
       "      <td>CHi-squared Automatic Interaction Detection</td>\n",
       "      <td>DT</td>\n",
       "      <td>2</td>\n",
       "      <td>CHAID</td>\n",
       "    </tr>\n",
       "    <tr>\n",
       "      <th>54</th>\n",
       "      <td>BODT</td>\n",
       "      <td>Boosting Decision Trees</td>\n",
       "      <td>ENS</td>\n",
       "      <td>2</td>\n",
       "      <td>BODT</td>\n",
       "    </tr>\n",
       "    <tr>\n",
       "      <th>55</th>\n",
       "      <td>BANN</td>\n",
       "      <td>Bagging Artificial Neural Network</td>\n",
       "      <td>ENS</td>\n",
       "      <td>2</td>\n",
       "      <td>BANN</td>\n",
       "    </tr>\n",
       "    <tr>\n",
       "      <th>56</th>\n",
       "      <td>DDT</td>\n",
       "      <td>Dagging Decision Trees</td>\n",
       "      <td>ENS</td>\n",
       "      <td>2</td>\n",
       "      <td>DDT</td>\n",
       "    </tr>\n",
       "    <tr>\n",
       "      <th>57</th>\n",
       "      <td>BRF</td>\n",
       "      <td>Bagging Random Forest</td>\n",
       "      <td>ENS</td>\n",
       "      <td>2</td>\n",
       "      <td>BRF</td>\n",
       "    </tr>\n",
       "    <tr>\n",
       "      <th>58</th>\n",
       "      <td>CGANN</td>\n",
       "      <td>Cascade Generalization Artificial Neural Network</td>\n",
       "      <td>ENS</td>\n",
       "      <td>2</td>\n",
       "      <td>CGANN</td>\n",
       "    </tr>\n",
       "    <tr>\n",
       "      <th>59</th>\n",
       "      <td>CHAID</td>\n",
       "      <td>CHi-squared automatic interaction detection</td>\n",
       "      <td>ENS</td>\n",
       "      <td>2</td>\n",
       "      <td>CHAID</td>\n",
       "    </tr>\n",
       "    <tr>\n",
       "      <th>60</th>\n",
       "      <td>LOGB</td>\n",
       "      <td>Logit Boosting</td>\n",
       "      <td>ENS</td>\n",
       "      <td>2</td>\n",
       "      <td>LOGB</td>\n",
       "    </tr>\n",
       "    <tr>\n",
       "      <th>61</th>\n",
       "      <td>DDT</td>\n",
       "      <td>Decorate Decision Trees</td>\n",
       "      <td>ENS</td>\n",
       "      <td>2</td>\n",
       "      <td>DDT</td>\n",
       "    </tr>\n",
       "    <tr>\n",
       "      <th>62</th>\n",
       "      <td>FUDA</td>\n",
       "      <td>Functional Discriminant Analysis</td>\n",
       "      <td>DR</td>\n",
       "      <td>2</td>\n",
       "      <td>FUDA</td>\n",
       "    </tr>\n",
       "    <tr>\n",
       "      <th>63</th>\n",
       "      <td>BLOGR</td>\n",
       "      <td>Bayesian Logistic Regression</td>\n",
       "      <td>BAY</td>\n",
       "      <td>2</td>\n",
       "      <td>BLOGR</td>\n",
       "    </tr>\n",
       "    <tr>\n",
       "      <th>64</th>\n",
       "      <td>RSSRF</td>\n",
       "      <td>Random SubSpace Random Forest</td>\n",
       "      <td>ENS</td>\n",
       "      <td>2</td>\n",
       "      <td>RSSRF</td>\n",
       "    </tr>\n",
       "    <tr>\n",
       "      <th>65</th>\n",
       "      <td>ViT</td>\n",
       "      <td>Vision Transformer</td>\n",
       "      <td>NN</td>\n",
       "      <td>2</td>\n",
       "      <td>ViT</td>\n",
       "    </tr>\n",
       "    <tr>\n",
       "      <th>66</th>\n",
       "      <td>RSSDT</td>\n",
       "      <td>Random SubSpace Decision Trees</td>\n",
       "      <td>ENS</td>\n",
       "      <td>2</td>\n",
       "      <td>RSSDT</td>\n",
       "    </tr>\n",
       "    <tr>\n",
       "      <th>67</th>\n",
       "      <td>RBFN</td>\n",
       "      <td>Radial Basis Function Networks</td>\n",
       "      <td>NN</td>\n",
       "      <td>2</td>\n",
       "      <td>RBFN</td>\n",
       "    </tr>\n",
       "    <tr>\n",
       "      <th>68</th>\n",
       "      <td>GRU</td>\n",
       "      <td>Gated Recurrent Unit</td>\n",
       "      <td>NN</td>\n",
       "      <td>2</td>\n",
       "      <td>GRU</td>\n",
       "    </tr>\n",
       "    <tr>\n",
       "      <th>69</th>\n",
       "      <td>ROFRF</td>\n",
       "      <td>Rotation forest Random Forest</td>\n",
       "      <td>ENS</td>\n",
       "      <td>2</td>\n",
       "      <td>ROFRF</td>\n",
       "    </tr>\n",
       "    <tr>\n",
       "      <th>70</th>\n",
       "      <td>BREPDT</td>\n",
       "      <td>Bagging Reduced Error Pruning Decision Tree</td>\n",
       "      <td>ENS</td>\n",
       "      <td>2</td>\n",
       "      <td>BREPDT</td>\n",
       "    </tr>\n",
       "    <tr>\n",
       "      <th>71</th>\n",
       "      <td>HT</td>\n",
       "      <td>Hoeffding Trees</td>\n",
       "      <td>DT</td>\n",
       "      <td>1</td>\n",
       "      <td>HT</td>\n",
       "    </tr>\n",
       "    <tr>\n",
       "      <th>72</th>\n",
       "      <td>DTC</td>\n",
       "      <td>Decision Table Classifier</td>\n",
       "      <td>DT</td>\n",
       "      <td>1</td>\n",
       "      <td>DTC</td>\n",
       "    </tr>\n",
       "    <tr>\n",
       "      <th>73</th>\n",
       "      <td>FT</td>\n",
       "      <td>Functional Trees</td>\n",
       "      <td>DT</td>\n",
       "      <td>1</td>\n",
       "      <td>FT</td>\n",
       "    </tr>\n",
       "    <tr>\n",
       "      <th>74</th>\n",
       "      <td>PUB</td>\n",
       "      <td>Positive Unlabeled Bagging</td>\n",
       "      <td>CLUST</td>\n",
       "      <td>1</td>\n",
       "      <td>PUB</td>\n",
       "    </tr>\n",
       "    <tr>\n",
       "      <th>75</th>\n",
       "      <td>MDA</td>\n",
       "      <td>Multivariate Discriminant Analysis</td>\n",
       "      <td>DR</td>\n",
       "      <td>1</td>\n",
       "      <td>MDA</td>\n",
       "    </tr>\n",
       "    <tr>\n",
       "      <th>76</th>\n",
       "      <td>DBS</td>\n",
       "      <td>DBScan</td>\n",
       "      <td>CLUST</td>\n",
       "      <td>1</td>\n",
       "      <td>DBS</td>\n",
       "    </tr>\n",
       "    <tr>\n",
       "      <th>77</th>\n",
       "      <td>C45DT</td>\n",
       "      <td>C4.5 Decision Tree</td>\n",
       "      <td>DT</td>\n",
       "      <td>1</td>\n",
       "      <td>C45DT</td>\n",
       "    </tr>\n",
       "    <tr>\n",
       "      <th>78</th>\n",
       "      <td>RFANN</td>\n",
       "      <td>Random Forest Artificial Neural Network</td>\n",
       "      <td>ENS</td>\n",
       "      <td>1</td>\n",
       "      <td>RFANN</td>\n",
       "    </tr>\n",
       "    <tr>\n",
       "      <th>79</th>\n",
       "      <td>IF</td>\n",
       "      <td>Isolated Forest</td>\n",
       "      <td>ENS</td>\n",
       "      <td>1</td>\n",
       "      <td>IF</td>\n",
       "    </tr>\n",
       "    <tr>\n",
       "      <th>80</th>\n",
       "      <td>BSVM</td>\n",
       "      <td>Bagging Support Vector Machine</td>\n",
       "      <td>ENS</td>\n",
       "      <td>1</td>\n",
       "      <td>BSVM</td>\n",
       "    </tr>\n",
       "    <tr>\n",
       "      <th>81</th>\n",
       "      <td>BCDT</td>\n",
       "      <td>Baggin Credal Decision Tree</td>\n",
       "      <td>ENS</td>\n",
       "      <td>1</td>\n",
       "      <td>BCDT</td>\n",
       "    </tr>\n",
       "    <tr>\n",
       "      <th>82</th>\n",
       "      <td>ABVFI</td>\n",
       "      <td>AdaBoost Voting Feature Intervals</td>\n",
       "      <td>ENS</td>\n",
       "      <td>1</td>\n",
       "      <td>ABVFI</td>\n",
       "    </tr>\n",
       "    <tr>\n",
       "      <th>83</th>\n",
       "      <td>ABHP</td>\n",
       "      <td>AdaBoost HyperPipes</td>\n",
       "      <td>ENS</td>\n",
       "      <td>1</td>\n",
       "      <td>ABHP</td>\n",
       "    </tr>\n",
       "    <tr>\n",
       "      <th>84</th>\n",
       "      <td>ABADT</td>\n",
       "      <td>AdaBoost Alternating Decision Trees</td>\n",
       "      <td>ENS</td>\n",
       "      <td>1</td>\n",
       "      <td>ABADT</td>\n",
       "    </tr>\n",
       "    <tr>\n",
       "      <th>85</th>\n",
       "      <td>ABC</td>\n",
       "      <td>AdaBoost Classifier</td>\n",
       "      <td>ENS</td>\n",
       "      <td>1</td>\n",
       "      <td>ABC</td>\n",
       "    </tr>\n",
       "    <tr>\n",
       "      <th>86</th>\n",
       "      <td>PER</td>\n",
       "      <td>Perceptron</td>\n",
       "      <td>NN</td>\n",
       "      <td>1</td>\n",
       "      <td>PER</td>\n",
       "    </tr>\n",
       "    <tr>\n",
       "      <th>87</th>\n",
       "      <td>HNN</td>\n",
       "      <td>Hierarchical Neural Network</td>\n",
       "      <td>NN</td>\n",
       "      <td>1</td>\n",
       "      <td>HNN</td>\n",
       "    </tr>\n",
       "    <tr>\n",
       "      <th>88</th>\n",
       "      <td>ELANFIS</td>\n",
       "      <td>Extreme Learning Adaptive Neuro-Fuzzy Inferenc...</td>\n",
       "      <td>NN</td>\n",
       "      <td>1</td>\n",
       "      <td>ELANFIS</td>\n",
       "    </tr>\n",
       "    <tr>\n",
       "      <th>89</th>\n",
       "      <td>GCN</td>\n",
       "      <td>Graph Convolutional Network</td>\n",
       "      <td>NN</td>\n",
       "      <td>1</td>\n",
       "      <td>GCN</td>\n",
       "    </tr>\n",
       "    <tr>\n",
       "      <th>90</th>\n",
       "      <td>VFI</td>\n",
       "      <td>Voting Feature Intervals</td>\n",
       "      <td>IB</td>\n",
       "      <td>1</td>\n",
       "      <td>VFI</td>\n",
       "    </tr>\n",
       "    <tr>\n",
       "      <th>91</th>\n",
       "      <td>SGB</td>\n",
       "      <td>Stochastic Gradient Boosting</td>\n",
       "      <td>ENS</td>\n",
       "      <td>1</td>\n",
       "      <td>SGB</td>\n",
       "    </tr>\n",
       "    <tr>\n",
       "      <th>92</th>\n",
       "      <td>MBVFI</td>\n",
       "      <td>MultiBoost Voting Feature Intervals</td>\n",
       "      <td>ENS</td>\n",
       "      <td>1</td>\n",
       "      <td>MBVFI</td>\n",
       "    </tr>\n",
       "    <tr>\n",
       "      <th>93</th>\n",
       "      <td>NGB</td>\n",
       "      <td>Natural Gradient Boosting</td>\n",
       "      <td>ENS</td>\n",
       "      <td>1</td>\n",
       "      <td>NGB</td>\n",
       "    </tr>\n",
       "    <tr>\n",
       "      <th>94</th>\n",
       "      <td>DECDT</td>\n",
       "      <td>Decorate Credal Decision Tree</td>\n",
       "      <td>ENS</td>\n",
       "      <td>1</td>\n",
       "      <td>DECDT</td>\n",
       "    </tr>\n",
       "    <tr>\n",
       "      <th>95</th>\n",
       "      <td>DCDT</td>\n",
       "      <td>Dagging Credal Decision Tree</td>\n",
       "      <td>ENS</td>\n",
       "      <td>1</td>\n",
       "      <td>DCDT</td>\n",
       "    </tr>\n",
       "    <tr>\n",
       "      <th>96</th>\n",
       "      <td>DAREPDT</td>\n",
       "      <td>Dagging Reduced Error Pruning Decision Tree</td>\n",
       "      <td>ENS</td>\n",
       "      <td>1</td>\n",
       "      <td>DAREPDT</td>\n",
       "    </tr>\n",
       "    <tr>\n",
       "      <th>97</th>\n",
       "      <td>DHP</td>\n",
       "      <td>Dagging HyperPipes</td>\n",
       "      <td>ENS</td>\n",
       "      <td>1</td>\n",
       "      <td>DHP</td>\n",
       "    </tr>\n",
       "    <tr>\n",
       "      <th>98</th>\n",
       "      <td>FPA</td>\n",
       "      <td>Forest Penalizing Attribute</td>\n",
       "      <td>ENS</td>\n",
       "      <td>1</td>\n",
       "      <td>FPA</td>\n",
       "    </tr>\n",
       "    <tr>\n",
       "      <th>99</th>\n",
       "      <td>GRF</td>\n",
       "      <td>Geographical Random Forest</td>\n",
       "      <td>ENS</td>\n",
       "      <td>1</td>\n",
       "      <td>GRF</td>\n",
       "    </tr>\n",
       "    <tr>\n",
       "      <th>100</th>\n",
       "      <td>GBC</td>\n",
       "      <td>Gradient Boosting Classifier</td>\n",
       "      <td>ENS</td>\n",
       "      <td>1</td>\n",
       "      <td>GBC</td>\n",
       "    </tr>\n",
       "    <tr>\n",
       "      <th>101</th>\n",
       "      <td>MBREPDT</td>\n",
       "      <td>MultiBoostAB Reduced Error Pruning Decision Tree</td>\n",
       "      <td>ENS</td>\n",
       "      <td>1</td>\n",
       "      <td>MBREPDT</td>\n",
       "    </tr>\n",
       "    <tr>\n",
       "      <th>102</th>\n",
       "      <td>DANN</td>\n",
       "      <td>Dagging Artificial Neural Network</td>\n",
       "      <td>ENS</td>\n",
       "      <td>1</td>\n",
       "      <td>DANN</td>\n",
       "    </tr>\n",
       "    <tr>\n",
       "      <th>103</th>\n",
       "      <td>BOSVM</td>\n",
       "      <td>Boosting Support Vector Machine</td>\n",
       "      <td>ENS</td>\n",
       "      <td>1</td>\n",
       "      <td>BOSVM</td>\n",
       "    </tr>\n",
       "    <tr>\n",
       "      <th>104</th>\n",
       "      <td>ABCDT</td>\n",
       "      <td>Adaptative Boosting Credal Decision Tree</td>\n",
       "      <td>ENS</td>\n",
       "      <td>1</td>\n",
       "      <td>ABCDT</td>\n",
       "    </tr>\n",
       "    <tr>\n",
       "      <th>105</th>\n",
       "      <td>ASCANN</td>\n",
       "      <td>Attribute Selected Classifier Artificial Neura...</td>\n",
       "      <td>ENS</td>\n",
       "      <td>1</td>\n",
       "      <td>ASCANN</td>\n",
       "    </tr>\n",
       "    <tr>\n",
       "      <th>106</th>\n",
       "      <td>ABRS</td>\n",
       "      <td>AdaBoost Rough Set</td>\n",
       "      <td>ENS</td>\n",
       "      <td>1</td>\n",
       "      <td>ABRS</td>\n",
       "    </tr>\n",
       "    <tr>\n",
       "      <th>107</th>\n",
       "      <td>ABREPDT</td>\n",
       "      <td>AdaBoost Reduced Error Pruning Decision Tree</td>\n",
       "      <td>ENS</td>\n",
       "      <td>1</td>\n",
       "      <td>ABREPDT</td>\n",
       "    </tr>\n",
       "    <tr>\n",
       "      <th>108</th>\n",
       "      <td>BRSSNBT</td>\n",
       "      <td>Bagging Random SubSpace Naive Bayes Trees</td>\n",
       "      <td>ENS</td>\n",
       "      <td>1</td>\n",
       "      <td>BRSSNBT</td>\n",
       "    </tr>\n",
       "    <tr>\n",
       "      <th>109</th>\n",
       "      <td>BC45DT</td>\n",
       "      <td>Bagging C4.5 Decision Tree</td>\n",
       "      <td>ENS</td>\n",
       "      <td>1</td>\n",
       "      <td>BC45DT</td>\n",
       "    </tr>\n",
       "    <tr>\n",
       "      <th>110</th>\n",
       "      <td>BOC45DT</td>\n",
       "      <td>Boosting C4.5 Decision Tree</td>\n",
       "      <td>ENS</td>\n",
       "      <td>1</td>\n",
       "      <td>BOC45DT</td>\n",
       "    </tr>\n",
       "    <tr>\n",
       "      <th>111</th>\n",
       "      <td>BOANN</td>\n",
       "      <td>Boosting Artificial Neural Network</td>\n",
       "      <td>ENS</td>\n",
       "      <td>1</td>\n",
       "      <td>BOANN</td>\n",
       "    </tr>\n",
       "    <tr>\n",
       "      <th>112</th>\n",
       "      <td>BHP</td>\n",
       "      <td>Bagging HyperPipes</td>\n",
       "      <td>ENS</td>\n",
       "      <td>1</td>\n",
       "      <td>BHP</td>\n",
       "    </tr>\n",
       "    <tr>\n",
       "      <th>113</th>\n",
       "      <td>BRS</td>\n",
       "      <td>Bagging Rough Set</td>\n",
       "      <td>ENS</td>\n",
       "      <td>1</td>\n",
       "      <td>BRS</td>\n",
       "    </tr>\n",
       "    <tr>\n",
       "      <th>114</th>\n",
       "      <td>DB</td>\n",
       "      <td>DeepBoost</td>\n",
       "      <td>ENS</td>\n",
       "      <td>1</td>\n",
       "      <td>DB</td>\n",
       "    </tr>\n",
       "    <tr>\n",
       "      <th>115</th>\n",
       "      <td>DEHP</td>\n",
       "      <td>Decorate HyperPipes</td>\n",
       "      <td>ENS</td>\n",
       "      <td>1</td>\n",
       "      <td>DEHP</td>\n",
       "    </tr>\n",
       "    <tr>\n",
       "      <th>116</th>\n",
       "      <td>EBM</td>\n",
       "      <td>Explainable Boosting Machine</td>\n",
       "      <td>ENS</td>\n",
       "      <td>1</td>\n",
       "      <td>EBM</td>\n",
       "    </tr>\n",
       "    <tr>\n",
       "      <th>117</th>\n",
       "      <td>RSSCDT</td>\n",
       "      <td>Random SubSpace Credal Decision Tree</td>\n",
       "      <td>ENS</td>\n",
       "      <td>1</td>\n",
       "      <td>RSSCDT</td>\n",
       "    </tr>\n",
       "    <tr>\n",
       "      <th>118</th>\n",
       "      <td>TNN</td>\n",
       "      <td>Transformer Neural Network</td>\n",
       "      <td>NN</td>\n",
       "      <td>1</td>\n",
       "      <td>TNN</td>\n",
       "    </tr>\n",
       "    <tr>\n",
       "      <th>119</th>\n",
       "      <td>SRU</td>\n",
       "      <td>Simple Recurrent Unit</td>\n",
       "      <td>NN</td>\n",
       "      <td>1</td>\n",
       "      <td>SRU</td>\n",
       "    </tr>\n",
       "    <tr>\n",
       "      <th>120</th>\n",
       "      <td>RBM</td>\n",
       "      <td>Restricted Boltzman Machine</td>\n",
       "      <td>NN</td>\n",
       "      <td>1</td>\n",
       "      <td>RBM</td>\n",
       "    </tr>\n",
       "    <tr>\n",
       "      <th>121</th>\n",
       "      <td>PA</td>\n",
       "      <td>Passive Aggressive Classifier</td>\n",
       "      <td>NN</td>\n",
       "      <td>1</td>\n",
       "      <td>PA</td>\n",
       "    </tr>\n",
       "    <tr>\n",
       "      <th>122</th>\n",
       "      <td>DCN</td>\n",
       "      <td>Dense Convolutional Networks</td>\n",
       "      <td>NN</td>\n",
       "      <td>1</td>\n",
       "      <td>DCN</td>\n",
       "    </tr>\n",
       "    <tr>\n",
       "      <th>123</th>\n",
       "      <td>BTN</td>\n",
       "      <td>Bottleneck Transformer Network</td>\n",
       "      <td>NN</td>\n",
       "      <td>1</td>\n",
       "      <td>BTN</td>\n",
       "    </tr>\n",
       "    <tr>\n",
       "      <th>124</th>\n",
       "      <td>SF</td>\n",
       "      <td>SysFor</td>\n",
       "      <td>ENS</td>\n",
       "      <td>1</td>\n",
       "      <td>SF</td>\n",
       "    </tr>\n",
       "    <tr>\n",
       "      <th>125</th>\n",
       "      <td>ROFCDT</td>\n",
       "      <td>Rotation Forest Credal Decision Tree</td>\n",
       "      <td>ENS</td>\n",
       "      <td>1</td>\n",
       "      <td>ROFCDT</td>\n",
       "    </tr>\n",
       "    <tr>\n",
       "      <th>126</th>\n",
       "      <td>RABHP</td>\n",
       "      <td>Real AdaBoost HyperPipes</td>\n",
       "      <td>ENS</td>\n",
       "      <td>1</td>\n",
       "      <td>RABHP</td>\n",
       "    </tr>\n",
       "    <tr>\n",
       "      <th>127</th>\n",
       "      <td>RTC</td>\n",
       "      <td>Random Trees Classifier</td>\n",
       "      <td>ENS</td>\n",
       "      <td>1</td>\n",
       "      <td>RTC</td>\n",
       "    </tr>\n",
       "    <tr>\n",
       "      <th>128</th>\n",
       "      <td>RABREPDT</td>\n",
       "      <td>Real AdaBoost Reduced Error Pruning Tree</td>\n",
       "      <td>ENS</td>\n",
       "      <td>1</td>\n",
       "      <td>RABREPDT</td>\n",
       "    </tr>\n",
       "    <tr>\n",
       "      <th>129</th>\n",
       "      <td>RSSREPDT</td>\n",
       "      <td>Random SubSpace Reduced Error Pruning Decision...</td>\n",
       "      <td>ENS</td>\n",
       "      <td>1</td>\n",
       "      <td>RSSREPDT</td>\n",
       "    </tr>\n",
       "    <tr>\n",
       "      <th>130</th>\n",
       "      <td>ROFREPDT</td>\n",
       "      <td>Rotational Forest Reduced Error Pruning Decisi...</td>\n",
       "      <td>ENS</td>\n",
       "      <td>1</td>\n",
       "      <td>ROFREPDT</td>\n",
       "    </tr>\n",
       "    <tr>\n",
       "      <th>131</th>\n",
       "      <td>HP</td>\n",
       "      <td>HyperPipes</td>\n",
       "      <td>IB</td>\n",
       "      <td>1</td>\n",
       "      <td>HP</td>\n",
       "    </tr>\n",
       "    <tr>\n",
       "      <th>132</th>\n",
       "      <td>RFM</td>\n",
       "      <td>Random Forest Machine</td>\n",
       "      <td>ENS</td>\n",
       "      <td>1</td>\n",
       "      <td>RFM</td>\n",
       "    </tr>\n",
       "    <tr>\n",
       "      <th>133</th>\n",
       "      <td>RSSANN</td>\n",
       "      <td>Random SubSpace Artificial Neural Network</td>\n",
       "      <td>ENS</td>\n",
       "      <td>1</td>\n",
       "      <td>RSSANN</td>\n",
       "    </tr>\n",
       "    <tr>\n",
       "      <th>134</th>\n",
       "      <td>SE</td>\n",
       "      <td>Shannon Entropy</td>\n",
       "      <td>LR</td>\n",
       "      <td>1</td>\n",
       "      <td>SE</td>\n",
       "    </tr>\n",
       "    <tr>\n",
       "      <th>135</th>\n",
       "      <td>RS</td>\n",
       "      <td>Rough Set</td>\n",
       "      <td>RS</td>\n",
       "      <td>1</td>\n",
       "      <td>RS</td>\n",
       "    </tr>\n",
       "    <tr>\n",
       "      <th>136</th>\n",
       "      <td>GARP</td>\n",
       "      <td>Genetic Algorithm Rule-Set Production</td>\n",
       "      <td>RS</td>\n",
       "      <td>1</td>\n",
       "      <td>GARP</td>\n",
       "    </tr>\n",
       "    <tr>\n",
       "      <th>137</th>\n",
       "      <td>GAMI</td>\n",
       "      <td>Generalized Additive Models with Structured In...</td>\n",
       "      <td>NN</td>\n",
       "      <td>1</td>\n",
       "      <td>GAMI</td>\n",
       "    </tr>\n",
       "    <tr>\n",
       "      <th>138</th>\n",
       "      <td>ILBN</td>\n",
       "      <td>Incremental Learning Bayesian Network</td>\n",
       "      <td>BAY</td>\n",
       "      <td>0</td>\n",
       "      <td>ILBN</td>\n",
       "    </tr>\n",
       "    <tr>\n",
       "      <th>139</th>\n",
       "      <td>BFT</td>\n",
       "      <td>Baggin Functional Trees</td>\n",
       "      <td>ENS</td>\n",
       "      <td>0</td>\n",
       "      <td>BFT</td>\n",
       "    </tr>\n",
       "    <tr>\n",
       "      <th>140</th>\n",
       "      <td>M5P</td>\n",
       "      <td>M5 model trees</td>\n",
       "      <td>DT</td>\n",
       "      <td>0</td>\n",
       "      <td>M5P</td>\n",
       "    </tr>\n",
       "    <tr>\n",
       "      <th>141</th>\n",
       "      <td>BOLMT</td>\n",
       "      <td>Boosting Logistic Model Tree</td>\n",
       "      <td>ENS</td>\n",
       "      <td>0</td>\n",
       "      <td>BOLMT</td>\n",
       "    </tr>\n",
       "    <tr>\n",
       "      <th>142</th>\n",
       "      <td>MBADT</td>\n",
       "      <td>MultiBoost Alternating Decision Trees</td>\n",
       "      <td>ENS</td>\n",
       "      <td>0</td>\n",
       "      <td>MBADT</td>\n",
       "    </tr>\n",
       "    <tr>\n",
       "      <th>143</th>\n",
       "      <td>DADT</td>\n",
       "      <td>Dagging Alternating Decision Trees</td>\n",
       "      <td>ENS</td>\n",
       "      <td>0</td>\n",
       "      <td>DADT</td>\n",
       "    </tr>\n",
       "    <tr>\n",
       "      <th>144</th>\n",
       "      <td>BLMT</td>\n",
       "      <td>Bagging Logistic Model Tree</td>\n",
       "      <td>ENS</td>\n",
       "      <td>0</td>\n",
       "      <td>BLMT</td>\n",
       "    </tr>\n",
       "    <tr>\n",
       "      <th>145</th>\n",
       "      <td>RSSFT</td>\n",
       "      <td>Random SubSpace Functional Trees</td>\n",
       "      <td>ENS</td>\n",
       "      <td>0</td>\n",
       "      <td>RSSFT</td>\n",
       "    </tr>\n",
       "    <tr>\n",
       "      <th>146</th>\n",
       "      <td>RSSC45DT</td>\n",
       "      <td>Random SubSpace C4.5 Decision Tree</td>\n",
       "      <td>ENS</td>\n",
       "      <td>0</td>\n",
       "      <td>RSSC45DT</td>\n",
       "    </tr>\n",
       "    <tr>\n",
       "      <th>147</th>\n",
       "      <td>RSSADT</td>\n",
       "      <td>Random SubSpace Alternating Decision Trees</td>\n",
       "      <td>ENS</td>\n",
       "      <td>0</td>\n",
       "      <td>RSSADT</td>\n",
       "    </tr>\n",
       "    <tr>\n",
       "      <th>148</th>\n",
       "      <td>RFLMT</td>\n",
       "      <td>Random Forest Logistic Model Tree</td>\n",
       "      <td>ENS</td>\n",
       "      <td>0</td>\n",
       "      <td>RFLMT</td>\n",
       "    </tr>\n",
       "    <tr>\n",
       "      <th>149</th>\n",
       "      <td>ResNN</td>\n",
       "      <td>Residual Neural Network</td>\n",
       "      <td>NN</td>\n",
       "      <td>0</td>\n",
       "      <td>ResNN</td>\n",
       "    </tr>\n",
       "  </tbody>\n",
       "</table>\n",
       "</div>"
      ],
      "text/plain": [
       "          Tag                                          Full Name Category  \\\n",
       "0          RF                                      Random Forest      ENS   \n",
       "1         SVM                             Support Vector Machine      SVM   \n",
       "2        LOGR                                Logistic Regression       LR   \n",
       "3         ANN                          Artificial Neural Network       NN   \n",
       "4         CNN                       Convolutional Neural Network       NN   \n",
       "5         XGB                          Extreme Gradient Boosting      ENS   \n",
       "6         DNN                                Deep Neural Network       NN   \n",
       "7         KNN                                 K-Nearest-Neighbor       IB   \n",
       "8          NB                                        Naive Bayes      BAY   \n",
       "9          DT                                     Decision Trees       DT   \n",
       "10       GBDT                    Gradient Boosted Decision Trees      ENS   \n",
       "11      STACK                        Stacking of multiple models      ENS   \n",
       "12       MENT                                    Maximum Entropy       LR   \n",
       "13        RNN                           Recurrent Neural Network       NN   \n",
       "14         AB                                           AdaBoost      ENS   \n",
       "15        BDT                             Bagging Decision Trees      ENS   \n",
       "16        LDA                       Linear Discriminant Analysis      ENS   \n",
       "17        BRT                            Boosted Regression Tree      ENS   \n",
       "18         FR                                    Frequency Ratio     STAT   \n",
       "19      C50DT                                C5.0 Decision Trees       DT   \n",
       "20        GLM                               General Linear Model       LR   \n",
       "21        ADT                         Alternating Decision Trees       DT   \n",
       "22       LGBM                    Light Gradient Boosting Machine      ENS   \n",
       "23         LR                                  Linear Regression       LR   \n",
       "24      ANFIS              Adaptive Neuro-Fuzzy Inference System       NN   \n",
       "25        DBN                                Deep Belief Network       NN   \n",
       "26        ROF                                    ROtation forest      ENS   \n",
       "27        LMT                                Logistic Model Tree       DT   \n",
       "28        GBM                         Generalized Boosting Model      ENS   \n",
       "29       MARS            Multivariate Adaptive Regression Spline       LR   \n",
       "30        RSS                                    Random SubSpace       NN   \n",
       "31        QDA                    Quadratic Discriminant Analysis       DR   \n",
       "33        ERT                         Extremely Randomized Trees      ENS   \n",
       "34        SGD                        Stochastic Gradient Descent       LR   \n",
       "35        NBT                                  Naive Bayes Trees       DT   \n",
       "36      REPDT                Reduced Error Pruning Decision Tree       DT   \n",
       "37         KM                                             KMeans    CLUST   \n",
       "38         BN                                   Bayesian Network      BAY   \n",
       "39         CB                                           CatBoost      ENS   \n",
       "40        GAM                             General Additive Model       LR   \n",
       "41         AE                                       AutoEncoders       NN   \n",
       "42       MBDT                          MultiBoost Decision Trees      ENS   \n",
       "43        CDT                              Credal Decision Trees      ENS   \n",
       "44       ABDT                            AdaBoost Decision Trees      ENS   \n",
       "45        SVR                          Support Vector Regression      SVM   \n",
       "46      MLPNN               MultiLayer Perceptron Neural Network       NN   \n",
       "47        JDT                                  J48 Decision Tree       DT   \n",
       "48       FLDA                     Flexible Discriminant Analysis       DR   \n",
       "49      KLOGR                         Kernel Logistic Regression       LR   \n",
       "50         HC                            Hierarchical Clustering    CLUST   \n",
       "51       MIDA                      MIxture Discriminant Analysis       DR   \n",
       "52       BFDT                          Best First Decision Trees       DT   \n",
       "53      CHAID        CHi-squared Automatic Interaction Detection       DT   \n",
       "54       BODT                            Boosting Decision Trees      ENS   \n",
       "55       BANN                  Bagging Artificial Neural Network      ENS   \n",
       "56        DDT                             Dagging Decision Trees      ENS   \n",
       "57        BRF                              Bagging Random Forest      ENS   \n",
       "58      CGANN   Cascade Generalization Artificial Neural Network      ENS   \n",
       "59      CHAID        CHi-squared automatic interaction detection      ENS   \n",
       "60       LOGB                                     Logit Boosting      ENS   \n",
       "61        DDT                            Decorate Decision Trees      ENS   \n",
       "62       FUDA                   Functional Discriminant Analysis       DR   \n",
       "63      BLOGR                       Bayesian Logistic Regression      BAY   \n",
       "64      RSSRF                      Random SubSpace Random Forest      ENS   \n",
       "65        ViT                                 Vision Transformer       NN   \n",
       "66      RSSDT                     Random SubSpace Decision Trees      ENS   \n",
       "67       RBFN                     Radial Basis Function Networks       NN   \n",
       "68        GRU                               Gated Recurrent Unit       NN   \n",
       "69      ROFRF                      Rotation forest Random Forest      ENS   \n",
       "70     BREPDT        Bagging Reduced Error Pruning Decision Tree      ENS   \n",
       "71         HT                                    Hoeffding Trees       DT   \n",
       "72        DTC                          Decision Table Classifier       DT   \n",
       "73         FT                                   Functional Trees       DT   \n",
       "74        PUB                         Positive Unlabeled Bagging    CLUST   \n",
       "75        MDA                 Multivariate Discriminant Analysis       DR   \n",
       "76        DBS                                             DBScan    CLUST   \n",
       "77      C45DT                                 C4.5 Decision Tree       DT   \n",
       "78      RFANN            Random Forest Artificial Neural Network      ENS   \n",
       "79         IF                                    Isolated Forest      ENS   \n",
       "80       BSVM                     Bagging Support Vector Machine      ENS   \n",
       "81       BCDT                        Baggin Credal Decision Tree      ENS   \n",
       "82      ABVFI                  AdaBoost Voting Feature Intervals      ENS   \n",
       "83       ABHP                                AdaBoost HyperPipes      ENS   \n",
       "84      ABADT                AdaBoost Alternating Decision Trees      ENS   \n",
       "85        ABC                                AdaBoost Classifier      ENS   \n",
       "86        PER                                         Perceptron       NN   \n",
       "87        HNN                        Hierarchical Neural Network       NN   \n",
       "88    ELANFIS  Extreme Learning Adaptive Neuro-Fuzzy Inferenc...       NN   \n",
       "89        GCN                        Graph Convolutional Network       NN   \n",
       "90        VFI                           Voting Feature Intervals       IB   \n",
       "91        SGB                       Stochastic Gradient Boosting      ENS   \n",
       "92      MBVFI                MultiBoost Voting Feature Intervals      ENS   \n",
       "93        NGB                          Natural Gradient Boosting      ENS   \n",
       "94      DECDT                      Decorate Credal Decision Tree      ENS   \n",
       "95       DCDT                       Dagging Credal Decision Tree      ENS   \n",
       "96    DAREPDT        Dagging Reduced Error Pruning Decision Tree      ENS   \n",
       "97        DHP                                 Dagging HyperPipes      ENS   \n",
       "98        FPA                        Forest Penalizing Attribute      ENS   \n",
       "99        GRF                         Geographical Random Forest      ENS   \n",
       "100       GBC                       Gradient Boosting Classifier      ENS   \n",
       "101   MBREPDT   MultiBoostAB Reduced Error Pruning Decision Tree      ENS   \n",
       "102      DANN                  Dagging Artificial Neural Network      ENS   \n",
       "103     BOSVM                    Boosting Support Vector Machine      ENS   \n",
       "104     ABCDT           Adaptative Boosting Credal Decision Tree      ENS   \n",
       "105    ASCANN  Attribute Selected Classifier Artificial Neura...      ENS   \n",
       "106      ABRS                                 AdaBoost Rough Set      ENS   \n",
       "107   ABREPDT       AdaBoost Reduced Error Pruning Decision Tree      ENS   \n",
       "108   BRSSNBT          Bagging Random SubSpace Naive Bayes Trees      ENS   \n",
       "109    BC45DT                         Bagging C4.5 Decision Tree      ENS   \n",
       "110   BOC45DT                        Boosting C4.5 Decision Tree      ENS   \n",
       "111     BOANN                 Boosting Artificial Neural Network      ENS   \n",
       "112       BHP                                 Bagging HyperPipes      ENS   \n",
       "113       BRS                                  Bagging Rough Set      ENS   \n",
       "114        DB                                          DeepBoost      ENS   \n",
       "115      DEHP                                Decorate HyperPipes      ENS   \n",
       "116       EBM                       Explainable Boosting Machine      ENS   \n",
       "117    RSSCDT               Random SubSpace Credal Decision Tree      ENS   \n",
       "118       TNN                         Transformer Neural Network       NN   \n",
       "119       SRU                              Simple Recurrent Unit       NN   \n",
       "120       RBM                        Restricted Boltzman Machine       NN   \n",
       "121        PA                      Passive Aggressive Classifier       NN   \n",
       "122       DCN                       Dense Convolutional Networks       NN   \n",
       "123       BTN                     Bottleneck Transformer Network       NN   \n",
       "124        SF                                             SysFor      ENS   \n",
       "125    ROFCDT               Rotation Forest Credal Decision Tree      ENS   \n",
       "126     RABHP                           Real AdaBoost HyperPipes      ENS   \n",
       "127       RTC                            Random Trees Classifier      ENS   \n",
       "128  RABREPDT           Real AdaBoost Reduced Error Pruning Tree      ENS   \n",
       "129  RSSREPDT  Random SubSpace Reduced Error Pruning Decision...      ENS   \n",
       "130  ROFREPDT  Rotational Forest Reduced Error Pruning Decisi...      ENS   \n",
       "131        HP                                         HyperPipes       IB   \n",
       "132       RFM                              Random Forest Machine      ENS   \n",
       "133    RSSANN          Random SubSpace Artificial Neural Network      ENS   \n",
       "134        SE                                    Shannon Entropy       LR   \n",
       "135        RS                                          Rough Set       RS   \n",
       "136      GARP              Genetic Algorithm Rule-Set Production       RS   \n",
       "137      GAMI  Generalized Additive Models with Structured In...       NN   \n",
       "138      ILBN              Incremental Learning Bayesian Network      BAY   \n",
       "139       BFT                            Baggin Functional Trees      ENS   \n",
       "140       M5P                                     M5 model trees       DT   \n",
       "141     BOLMT                       Boosting Logistic Model Tree      ENS   \n",
       "142     MBADT              MultiBoost Alternating Decision Trees      ENS   \n",
       "143      DADT                 Dagging Alternating Decision Trees      ENS   \n",
       "144      BLMT                        Bagging Logistic Model Tree      ENS   \n",
       "145     RSSFT                   Random SubSpace Functional Trees      ENS   \n",
       "146  RSSC45DT                 Random SubSpace C4.5 Decision Tree      ENS   \n",
       "147    RSSADT         Random SubSpace Alternating Decision Trees      ENS   \n",
       "148     RFLMT                  Random Forest Logistic Model Tree      ENS   \n",
       "149     ResNN                            Residual Neural Network       NN   \n",
       "\n",
       "     Count Filtered Tag  \n",
       "0      200           RF  \n",
       "1      151          SVM  \n",
       "2      108         LOGR  \n",
       "3      106          ANN  \n",
       "4       48          CNN  \n",
       "5       43          XGB  \n",
       "6       34          DNN  \n",
       "7       29          KNN  \n",
       "8       29           NB  \n",
       "9       27           DT  \n",
       "10      20         GBDT  \n",
       "11      17        STACK  \n",
       "12      15         MENT  \n",
       "13      15          RNN  \n",
       "14      14           AB  \n",
       "15      10          BDT  \n",
       "16      10          LDA  \n",
       "17      10          BRT  \n",
       "18      10           FR  \n",
       "19       9        C50DT  \n",
       "20       9          GLM  \n",
       "21       8          ADT  \n",
       "22       8         LGBM  \n",
       "23       8           LR  \n",
       "24       8        ANFIS  \n",
       "25       8          DBN  \n",
       "26       8          ROF  \n",
       "27       8          LMT  \n",
       "28       8          GBM  \n",
       "29       7         MARS  \n",
       "30       6          RSS  \n",
       "31       6          QDA  \n",
       "33       5          ERT  \n",
       "34       5          SGD  \n",
       "35       4          NBT  \n",
       "36       4        REPDT  \n",
       "37       4           KM  \n",
       "38       4           BN  \n",
       "39       4           CB  \n",
       "40       3          GAM  \n",
       "41       3           AE  \n",
       "42       3         MBDT  \n",
       "43       3          CDT  \n",
       "44       3         ABDT  \n",
       "45       3          SVR  \n",
       "46       3        MLPNN  \n",
       "47       3          JDT  \n",
       "48       3         FLDA  \n",
       "49       3        KLOGR  \n",
       "50       3           HC  \n",
       "51       3         MIDA  \n",
       "52       2         BFDT  \n",
       "53       2        CHAID  \n",
       "54       2         BODT  \n",
       "55       2         BANN  \n",
       "56       2          DDT  \n",
       "57       2          BRF  \n",
       "58       2        CGANN  \n",
       "59       2        CHAID  \n",
       "60       2         LOGB  \n",
       "61       2          DDT  \n",
       "62       2         FUDA  \n",
       "63       2        BLOGR  \n",
       "64       2        RSSRF  \n",
       "65       2          ViT  \n",
       "66       2        RSSDT  \n",
       "67       2         RBFN  \n",
       "68       2          GRU  \n",
       "69       2        ROFRF  \n",
       "70       2       BREPDT  \n",
       "71       1           HT  \n",
       "72       1          DTC  \n",
       "73       1           FT  \n",
       "74       1          PUB  \n",
       "75       1          MDA  \n",
       "76       1          DBS  \n",
       "77       1        C45DT  \n",
       "78       1        RFANN  \n",
       "79       1           IF  \n",
       "80       1         BSVM  \n",
       "81       1         BCDT  \n",
       "82       1        ABVFI  \n",
       "83       1         ABHP  \n",
       "84       1        ABADT  \n",
       "85       1          ABC  \n",
       "86       1          PER  \n",
       "87       1          HNN  \n",
       "88       1      ELANFIS  \n",
       "89       1          GCN  \n",
       "90       1          VFI  \n",
       "91       1          SGB  \n",
       "92       1        MBVFI  \n",
       "93       1          NGB  \n",
       "94       1        DECDT  \n",
       "95       1         DCDT  \n",
       "96       1      DAREPDT  \n",
       "97       1          DHP  \n",
       "98       1          FPA  \n",
       "99       1          GRF  \n",
       "100      1          GBC  \n",
       "101      1      MBREPDT  \n",
       "102      1         DANN  \n",
       "103      1        BOSVM  \n",
       "104      1        ABCDT  \n",
       "105      1       ASCANN  \n",
       "106      1         ABRS  \n",
       "107      1      ABREPDT  \n",
       "108      1      BRSSNBT  \n",
       "109      1       BC45DT  \n",
       "110      1      BOC45DT  \n",
       "111      1        BOANN  \n",
       "112      1          BHP  \n",
       "113      1          BRS  \n",
       "114      1           DB  \n",
       "115      1         DEHP  \n",
       "116      1          EBM  \n",
       "117      1       RSSCDT  \n",
       "118      1          TNN  \n",
       "119      1          SRU  \n",
       "120      1          RBM  \n",
       "121      1           PA  \n",
       "122      1          DCN  \n",
       "123      1          BTN  \n",
       "124      1           SF  \n",
       "125      1       ROFCDT  \n",
       "126      1        RABHP  \n",
       "127      1          RTC  \n",
       "128      1     RABREPDT  \n",
       "129      1     RSSREPDT  \n",
       "130      1     ROFREPDT  \n",
       "131      1           HP  \n",
       "132      1          RFM  \n",
       "133      1       RSSANN  \n",
       "134      1           SE  \n",
       "135      1           RS  \n",
       "136      1         GARP  \n",
       "137      1         GAMI  \n",
       "138      0         ILBN  \n",
       "139      0          BFT  \n",
       "140      0          M5P  \n",
       "141      0        BOLMT  \n",
       "142      0        MBADT  \n",
       "143      0         DADT  \n",
       "144      0         BLMT  \n",
       "145      0        RSSFT  \n",
       "146      0     RSSC45DT  \n",
       "147      0       RSSADT  \n",
       "148      0        RFLMT  \n",
       "149      0        ResNN  "
      ]
     },
     "execution_count": 73,
     "metadata": {},
     "output_type": "execute_result"
    }
   ],
   "source": [
    "landslides_counts"
   ]
  }
 ],
 "metadata": {
  "kernelspec": {
   "display_name": "Python 3 (ipykernel)",
   "language": "python",
   "name": "python3"
  },
  "language_info": {
   "codemirror_mode": {
    "name": "ipython",
    "version": 3
   },
   "file_extension": ".py",
   "mimetype": "text/x-python",
   "name": "python",
   "nbconvert_exporter": "python",
   "pygments_lexer": "ipython3",
   "version": "3.11.0"
  }
 },
 "nbformat": 4,
 "nbformat_minor": 5
}
